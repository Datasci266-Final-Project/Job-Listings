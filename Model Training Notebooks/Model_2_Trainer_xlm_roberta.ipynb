{
  "cells": [
    {
      "cell_type": "markdown",
      "metadata": {
        "id": "view-in-github",
        "colab_type": "text"
      },
      "source": [
        "<a href=\"https://colab.research.google.com/github/Datasci266-Final-Project/Job-Listings/blob/main/Model%20Training%20Notebooks/Model_2_Trainer_xlm_roberta.ipynb\" target=\"_parent\"><img src=\"https://colab.research.google.com/assets/colab-badge.svg\" alt=\"Open In Colab\"/></a>"
      ]
    },
    {
      "cell_type": "code",
      "execution_count": null,
      "metadata": {
        "colab": {
          "base_uri": "https://localhost:8080/"
        },
        "id": "ZEs5pbHpSTOA",
        "outputId": "9d47f8db-087e-43f6-e87a-1c8736206063"
      },
      "outputs": [
        {
          "name": "stdout",
          "output_type": "stream",
          "text": [
            "\u001b[2K     \u001b[90m━━━━━━━━━━━━━━━━━━━━━━━━━━━━━━━━━━━━━━━━\u001b[0m \u001b[32m8.4/8.4 MB\u001b[0m \u001b[31m23.3 MB/s\u001b[0m eta \u001b[36m0:00:00\u001b[0m\n",
            "\u001b[2K     \u001b[90m━━━━━━━━━━━━━━━━━━━━━━━━━━━━━━━━━━━━━━━━\u001b[0m \u001b[32m258.0/258.0 kB\u001b[0m \u001b[31m6.1 MB/s\u001b[0m eta \u001b[36m0:00:00\u001b[0m\n",
            "\u001b[?25h"
          ]
        }
      ],
      "source": [
        "#@title Installs\n",
        "\n",
        "!pip install pydot --quiet\n",
        "!pip install transformers==4.37.2 --quiet\n",
        "!pip install -U imbalanced-learn --quiet"
      ]
    },
    {
      "cell_type": "code",
      "execution_count": null,
      "metadata": {
        "id": "WRAfKTehSgxQ"
      },
      "outputs": [],
      "source": [
        "#@title Imports\n",
        "import pandas as pd\n",
        "\n",
        "import numpy as np\n",
        "import random\n",
        "import torch\n",
        "\n",
        "import tensorflow as tf\n",
        "from tensorflow import keras\n",
        "\n",
        "from tensorflow.keras.layers import Embedding, Input, Dense, Lambda, Dropout\n",
        "from tensorflow.keras.models import Model\n",
        "import tensorflow.keras.backend as K\n",
        "import tensorflow_datasets as tfds\n",
        "\n",
        "from imblearn.over_sampling import RandomOverSampler\n",
        "from imblearn.under_sampling import RandomUnderSampler\n",
        "from imblearn.over_sampling import SMOTE\n",
        "\n",
        "import sklearn as sk\n",
        "import os\n",
        "import nltk\n",
        "from nltk.data import find\n",
        "\n",
        "import matplotlib.pyplot as plt\n",
        "\n",
        "import re\n",
        "from sklearn.model_selection import train_test_split\n",
        "\n",
        "from transformers import BertTokenizer, TFBertModel, AutoTokenizer, TFXLMRobertaModel #\"FacebookAI/xlm-roberta-base\"\n",
        "\n",
        "from transformers import logging\n",
        "logging.set_verbosity_error()\n",
        "\n",
        "from collections import Counter\n",
        "\n",
        "import pickle"
      ]
    },
    {
      "cell_type": "code",
      "execution_count": null,
      "metadata": {
        "id": "rHlaNR4jf5xH"
      },
      "outputs": [],
      "source": [
        "# Set seed to 10\n",
        "\n",
        "seed_value = 10\n",
        "\n",
        "random.seed(seed_value)\n",
        "np.random.seed(seed_value)\n",
        "torch.manual_seed(seed_value)\n",
        "torch.cuda.manual_seed_all(seed_value)\n",
        "tf.random.set_seed(seed_value)"
      ]
    },
    {
      "cell_type": "code",
      "execution_count": null,
      "metadata": {
        "colab": {
          "base_uri": "https://localhost:8080/"
        },
        "id": "W6vCIEn8Sgzq",
        "outputId": "3ee8fe4e-2d84-47d7-cf81-aca226e3a280"
      },
      "outputs": [
        {
          "name": "stdout",
          "output_type": "stream",
          "text": [
            "Mounted at /content/drive\n",
            "/content/drive/.shortcut-targets-by-id/1V3QooLePiHR_DaZhbXQhsjmP1Ez5fv5F/DataSci 266 Project\n"
          ]
        }
      ],
      "source": [
        "from google.colab import drive\n",
        "drive.mount('/content/drive')\n",
        "\n",
        "%cd /content/drive/My Drive/DataSci 266 Project\n",
        "\n",
        "column_names = ['index','title','text','level','salary']\n"
      ]
    },
    {
      "cell_type": "code",
      "execution_count": null,
      "metadata": {
        "id": "yplFUNQWSmCA"
      },
      "outputs": [],
      "source": [
        "pd.set_option('display.max_colwidth', 10000)"
      ]
    },
    {
      "cell_type": "code",
      "execution_count": null,
      "metadata": {
        "id": "NguVcfYweKGI"
      },
      "outputs": [],
      "source": [
        "# Dictionaries\n",
        "level_key = {\n",
        "    \"student_intern\": 0,\n",
        "    \"entry\": 1,\n",
        "    \"junior\": 2,\n",
        "    \"mid\": 3,\n",
        "    \"senior\": 4,\n",
        "    \"executive\": 5,\n",
        "    np.nan: -1\n",
        "}\n",
        "\n",
        "# Define salary_key dictionary\n",
        "# salary_key = {\n",
        "#     \"<45k\": 0,\n",
        "#     \"45-65k\": 1,\n",
        "#     \"65-85k\": 2,\n",
        "#     \"85-110k\": 3,\n",
        "#     \"110-150k\": 4,\n",
        "#     \"150-200k\": 5,\n",
        "#     \">200k\": 6,\n",
        "#     np.nan: -1\n",
        "# }\n",
        "\n",
        "salary_key = {\n",
        "    \"<50k\": 0,\n",
        "    \"50-100k\": 1,\n",
        "    \"100-150k\": 2,\n",
        "    \"150-200k\": 3,\n",
        "    \">200k\": 4,\n",
        "    np.nan: -1\n",
        "}\n"
      ]
    },
    {
      "cell_type": "code",
      "execution_count": null,
      "metadata": {
        "id": "G_UfkhAvKypz"
      },
      "outputs": [],
      "source": [
        "#@title Import Tokens, Labels, Data\n",
        "\n",
        "# data\n",
        "with open(r'Model Objects/train_final_df.pickle', 'rb') as handle:\n",
        "    train_data = pickle.load(handle)\n",
        "with open(r'Model Objects/test_data.pickle', 'rb') as handle:\n",
        "    test_data = pickle.load(handle)\n",
        "with open(r'Model Objects/val_data.pickle', 'rb') as handle:\n",
        "    val_data = pickle.load(handle)\n",
        "\n",
        "\n",
        "# labels\n",
        "with open(r'Model Objects/Labels/model_2_labels_level_train.pickle', 'rb') as handle:\n",
        "    train_level_labels = pickle.load(handle)\n",
        "\n",
        "with open(r'Model Objects/Labels/model_2_labels_salary_train.pickle', 'rb') as handle:\n",
        "    train_salary_labels = pickle.load(handle)\n",
        "\n",
        "\n",
        "with open(r'Model Objects/Labels/model_2_labels_level_test.pickle', 'rb') as handle:\n",
        "    test_level_labels = pickle.load(handle)\n",
        "\n",
        "with open(r'Model Objects/Labels/model_2_labels_salary_test.pickle', 'rb') as handle:\n",
        "    test_salary_labels = pickle.load(handle)\n",
        "\n",
        "\n",
        "with open(r'Model Objects/Labels/model_2_labels_level_val.pickle', 'rb') as handle:\n",
        "    val_level_labels = pickle.load(handle)\n",
        "\n",
        "with open(r'Model Objects/Labels/model_2_labels_salary_val.pickle', 'rb') as handle:\n",
        "    val_salary_labels = pickle.load(handle)\n",
        "\n",
        "\n",
        "# tokenized inputs\n",
        "with open(r'Model Objects/Tokenized Inputs: xlm-RoBERTa/model_2_train_inputs_xlm_roberta.pickle', 'rb') as handle:\n",
        "    train_inputs = pickle.load(handle)\n",
        "\n",
        "with open(r'Model Objects/Tokenized Inputs: xlm-RoBERTa/test_inputs_xlm_roberta.pickle', 'rb') as handle:\n",
        "    test_inputs = pickle.load(handle)\n",
        "\n",
        "with open(r'Model Objects/Tokenized Inputs: xlm-RoBERTa/val_inputs_xlm_roberta.pickle', 'rb') as handle:\n",
        "    val_inputs = pickle.load(handle)"
      ]
    },
    {
      "cell_type": "code",
      "execution_count": null,
      "metadata": {
        "colab": {
          "base_uri": "https://localhost:8080/",
          "height": 185,
          "referenced_widgets": [
            "6563cafc4cdf4a2e8196be01e40eec2c",
            "984a6ed87fc74ec5903ba49aef266953",
            "e6d54ca502cb42f2a5fbfa382d54ed2a",
            "297d7c1e41d0459c98b94247dd4c8bf3",
            "b8c67a290d174e999eaeecb8a0753ec6",
            "ddd57f75a7324a99ac36a74071365d49",
            "9826f17792104cfcbefe56f7841c762e",
            "957c1808985147f08b98c06037d8f843",
            "207ef03bcc264800ac4fb9de794e4148",
            "d8dda0a34b744b92b4f10d9eee5aedf8",
            "c85463ffbace449bacf5b08d56bcb5d6",
            "8fa86df4ddba4d40b39c08882d7cced0",
            "e2026919017847dba085a133445eba20",
            "1803c6b2eb9b48d59b9bcb752fed9a7f",
            "413502fcac114dc7b5be1cf56fcf2516",
            "63e9138b8c9146ecb61ec757b510999b",
            "0fe18453c3214766b45754d47be82bf8",
            "694b6754e0b8459a8119d8bd764266b0",
            "ffbf27dc54ee4f1bbf9256f58e3956b9",
            "71c25e6a813c4200bc69c46e7ed8fe9b",
            "f5602ee5a246468bad44a928fc599607",
            "0dccb29f8d59464b984a89269cca2f3b"
          ]
        },
        "id": "QBbeLBLWTfva",
        "outputId": "294a6b07-afe1-4aef-d9a1-15b53a874707"
      },
      "outputs": [
        {
          "name": "stderr",
          "output_type": "stream",
          "text": [
            "/usr/local/lib/python3.10/dist-packages/huggingface_hub/utils/_token.py:88: UserWarning: \n",
            "The secret `HF_TOKEN` does not exist in your Colab secrets.\n",
            "To authenticate with the Hugging Face Hub, create a token in your settings tab (https://huggingface.co/settings/tokens), set it as secret in your Google Colab and restart your session.\n",
            "You will be able to reuse this secret in all of your notebooks.\n",
            "Please note that authentication is recommended but still optional to access public models or datasets.\n",
            "  warnings.warn(\n"
          ]
        },
        {
          "data": {
            "application/vnd.jupyter.widget-view+json": {
              "model_id": "6563cafc4cdf4a2e8196be01e40eec2c",
              "version_major": 2,
              "version_minor": 0
            },
            "text/plain": [
              "config.json:   0%|          | 0.00/615 [00:00<?, ?B/s]"
            ]
          },
          "metadata": {},
          "output_type": "display_data"
        },
        {
          "data": {
            "application/vnd.jupyter.widget-view+json": {
              "model_id": "8fa86df4ddba4d40b39c08882d7cced0",
              "version_major": 2,
              "version_minor": 0
            },
            "text/plain": [
              "model.safetensors:   0%|          | 0.00/1.12G [00:00<?, ?B/s]"
            ]
          },
          "metadata": {},
          "output_type": "display_data"
        }
      ],
      "source": [
        "#@title xlm-RoBERTa\n",
        "\n",
        "checkpoint = \"FacebookAI/xlm-roberta-base\"\n",
        "xlm_roberta_model = TFXLMRobertaModel.from_pretrained(checkpoint)"
      ]
    },
    {
      "cell_type": "code",
      "execution_count": null,
      "metadata": {
        "id": "-9LmAa-ALN8V"
      },
      "outputs": [],
      "source": [
        "MAX_SEQUENCE_LENGTH = 512"
      ]
    },
    {
      "cell_type": "code",
      "execution_count": null,
      "metadata": {
        "id": "AutOaUy-awIv"
      },
      "outputs": [],
      "source": [
        "#@title Define Model\n",
        "\n",
        "# Masked Loss Function\n",
        "def masked_loss_function(y_true, y_pred):\n",
        "    mask = tf.math.logical_not(tf.math.equal(y_true, -1))  # Use -1 to represent missing values\n",
        "    mask = tf.cast(mask, tf.float32)\n",
        "\n",
        "    y_true = tf.cast(y_true, tf.float32)  # Cast y_true to float32 to match the type of y_pred\n",
        "    y_pred = tf.cast(y_pred, tf.float32)\n",
        "\n",
        "    return tf.keras.losses.sparse_categorical_crossentropy(y_true * mask, y_pred * mask)\n",
        "\n",
        "\n",
        "\n",
        "\n",
        "# BERT Model\n",
        "def create_xlm_roberta_multi_output_model(xlm_roberta_model,\n",
        "                                   trainable=True,\n",
        "                                 max_sequence_length=MAX_SEQUENCE_LENGTH,\n",
        "                                   num_level_classes=7,\n",
        "                                   num_salary_classes=6,\n",
        "                                 base_hidden_size=200,\n",
        "                                  level_hidden_size=200,\n",
        "                                  salary_hidden_size=200,\n",
        "                                 dropout=0.3,\n",
        "                                 learning_rate=0.00001,\n",
        "                                   LEVEL_WEIGHT=0.5,\n",
        "                                   SALARY_WEIGHT=0.5):\n",
        "\n",
        "    xlm_roberta_model.trainable = trainable\n",
        "\n",
        "    # Input layers\n",
        "    input_ids = tf.keras.layers.Input(shape=(max_sequence_length,), dtype=tf.int64, name='input_ids_layer')\n",
        "    attention_mask = tf.keras.layers.Input(shape=(max_sequence_length,), dtype=tf.int64, name='attention_mask_layer')\n",
        "\n",
        "    xlm_roberta_inputs = {\n",
        "        'input_ids': input_ids,\n",
        "        'attention_mask': attention_mask\n",
        "    }\n",
        "\n",
        "    xlm_roberta_out = xlm_roberta_model(xlm_roberta_inputs)\n",
        "\n",
        "    cls_token = xlm_roberta_out[0][:, 0, :]  # Extract CLS token\n",
        "    #pooler_token = bert_out[1]\n",
        "\n",
        "    base_hidden = tf.keras.layers.Dense(base_hidden_size, activation='relu', name='base_hidden_layer_1')(cls_token)\n",
        "    base_hidden = tf.keras.layers.Dense(base_hidden_size, activation='relu', name='base_hidden_layer_2')(base_hidden)\n",
        "    base_out = tf.keras.layers.Dropout(dropout, name='base_dropout_1')(base_hidden)\n",
        "\n",
        "    # job experience level\n",
        "    level_hidden = tf.keras.layers.Dense(level_hidden_size, activation='relu', name='level_hidden_layer_1')(base_out)\n",
        "    level_hidden = tf.keras.layers.Dense(level_hidden_size, activation='relu', name='level_hidden_layer_2')(level_hidden)\n",
        "    level_hidden = tf.keras.layers.Dropout(dropout, name='level_dropout_1')(level_hidden)\n",
        "    level_classification = tf.keras.layers.Dense(num_level_classes, activation='softmax', name='level_classification')(level_hidden)\n",
        "\n",
        "    # salary bucket\n",
        "    salary_hidden = tf.keras.layers.Dense(salary_hidden_size, activation='relu', name='salary_hidden_layer_1')(base_out)\n",
        "    salary_hidden = tf.keras.layers.Dense(salary_hidden_size, activation='relu', name='salary_hidden_layer_2')(salary_hidden)\n",
        "    salary_hidden = tf.keras.layers.Dropout(dropout, name='salary_dropout_1')(salary_hidden)\n",
        "    salary_classification = tf.keras.layers.Dense(num_salary_classes, activation='softmax', name='salary_classification')(salary_hidden)\n",
        "\n",
        "\n",
        "\n",
        "    classification_model = tf.keras.Model(inputs=[input_ids, attention_mask],\n",
        "                                          outputs=[level_classification, salary_classification])\n",
        "\n",
        "\n",
        "    classification_model.compile(optimizer=tf.keras.optimizers.Adam(learning_rate=learning_rate),\n",
        "                                 loss={'level_classification': masked_loss_function,\n",
        "                                       'salary_classification': masked_loss_function},\n",
        "                                 loss_weights=[LEVEL_WEIGHT,\n",
        "                                               SALARY_WEIGHT],\n",
        "                                 metrics={'level_classification': 'accuracy',\n",
        "                                          'salary_classification': 'accuracy'})\n",
        "\n",
        "    return classification_model\n",
        "\n",
        "\n"
      ]
    },
    {
      "cell_type": "code",
      "execution_count": null,
      "metadata": {
        "colab": {
          "background_save": true,
          "base_uri": "https://localhost:8080/"
        },
        "id": "ay_9cRlTawDZ",
        "outputId": "c2b106be-846a-433d-8bb2-6302a87d9753"
      },
      "outputs": [
        {
          "name": "stdout",
          "output_type": "stream",
          "text": [
            "Epoch 1/3\n"
          ]
        },
        {
          "name": "stderr",
          "output_type": "stream",
          "text": [
            "WARNING:tensorflow:Gradients do not exist for variables ['tfxlm_roberta_model_1/roberta/pooler/dense/kernel:0', 'tfxlm_roberta_model_1/roberta/pooler/dense/bias:0'] when minimizing the loss. If you're using `model.compile()`, did you forget to provide a `loss` argument?\n",
            "WARNING:tensorflow:Gradients do not exist for variables ['tfxlm_roberta_model_1/roberta/pooler/dense/kernel:0', 'tfxlm_roberta_model_1/roberta/pooler/dense/bias:0'] when minimizing the loss. If you're using `model.compile()`, did you forget to provide a `loss` argument?\n",
            "WARNING:tensorflow:Gradients do not exist for variables ['tfxlm_roberta_model_1/roberta/pooler/dense/kernel:0', 'tfxlm_roberta_model_1/roberta/pooler/dense/bias:0'] when minimizing the loss. If you're using `model.compile()`, did you forget to provide a `loss` argument?\n",
            "WARNING:tensorflow:Gradients do not exist for variables ['tfxlm_roberta_model_1/roberta/pooler/dense/kernel:0', 'tfxlm_roberta_model_1/roberta/pooler/dense/bias:0'] when minimizing the loss. If you're using `model.compile()`, did you forget to provide a `loss` argument?\n"
          ]
        },
        {
          "name": "stdout",
          "output_type": "stream",
          "text": [
            "1851/1851 [==============================] - 1698s 892ms/step - loss: 1.5161 - level_classification_loss: 1.3067 - salary_classification_loss: 1.7256 - level_classification_accuracy: 0.4668 - salary_classification_accuracy: 0.0754 - val_loss: 1.4993 - val_level_classification_loss: 1.3340 - val_salary_classification_loss: 1.6645 - val_level_classification_accuracy: 0.4050 - val_salary_classification_accuracy: 0.1020\n",
            "Epoch 2/3\n",
            "1851/1851 [==============================] - 1652s 892ms/step - loss: 1.3025 - level_classification_loss: 0.9284 - salary_classification_loss: 1.6766 - level_classification_accuracy: 0.6262 - salary_classification_accuracy: 0.0969 - val_loss: 1.3977 - val_level_classification_loss: 1.1536 - val_salary_classification_loss: 1.6419 - val_level_classification_accuracy: 0.5040 - val_salary_classification_accuracy: 0.1045\n",
            "Epoch 3/3\n",
            "1851/1851 [==============================] - 1655s 894ms/step - loss: 1.2221 - level_classification_loss: 0.7939 - salary_classification_loss: 1.6503 - level_classification_accuracy: 0.6777 - salary_classification_accuracy: 0.1062 - val_loss: 1.3737 - val_level_classification_loss: 1.1130 - val_salary_classification_loss: 1.6345 - val_level_classification_accuracy: 0.5492 - val_salary_classification_accuracy: 0.1053\n"
          ]
        }
      ],
      "source": [
        "#@title Create Model and Train - Take 2\n",
        "\n",
        "\n",
        "# Fresh instance of BERT model\n",
        "xlm_roberta_model = TFXLMRobertaModel.from_pretrained(\"FacebookAI/xlm-roberta-base\")\n",
        "multi_output_model = create_xlm_roberta_multi_output_model(xlm_roberta_model)\n",
        "\n",
        "\n",
        "# Fit the model\n",
        "multi_output_model_history = multi_output_model.fit(\n",
        "    train_inputs,\n",
        "    {\"level_classification\": train_level_labels, \"salary_classification\": train_salary_labels},\n",
        "    validation_data=(val_inputs, {\"level_classification\": val_level_labels,\"salary_classification\": val_salary_labels}),\n",
        "    batch_size=32,\n",
        "    epochs=3,\n",
        "    verbose=1,\n",
        "    shuffle=True\n",
        ")\n",
        "\n"
      ]
    },
    {
      "cell_type": "code",
      "execution_count": null,
      "metadata": {
        "colab": {
          "background_save": true
        },
        "id": "ICE57JYILilk",
        "outputId": "20605ab0-832c-4ce4-8af8-6d54b6bf6bf9"
      },
      "outputs": [
        {
          "data": {
            "image/png": "[encoded data removed]",
            "text/plain": [
              "<IPython.core.display.Image object>"
            ]
          },
          "execution_count": 12,
          "metadata": {},
          "output_type": "execute_result"
        }
      ],
      "source": [
        "keras.utils.plot_model(multi_output_model, show_shapes=False, show_dtype=False, show_layer_names=True, dpi=120)"
      ]
    },
    {
      "cell_type": "code",
      "execution_count": null,
      "metadata": {
        "id": "3Zcn3mt6F3By"
      },
      "outputs": [],
      "source": [
        "#@title Export model weights\n",
        "\n",
        "\n",
        "# export model weights\n",
        "multi_output_model.save_weights('./model_2_xlm_roberta/model_2_xlm_roberta_weights')\n",
        "\n",
        "\n"
      ]
    }
  ],
  "metadata": {
    "accelerator": "GPU",
    "colab": {
      "gpuType": "A100",
      "machine_shape": "hm",
      "provenance": [],
      "include_colab_link": true
    },
    "kernelspec": {
      "display_name": "Python 3",
      "name": "python3"
    },
    "language_info": {
      "name": "python"
    },
    "widgets": {
      "application/vnd.jupyter.widget-state+json": {
        "0dccb29f8d59464b984a89269cca2f3b": {
          "model_module": "@jupyter-widgets/controls",
          "model_module_version": "1.5.0",
          "model_name": "DescriptionStyleModel",
          "state": {
            "_model_module": "@jupyter-widgets/controls",
            "_model_module_version": "1.5.0",
            "_model_name": "DescriptionStyleModel",
            "_view_count": null,
            "_view_module": "@jupyter-widgets/base",
            "_view_module_version": "1.2.0",
            "_view_name": "StyleView",
            "description_width": ""
          }
        },
        "0fe18453c3214766b45754d47be82bf8": {
          "model_module": "@jupyter-widgets/base",
          "model_module_version": "1.2.0",
          "model_name": "LayoutModel",
          "state": {
            "_model_module": "@jupyter-widgets/base",
            "_model_module_version": "1.2.0",
            "_model_name": "LayoutModel",
            "_view_count": null,
            "_view_module": "@jupyter-widgets/base",
            "_view_module_version": "1.2.0",
            "_view_name": "LayoutView",
            "align_content": null,
            "align_items": null,
            "align_self": null,
            "border": null,
            "bottom": null,
            "display": null,
            "flex": null,
            "flex_flow": null,
            "grid_area": null,
            "grid_auto_columns": null,
            "grid_auto_flow": null,
            "grid_auto_rows": null,
            "grid_column": null,
            "grid_gap": null,
            "grid_row": null,
            "grid_template_areas": null,
            "grid_template_columns": null,
            "grid_template_rows": null,
            "height": null,
            "justify_content": null,
            "justify_items": null,
            "left": null,
            "margin": null,
            "max_height": null,
            "max_width": null,
            "min_height": null,
            "min_width": null,
            "object_fit": null,
            "object_position": null,
            "order": null,
            "overflow": null,
            "overflow_x": null,
            "overflow_y": null,
            "padding": null,
            "right": null,
            "top": null,
            "visibility": null,
            "width": null
          }
        },
        "1803c6b2eb9b48d59b9bcb752fed9a7f": {
          "model_module": "@jupyter-widgets/controls",
          "model_module_version": "1.5.0",
          "model_name": "FloatProgressModel",
          "state": {
            "_dom_classes": [],
            "_model_module": "@jupyter-widgets/controls",
            "_model_module_version": "1.5.0",
            "_model_name": "FloatProgressModel",
            "_view_count": null,
            "_view_module": "@jupyter-widgets/controls",
            "_view_module_version": "1.5.0",
            "_view_name": "ProgressView",
            "bar_style": "success",
            "description": "",
            "description_tooltip": null,
            "layout": "IPY_MODEL_ffbf27dc54ee4f1bbf9256f58e3956b9",
            "max": 1115567652,
            "min": 0,
            "orientation": "horizontal",
            "style": "IPY_MODEL_71c25e6a813c4200bc69c46e7ed8fe9b",
            "value": 1115567652
          }
        },
        "207ef03bcc264800ac4fb9de794e4148": {
          "model_module": "@jupyter-widgets/controls",
          "model_module_version": "1.5.0",
          "model_name": "ProgressStyleModel",
          "state": {
            "_model_module": "@jupyter-widgets/controls",
            "_model_module_version": "1.5.0",
            "_model_name": "ProgressStyleModel",
            "_view_count": null,
            "_view_module": "@jupyter-widgets/base",
            "_view_module_version": "1.2.0",
            "_view_name": "StyleView",
            "bar_color": null,
            "description_width": ""
          }
        },
        "297d7c1e41d0459c98b94247dd4c8bf3": {
          "model_module": "@jupyter-widgets/controls",
          "model_module_version": "1.5.0",
          "model_name": "HTMLModel",
          "state": {
            "_dom_classes": [],
            "_model_module": "@jupyter-widgets/controls",
            "_model_module_version": "1.5.0",
            "_model_name": "HTMLModel",
            "_view_count": null,
            "_view_module": "@jupyter-widgets/controls",
            "_view_module_version": "1.5.0",
            "_view_name": "HTMLView",
            "description": "",
            "description_tooltip": null,
            "layout": "IPY_MODEL_d8dda0a34b744b92b4f10d9eee5aedf8",
            "placeholder": "​",
            "style": "IPY_MODEL_c85463ffbace449bacf5b08d56bcb5d6",
            "value": " 615/615 [00:00&lt;00:00, 56.4kB/s]"
          }
        },
        "413502fcac114dc7b5be1cf56fcf2516": {
          "model_module": "@jupyter-widgets/controls",
          "model_module_version": "1.5.0",
          "model_name": "HTMLModel",
          "state": {
            "_dom_classes": [],
            "_model_module": "@jupyter-widgets/controls",
            "_model_module_version": "1.5.0",
            "_model_name": "HTMLModel",
            "_view_count": null,
            "_view_module": "@jupyter-widgets/controls",
            "_view_module_version": "1.5.0",
            "_view_name": "HTMLView",
            "description": "",
            "description_tooltip": null,
            "layout": "IPY_MODEL_f5602ee5a246468bad44a928fc599607",
            "placeholder": "​",
            "style": "IPY_MODEL_0dccb29f8d59464b984a89269cca2f3b",
            "value": " 1.12G/1.12G [00:04&lt;00:00, 286MB/s]"
          }
        },
        "63e9138b8c9146ecb61ec757b510999b": {
          "model_module": "@jupyter-widgets/base",
          "model_module_version": "1.2.0",
          "model_name": "LayoutModel",
          "state": {
            "_model_module": "@jupyter-widgets/base",
            "_model_module_version": "1.2.0",
            "_model_name": "LayoutModel",
            "_view_count": null,
            "_view_module": "@jupyter-widgets/base",
            "_view_module_version": "1.2.0",
            "_view_name": "LayoutView",
            "align_content": null,
            "align_items": null,
            "align_self": null,
            "border": null,
            "bottom": null,
            "display": null,
            "flex": null,
            "flex_flow": null,
            "grid_area": null,
            "grid_auto_columns": null,
            "grid_auto_flow": null,
            "grid_auto_rows": null,
            "grid_column": null,
            "grid_gap": null,
            "grid_row": null,
            "grid_template_areas": null,
            "grid_template_columns": null,
            "grid_template_rows": null,
            "height": null,
            "justify_content": null,
            "justify_items": null,
            "left": null,
            "margin": null,
            "max_height": null,
            "max_width": null,
            "min_height": null,
            "min_width": null,
            "object_fit": null,
            "object_position": null,
            "order": null,
            "overflow": null,
            "overflow_x": null,
            "overflow_y": null,
            "padding": null,
            "right": null,
            "top": null,
            "visibility": null,
            "width": null
          }
        },
        "6563cafc4cdf4a2e8196be01e40eec2c": {
          "model_module": "@jupyter-widgets/controls",
          "model_module_version": "1.5.0",
          "model_name": "HBoxModel",
          "state": {
            "_dom_classes": [],
            "_model_module": "@jupyter-widgets/controls",
            "_model_module_version": "1.5.0",
            "_model_name": "HBoxModel",
            "_view_count": null,
            "_view_module": "@jupyter-widgets/controls",
            "_view_module_version": "1.5.0",
            "_view_name": "HBoxView",
            "box_style": "",
            "children": [
              "IPY_MODEL_984a6ed87fc74ec5903ba49aef266953",
              "IPY_MODEL_e6d54ca502cb42f2a5fbfa382d54ed2a",
              "IPY_MODEL_297d7c1e41d0459c98b94247dd4c8bf3"
            ],
            "layout": "IPY_MODEL_b8c67a290d174e999eaeecb8a0753ec6"
          }
        },
        "694b6754e0b8459a8119d8bd764266b0": {
          "model_module": "@jupyter-widgets/controls",
          "model_module_version": "1.5.0",
          "model_name": "DescriptionStyleModel",
          "state": {
            "_model_module": "@jupyter-widgets/controls",
            "_model_module_version": "1.5.0",
            "_model_name": "DescriptionStyleModel",
            "_view_count": null,
            "_view_module": "@jupyter-widgets/base",
            "_view_module_version": "1.2.0",
            "_view_name": "StyleView",
            "description_width": ""
          }
        },
        "71c25e6a813c4200bc69c46e7ed8fe9b": {
          "model_module": "@jupyter-widgets/controls",
          "model_module_version": "1.5.0",
          "model_name": "ProgressStyleModel",
          "state": {
            "_model_module": "@jupyter-widgets/controls",
            "_model_module_version": "1.5.0",
            "_model_name": "ProgressStyleModel",
            "_view_count": null,
            "_view_module": "@jupyter-widgets/base",
            "_view_module_version": "1.2.0",
            "_view_name": "StyleView",
            "bar_color": null,
            "description_width": ""
          }
        },
        "8fa86df4ddba4d40b39c08882d7cced0": {
          "model_module": "@jupyter-widgets/controls",
          "model_module_version": "1.5.0",
          "model_name": "HBoxModel",
          "state": {
            "_dom_classes": [],
            "_model_module": "@jupyter-widgets/controls",
            "_model_module_version": "1.5.0",
            "_model_name": "HBoxModel",
            "_view_count": null,
            "_view_module": "@jupyter-widgets/controls",
            "_view_module_version": "1.5.0",
            "_view_name": "HBoxView",
            "box_style": "",
            "children": [
              "IPY_MODEL_e2026919017847dba085a133445eba20",
              "IPY_MODEL_1803c6b2eb9b48d59b9bcb752fed9a7f",
              "IPY_MODEL_413502fcac114dc7b5be1cf56fcf2516"
            ],
            "layout": "IPY_MODEL_63e9138b8c9146ecb61ec757b510999b"
          }
        },
        "957c1808985147f08b98c06037d8f843": {
          "model_module": "@jupyter-widgets/base",
          "model_module_version": "1.2.0",
          "model_name": "LayoutModel",
          "state": {
            "_model_module": "@jupyter-widgets/base",
            "_model_module_version": "1.2.0",
            "_model_name": "LayoutModel",
            "_view_count": null,
            "_view_module": "@jupyter-widgets/base",
            "_view_module_version": "1.2.0",
            "_view_name": "LayoutView",
            "align_content": null,
            "align_items": null,
            "align_self": null,
            "border": null,
            "bottom": null,
            "display": null,
            "flex": null,
            "flex_flow": null,
            "grid_area": null,
            "grid_auto_columns": null,
            "grid_auto_flow": null,
            "grid_auto_rows": null,
            "grid_column": null,
            "grid_gap": null,
            "grid_row": null,
            "grid_template_areas": null,
            "grid_template_columns": null,
            "grid_template_rows": null,
            "height": null,
            "justify_content": null,
            "justify_items": null,
            "left": null,
            "margin": null,
            "max_height": null,
            "max_width": null,
            "min_height": null,
            "min_width": null,
            "object_fit": null,
            "object_position": null,
            "order": null,
            "overflow": null,
            "overflow_x": null,
            "overflow_y": null,
            "padding": null,
            "right": null,
            "top": null,
            "visibility": null,
            "width": null
          }
        },
        "9826f17792104cfcbefe56f7841c762e": {
          "model_module": "@jupyter-widgets/controls",
          "model_module_version": "1.5.0",
          "model_name": "DescriptionStyleModel",
          "state": {
            "_model_module": "@jupyter-widgets/controls",
            "_model_module_version": "1.5.0",
            "_model_name": "DescriptionStyleModel",
            "_view_count": null,
            "_view_module": "@jupyter-widgets/base",
            "_view_module_version": "1.2.0",
            "_view_name": "StyleView",
            "description_width": ""
          }
        },
        "984a6ed87fc74ec5903ba49aef266953": {
          "model_module": "@jupyter-widgets/controls",
          "model_module_version": "1.5.0",
          "model_name": "HTMLModel",
          "state": {
            "_dom_classes": [],
            "_model_module": "@jupyter-widgets/controls",
            "_model_module_version": "1.5.0",
            "_model_name": "HTMLModel",
            "_view_count": null,
            "_view_module": "@jupyter-widgets/controls",
            "_view_module_version": "1.5.0",
            "_view_name": "HTMLView",
            "description": "",
            "description_tooltip": null,
            "layout": "IPY_MODEL_ddd57f75a7324a99ac36a74071365d49",
            "placeholder": "​",
            "style": "IPY_MODEL_9826f17792104cfcbefe56f7841c762e",
            "value": "config.json: 100%"
          }
        },
        "b8c67a290d174e999eaeecb8a0753ec6": {
          "model_module": "@jupyter-widgets/base",
          "model_module_version": "1.2.0",
          "model_name": "LayoutModel",
          "state": {
            "_model_module": "@jupyter-widgets/base",
            "_model_module_version": "1.2.0",
            "_model_name": "LayoutModel",
            "_view_count": null,
            "_view_module": "@jupyter-widgets/base",
            "_view_module_version": "1.2.0",
            "_view_name": "LayoutView",
            "align_content": null,
            "align_items": null,
            "align_self": null,
            "border": null,
            "bottom": null,
            "display": null,
            "flex": null,
            "flex_flow": null,
            "grid_area": null,
            "grid_auto_columns": null,
            "grid_auto_flow": null,
            "grid_auto_rows": null,
            "grid_column": null,
            "grid_gap": null,
            "grid_row": null,
            "grid_template_areas": null,
            "grid_template_columns": null,
            "grid_template_rows": null,
            "height": null,
            "justify_content": null,
            "justify_items": null,
            "left": null,
            "margin": null,
            "max_height": null,
            "max_width": null,
            "min_height": null,
            "min_width": null,
            "object_fit": null,
            "object_position": null,
            "order": null,
            "overflow": null,
            "overflow_x": null,
            "overflow_y": null,
            "padding": null,
            "right": null,
            "top": null,
            "visibility": null,
            "width": null
          }
        },
        "c85463ffbace449bacf5b08d56bcb5d6": {
          "model_module": "@jupyter-widgets/controls",
          "model_module_version": "1.5.0",
          "model_name": "DescriptionStyleModel",
          "state": {
            "_model_module": "@jupyter-widgets/controls",
            "_model_module_version": "1.5.0",
            "_model_name": "DescriptionStyleModel",
            "_view_count": null,
            "_view_module": "@jupyter-widgets/base",
            "_view_module_version": "1.2.0",
            "_view_name": "StyleView",
            "description_width": ""
          }
        },
        "d8dda0a34b744b92b4f10d9eee5aedf8": {
          "model_module": "@jupyter-widgets/base",
          "model_module_version": "1.2.0",
          "model_name": "LayoutModel",
          "state": {
            "_model_module": "@jupyter-widgets/base",
            "_model_module_version": "1.2.0",
            "_model_name": "LayoutModel",
            "_view_count": null,
            "_view_module": "@jupyter-widgets/base",
            "_view_module_version": "1.2.0",
            "_view_name": "LayoutView",
            "align_content": null,
            "align_items": null,
            "align_self": null,
            "border": null,
            "bottom": null,
            "display": null,
            "flex": null,
            "flex_flow": null,
            "grid_area": null,
            "grid_auto_columns": null,
            "grid_auto_flow": null,
            "grid_auto_rows": null,
            "grid_column": null,
            "grid_gap": null,
            "grid_row": null,
            "grid_template_areas": null,
            "grid_template_columns": null,
            "grid_template_rows": null,
            "height": null,
            "justify_content": null,
            "justify_items": null,
            "left": null,
            "margin": null,
            "max_height": null,
            "max_width": null,
            "min_height": null,
            "min_width": null,
            "object_fit": null,
            "object_position": null,
            "order": null,
            "overflow": null,
            "overflow_x": null,
            "overflow_y": null,
            "padding": null,
            "right": null,
            "top": null,
            "visibility": null,
            "width": null
          }
        },
        "ddd57f75a7324a99ac36a74071365d49": {
          "model_module": "@jupyter-widgets/base",
          "model_module_version": "1.2.0",
          "model_name": "LayoutModel",
          "state": {
            "_model_module": "@jupyter-widgets/base",
            "_model_module_version": "1.2.0",
            "_model_name": "LayoutModel",
            "_view_count": null,
            "_view_module": "@jupyter-widgets/base",
            "_view_module_version": "1.2.0",
            "_view_name": "LayoutView",
            "align_content": null,
            "align_items": null,
            "align_self": null,
            "border": null,
            "bottom": null,
            "display": null,
            "flex": null,
            "flex_flow": null,
            "grid_area": null,
            "grid_auto_columns": null,
            "grid_auto_flow": null,
            "grid_auto_rows": null,
            "grid_column": null,
            "grid_gap": null,
            "grid_row": null,
            "grid_template_areas": null,
            "grid_template_columns": null,
            "grid_template_rows": null,
            "height": null,
            "justify_content": null,
            "justify_items": null,
            "left": null,
            "margin": null,
            "max_height": null,
            "max_width": null,
            "min_height": null,
            "min_width": null,
            "object_fit": null,
            "object_position": null,
            "order": null,
            "overflow": null,
            "overflow_x": null,
            "overflow_y": null,
            "padding": null,
            "right": null,
            "top": null,
            "visibility": null,
            "width": null
          }
        },
        "e2026919017847dba085a133445eba20": {
          "model_module": "@jupyter-widgets/controls",
          "model_module_version": "1.5.0",
          "model_name": "HTMLModel",
          "state": {
            "_dom_classes": [],
            "_model_module": "@jupyter-widgets/controls",
            "_model_module_version": "1.5.0",
            "_model_name": "HTMLModel",
            "_view_count": null,
            "_view_module": "@jupyter-widgets/controls",
            "_view_module_version": "1.5.0",
            "_view_name": "HTMLView",
            "description": "",
            "description_tooltip": null,
            "layout": "IPY_MODEL_0fe18453c3214766b45754d47be82bf8",
            "placeholder": "​",
            "style": "IPY_MODEL_694b6754e0b8459a8119d8bd764266b0",
            "value": "model.safetensors: 100%"
          }
        },
        "e6d54ca502cb42f2a5fbfa382d54ed2a": {
          "model_module": "@jupyter-widgets/controls",
          "model_module_version": "1.5.0",
          "model_name": "FloatProgressModel",
          "state": {
            "_dom_classes": [],
            "_model_module": "@jupyter-widgets/controls",
            "_model_module_version": "1.5.0",
            "_model_name": "FloatProgressModel",
            "_view_count": null,
            "_view_module": "@jupyter-widgets/controls",
            "_view_module_version": "1.5.0",
            "_view_name": "ProgressView",
            "bar_style": "success",
            "description": "",
            "description_tooltip": null,
            "layout": "IPY_MODEL_957c1808985147f08b98c06037d8f843",
            "max": 615,
            "min": 0,
            "orientation": "horizontal",
            "style": "IPY_MODEL_207ef03bcc264800ac4fb9de794e4148",
            "value": 615
          }
        },
        "f5602ee5a246468bad44a928fc599607": {
          "model_module": "@jupyter-widgets/base",
          "model_module_version": "1.2.0",
          "model_name": "LayoutModel",
          "state": {
            "_model_module": "@jupyter-widgets/base",
            "_model_module_version": "1.2.0",
            "_model_name": "LayoutModel",
            "_view_count": null,
            "_view_module": "@jupyter-widgets/base",
            "_view_module_version": "1.2.0",
            "_view_name": "LayoutView",
            "align_content": null,
            "align_items": null,
            "align_self": null,
            "border": null,
            "bottom": null,
            "display": null,
            "flex": null,
            "flex_flow": null,
            "grid_area": null,
            "grid_auto_columns": null,
            "grid_auto_flow": null,
            "grid_auto_rows": null,
            "grid_column": null,
            "grid_gap": null,
            "grid_row": null,
            "grid_template_areas": null,
            "grid_template_columns": null,
            "grid_template_rows": null,
            "height": null,
            "justify_content": null,
            "justify_items": null,
            "left": null,
            "margin": null,
            "max_height": null,
            "max_width": null,
            "min_height": null,
            "min_width": null,
            "object_fit": null,
            "object_position": null,
            "order": null,
            "overflow": null,
            "overflow_x": null,
            "overflow_y": null,
            "padding": null,
            "right": null,
            "top": null,
            "visibility": null,
            "width": null
          }
        },
        "ffbf27dc54ee4f1bbf9256f58e3956b9": {
          "model_module": "@jupyter-widgets/base",
          "model_module_version": "1.2.0",
          "model_name": "LayoutModel",
          "state": {
            "_model_module": "@jupyter-widgets/base",
            "_model_module_version": "1.2.0",
            "_model_name": "LayoutModel",
            "_view_count": null,
            "_view_module": "@jupyter-widgets/base",
            "_view_module_version": "1.2.0",
            "_view_name": "LayoutView",
            "align_content": null,
            "align_items": null,
            "align_self": null,
            "border": null,
            "bottom": null,
            "display": null,
            "flex": null,
            "flex_flow": null,
            "grid_area": null,
            "grid_auto_columns": null,
            "grid_auto_flow": null,
            "grid_auto_rows": null,
            "grid_column": null,
            "grid_gap": null,
            "grid_row": null,
            "grid_template_areas": null,
            "grid_template_columns": null,
            "grid_template_rows": null,
            "height": null,
            "justify_content": null,
            "justify_items": null,
            "left": null,
            "margin": null,
            "max_height": null,
            "max_width": null,
            "min_height": null,
            "min_width": null,
            "object_fit": null,
            "object_position": null,
            "order": null,
            "overflow": null,
            "overflow_x": null,
            "overflow_y": null,
            "padding": null,
            "right": null,
            "top": null,
            "visibility": null,
            "width": null
          }
        }
      }
    }
  },
  "nbformat": 4,
  "nbformat_minor": 0
}