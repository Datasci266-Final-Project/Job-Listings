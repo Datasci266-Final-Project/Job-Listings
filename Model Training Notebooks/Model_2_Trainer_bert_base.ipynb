{
  "cells": [
    {
      "cell_type": "markdown",
      "metadata": {
        "id": "view-in-github",
        "colab_type": "text"
      },
      "source": [
        "<a href=\"https://colab.research.google.com/github/Datasci266-Final-Project/Job-Listings/blob/main/Model%20Training%20Notebooks/Model_2_Trainer_bert_base.ipynb\" target=\"_parent\"><img src=\"https://colab.research.google.com/assets/colab-badge.svg\" alt=\"Open In Colab\"/></a>"
      ]
    },
    {
      "cell_type": "code",
      "execution_count": null,
      "metadata": {
        "colab": {
          "base_uri": "https://localhost:8080/"
        },
        "id": "ZEs5pbHpSTOA",
        "outputId": "bc0055a8-0ae9-4548-84b5-6413e2a6ccaa"
      },
      "outputs": [
        {
          "output_type": "stream",
          "name": "stdout",
          "text": [
            "\u001b[2K     \u001b[90m━━━━━━━━━━━━━━━━━━━━━━━━━━━━━━━━━━━━━━━━\u001b[0m \u001b[32m8.4/8.4 MB\u001b[0m \u001b[31m63.2 MB/s\u001b[0m eta \u001b[36m0:00:00\u001b[0m\n",
            "\u001b[2K     \u001b[90m━━━━━━━━━━━━━━━━━━━━━━━━━━━━━━━━━━━━━━━━\u001b[0m \u001b[32m258.0/258.0 kB\u001b[0m \u001b[31m7.0 MB/s\u001b[0m eta \u001b[36m0:00:00\u001b[0m\n",
            "\u001b[?25h"
          ]
        }
      ],
      "source": [
        "#@title Installs\n",
        "\n",
        "!pip install pydot --quiet\n",
        "!pip install transformers==4.37.2 --quiet\n",
        "!pip install -U imbalanced-learn --quiet"
      ]
    },
    {
      "cell_type": "code",
      "execution_count": null,
      "metadata": {
        "id": "WRAfKTehSgxQ"
      },
      "outputs": [],
      "source": [
        "#@title Imports\n",
        "import pandas as pd\n",
        "\n",
        "import numpy as np\n",
        "import random\n",
        "import torch\n",
        "\n",
        "import tensorflow as tf\n",
        "from tensorflow import keras\n",
        "\n",
        "from tensorflow.keras.layers import Embedding, Input, Dense, Lambda, Dropout\n",
        "from tensorflow.keras.models import Model\n",
        "import tensorflow.keras.backend as K\n",
        "import tensorflow_datasets as tfds\n",
        "\n",
        "from imblearn.over_sampling import RandomOverSampler\n",
        "from imblearn.under_sampling import RandomUnderSampler\n",
        "from imblearn.over_sampling import SMOTE\n",
        "\n",
        "import sklearn as sk\n",
        "import os\n",
        "import nltk\n",
        "from nltk.data import find\n",
        "\n",
        "import matplotlib.pyplot as plt\n",
        "\n",
        "import re\n",
        "from sklearn.model_selection import train_test_split\n",
        "\n",
        "from transformers import BertTokenizer, TFBertModel\n",
        "\n",
        "from transformers import logging\n",
        "logging.set_verbosity_error()\n",
        "\n",
        "from collections import Counter\n",
        "\n",
        "from tensorflow.keras.models import load_model\n",
        "import pickle\n",
        "import joblib"
      ]
    },
    {
      "cell_type": "code",
      "execution_count": null,
      "metadata": {
        "id": "rHlaNR4jf5xH"
      },
      "outputs": [],
      "source": [
        "# Set seed to 10\n",
        "\n",
        "seed_value = 10\n",
        "\n",
        "random.seed(seed_value)\n",
        "np.random.seed(seed_value)\n",
        "torch.manual_seed(seed_value)\n",
        "torch.cuda.manual_seed_all(seed_value)\n",
        "tf.random.set_seed(seed_value)"
      ]
    },
    {
      "cell_type": "code",
      "execution_count": null,
      "metadata": {
        "colab": {
          "base_uri": "https://localhost:8080/"
        },
        "id": "W6vCIEn8Sgzq",
        "outputId": "8b9d876d-6c2e-4274-c093-12bb0635b819"
      },
      "outputs": [
        {
          "output_type": "stream",
          "name": "stdout",
          "text": [
            "Mounted at /content/drive\n",
            "/content/drive/.shortcut-targets-by-id/1V3QooLePiHR_DaZhbXQhsjmP1Ez5fv5F/DataSci 266 Project\n"
          ]
        }
      ],
      "source": [
        "from google.colab import drive\n",
        "drive.mount('/content/drive')\n",
        "\n",
        "%cd /content/drive/My Drive/DataSci 266 Project\n",
        "\n",
        "column_names = ['index','title','text','level','salary']\n"
      ]
    },
    {
      "cell_type": "code",
      "execution_count": null,
      "metadata": {
        "id": "yplFUNQWSmCA"
      },
      "outputs": [],
      "source": [
        "pd.set_option('display.max_colwidth', 10000)"
      ]
    },
    {
      "cell_type": "code",
      "execution_count": null,
      "metadata": {
        "id": "NguVcfYweKGI"
      },
      "outputs": [],
      "source": [
        "# Dictionaries\n",
        "level_key = {\n",
        "    \"student_intern\": 0,\n",
        "    \"entry\": 1,\n",
        "    \"junior\": 2,\n",
        "    \"mid\": 3,\n",
        "    \"senior\": 4,\n",
        "    \"executive\": 5,\n",
        "    np.nan: -1\n",
        "}\n",
        "\n",
        "# Define salary_key dictionary\n",
        "# salary_key = {\n",
        "#     \"<45k\": 0,\n",
        "#     \"45-65k\": 1,\n",
        "#     \"65-85k\": 2,\n",
        "#     \"85-110k\": 3,\n",
        "#     \"110-150k\": 4,\n",
        "#     \"150-200k\": 5,\n",
        "#     \">200k\": 6,\n",
        "#     np.nan: -1\n",
        "# }\n",
        "\n",
        "salary_key = {\n",
        "    \"<50k\": 0,\n",
        "    \"50-100k\": 1,\n",
        "    \"100-150k\": 2,\n",
        "    \"150-200k\": 3,\n",
        "    \">200k\": 4,\n",
        "    np.nan: -1\n",
        "}\n"
      ]
    },
    {
      "cell_type": "code",
      "execution_count": null,
      "metadata": {
        "id": "mEWiOZNjBLt5"
      },
      "outputs": [],
      "source": [
        "#@title Import Tokens, Labels, Data\n",
        "\n",
        "# data\n",
        "with open(r'Model Objects/train_final_df.pickle', 'rb') as handle:\n",
        "    train_data = pickle.load(handle)\n",
        "with open(r'Model Objects/test_data.pickle', 'rb') as handle:\n",
        "    test_data = pickle.load(handle)\n",
        "with open(r'Model Objects/val_data.pickle', 'rb') as handle:\n",
        "    val_data = pickle.load(handle)\n",
        "\n",
        "\n",
        "# labels\n",
        "with open(r'Model Objects/Labels/model_2_labels_level_train.pickle', 'rb') as handle:\n",
        "    train_level_labels = pickle.load(handle)\n",
        "\n",
        "with open(r'Model Objects/Labels/model_2_labels_salary_train.pickle', 'rb') as handle:\n",
        "    train_salary_labels = pickle.load(handle)\n",
        "\n",
        "\n",
        "with open(r'Model Objects/Labels/model_2_labels_level_test.pickle', 'rb') as handle:\n",
        "    test_level_labels = pickle.load(handle)\n",
        "\n",
        "with open(r'Model Objects/Labels/model_2_labels_salary_test.pickle', 'rb') as handle:\n",
        "    test_salary_labels = pickle.load(handle)\n",
        "\n",
        "\n",
        "with open(r'Model Objects/Labels/model_2_labels_level_val.pickle', 'rb') as handle:\n",
        "    val_level_labels = pickle.load(handle)\n",
        "\n",
        "with open(r'Model Objects/Labels/model_2_labels_salary_val.pickle', 'rb') as handle:\n",
        "    val_salary_labels = pickle.load(handle)\n",
        "\n",
        "\n",
        "# tokenized inputs\n",
        "with open(r'Model Objects/Tokenized Inputs: Bert Base/model_2_train_inputs_bert.pickle', 'rb') as handle:\n",
        "    train_inputs = pickle.load(handle)\n",
        "\n",
        "with open(r'Model Objects/Tokenized Inputs: Bert Base/test_inputs_bert.pickle', 'rb') as handle:\n",
        "    test_inputs = pickle.load(handle)\n",
        "\n",
        "with open(r'Model Objects/Tokenized Inputs: Bert Base/val_inputs_bert.pickle', 'rb') as handle:\n",
        "    val_inputs = pickle.load(handle)"
      ]
    },
    {
      "cell_type": "code",
      "execution_count": null,
      "metadata": {
        "id": "QBbeLBLWTfva",
        "colab": {
          "base_uri": "https://localhost:8080/",
          "height": 185,
          "referenced_widgets": [
            "b206a8ae043b468e83badedbfebaf851",
            "9243e483627f45c2af3546c455b48705",
            "e7040a96f9aa4d80b356f1f15b75d381",
            "006d44022b854100a5629624541678e7",
            "b6caa325e9834bddb3c8879dfb404ff9",
            "5435335f6d9d445e9442e5da4329c0a2",
            "4553f8105a494875acdbb83fdde937f1",
            "b266992f8e4d421dacfb7023f9bf9256",
            "61c54d47a42541678acd92aa19cbe143",
            "fd93aa8038c24b209e215c6a66fbff14",
            "9ebb3ba18ba64173ab1c7bd7154ab837",
            "ccaeb3c64d5645ccb696e1c132b79df6",
            "e55171dc7e20466bbdbf27c40d88c372",
            "19dd026d6c32455baf51602c54ecd3cc",
            "5042a4e915bb4200b579e6a2a9100b19",
            "8507f1e4898c478fa8132f6d8900ff14",
            "14acf22dd358411bb57a5fa3790c9cd8",
            "35ed81144e8d4be6bf8b11213de4ee95",
            "caeab9a8e1e5423fb797b0f813d96260",
            "c145d1eb128443dfb0a9fb989fd82038",
            "6ccfbb481f214b2a96034814da0ac6b0",
            "baf64daeb0994aa2b52b7452a8a9a8b5"
          ]
        },
        "outputId": "f84076d6-dbf4-40ad-948b-23d941c349e4"
      },
      "outputs": [
        {
          "output_type": "stream",
          "name": "stderr",
          "text": [
            "/usr/local/lib/python3.10/dist-packages/huggingface_hub/utils/_token.py:88: UserWarning: \n",
            "The secret `HF_TOKEN` does not exist in your Colab secrets.\n",
            "To authenticate with the Hugging Face Hub, create a token in your settings tab (https://huggingface.co/settings/tokens), set it as secret in your Google Colab and restart your session.\n",
            "You will be able to reuse this secret in all of your notebooks.\n",
            "Please note that authentication is recommended but still optional to access public models or datasets.\n",
            "  warnings.warn(\n"
          ]
        },
        {
          "output_type": "display_data",
          "data": {
            "text/plain": [
              "config.json:   0%|          | 0.00/570 [00:00<?, ?B/s]"
            ],
            "application/vnd.jupyter.widget-view+json": {
              "version_major": 2,
              "version_minor": 0,
              "model_id": "b206a8ae043b468e83badedbfebaf851"
            }
          },
          "metadata": {}
        },
        {
          "output_type": "display_data",
          "data": {
            "text/plain": [
              "model.safetensors:   0%|          | 0.00/436M [00:00<?, ?B/s]"
            ],
            "application/vnd.jupyter.widget-view+json": {
              "version_major": 2,
              "version_minor": 0,
              "model_id": "ccaeb3c64d5645ccb696e1c132b79df6"
            }
          },
          "metadata": {}
        }
      ],
      "source": [
        "#@title BERT\n",
        "\n",
        "checkpoint = 'bert-base-cased'\n",
        "bert_model = TFBertModel.from_pretrained(checkpoint)"
      ]
    },
    {
      "cell_type": "code",
      "source": [
        "MAX_SEQUENCE_LENGTH = 512"
      ],
      "metadata": {
        "id": "rtyPJL8JG6Rk"
      },
      "execution_count": null,
      "outputs": []
    },
    {
      "cell_type": "code",
      "execution_count": null,
      "metadata": {
        "id": "AutOaUy-awIv"
      },
      "outputs": [],
      "source": [
        "#@title Define Model\n",
        "\n",
        "# Masked Loss Function\n",
        "def masked_loss_function(y_true, y_pred):\n",
        "    mask = tf.math.logical_not(tf.math.equal(y_true, -1))  # Use -1 to represent missing values\n",
        "    mask = tf.cast(mask, tf.float32)\n",
        "\n",
        "    y_true = tf.cast(y_true, tf.float32)  # Cast y_true to float32 to match the type of y_pred\n",
        "    y_pred = tf.cast(y_pred, tf.float32)\n",
        "\n",
        "    return tf.keras.losses.sparse_categorical_crossentropy(y_true * mask, y_pred * mask)\n",
        "\n",
        "\n",
        "\n",
        "\n",
        "# BERT Model\n",
        "def create_bert_multi_output_model(bert_base_model,\n",
        "                                   trainable=True,\n",
        "                                 max_sequence_length=MAX_SEQUENCE_LENGTH,\n",
        "                                   num_level_classes=7,\n",
        "                                   num_salary_classes=6,\n",
        "                                 base_hidden_size=200,\n",
        "                                  level_hidden_size=200,\n",
        "                                  salary_hidden_size=200,\n",
        "                                 dropout=0.3,\n",
        "                                 learning_rate=0.00005,\n",
        "                                   LEVEL_WEIGHT=0.5,\n",
        "                                   SALARY_WEIGHT=0.5):\n",
        "\n",
        "    bert_base_model.trainable = trainable\n",
        "\n",
        "    # Input layers\n",
        "    input_ids = tf.keras.layers.Input(shape=(max_sequence_length,), dtype=tf.int64, name='input_ids_layer')\n",
        "    token_type_ids = tf.keras.layers.Input(shape=(max_sequence_length,), dtype=tf.int64, name='token_type_ids_layer')\n",
        "    attention_mask = tf.keras.layers.Input(shape=(max_sequence_length,), dtype=tf.int64, name='attention_mask_layer')\n",
        "\n",
        "    bert_inputs = {\n",
        "        'input_ids': input_ids,\n",
        "        'token_type_ids': token_type_ids,\n",
        "        'attention_mask': attention_mask\n",
        "    }\n",
        "\n",
        "    bert_out = bert_base_model(bert_inputs)\n",
        "\n",
        "    cls_token = bert_out[0][:, 0, :]  # Extract CLS token\n",
        "    pooler_token = bert_out[1]\n",
        "\n",
        "    base_hidden = tf.keras.layers.Dense(base_hidden_size, activation='relu', name='base_hidden_layer_1')(cls_token)\n",
        "    base_hidden = tf.keras.layers.Dense(base_hidden_size, activation='relu', name='base_hidden_layer_2')(base_hidden)\n",
        "    base_out = tf.keras.layers.Dropout(dropout, name='base_dropout_1')(base_hidden)\n",
        "\n",
        "    # job experience level\n",
        "    level_hidden = tf.keras.layers.Dense(level_hidden_size, activation='relu', name='level_hidden_layer_1')(base_out)\n",
        "    level_hidden = tf.keras.layers.Dense(level_hidden_size, activation='relu', name='level_hidden_layer_2')(level_hidden)\n",
        "    level_hidden = tf.keras.layers.Dropout(dropout, name='level_dropout_1')(level_hidden)\n",
        "    level_classification = tf.keras.layers.Dense(num_level_classes, activation='softmax', name='level_classification')(level_hidden)\n",
        "\n",
        "    # salary bucket\n",
        "    salary_hidden = tf.keras.layers.Dense(salary_hidden_size, activation='relu', name='salary_hidden_layer_1')(base_out)\n",
        "    salary_hidden = tf.keras.layers.Dense(salary_hidden_size, activation='relu', name='salary_hidden_layer_2')(salary_hidden)\n",
        "    salary_hidden = tf.keras.layers.Dropout(dropout, name='salary_dropout_1')(salary_hidden)\n",
        "    salary_classification = tf.keras.layers.Dense(num_salary_classes, activation='softmax', name='salary_classification')(salary_hidden)\n",
        "\n",
        "\n",
        "\n",
        "    classification_model = tf.keras.Model(inputs=[input_ids, token_type_ids, attention_mask],\n",
        "                                          outputs=[level_classification, salary_classification])\n",
        "\n",
        "\n",
        "    classification_model.compile(optimizer=tf.keras.optimizers.Adam(learning_rate=learning_rate),\n",
        "                                 loss={'level_classification': masked_loss_function,\n",
        "                                       'salary_classification': masked_loss_function},\n",
        "                                 loss_weights=[LEVEL_WEIGHT,\n",
        "                                               SALARY_WEIGHT],\n",
        "                                 metrics={'level_classification': 'accuracy',\n",
        "                                          'salary_classification': 'accuracy'})\n",
        "\n",
        "    return classification_model\n",
        "\n",
        "\n"
      ]
    },
    {
      "cell_type": "code",
      "execution_count": null,
      "metadata": {
        "id": "ay_9cRlTawDZ",
        "colab": {
          "base_uri": "https://localhost:8080/"
        },
        "outputId": "d8f154fd-e2eb-4c2c-aa86-c0ef9e55c955"
      },
      "outputs": [
        {
          "metadata": {
            "tags": null
          },
          "name": "stdout",
          "output_type": "stream",
          "text": [
            "Epoch 1/3\n"
          ]
        },
        {
          "metadata": {
            "tags": null
          },
          "name": "stderr",
          "output_type": "stream",
          "text": [
            "WARNING:tensorflow:Gradients do not exist for variables ['tf_bert_model_1/bert/pooler/dense/kernel:0', 'tf_bert_model_1/bert/pooler/dense/bias:0'] when minimizing the loss. If you're using `model.compile()`, did you forget to provide a `loss` argument?\n",
            "WARNING:tensorflow:Gradients do not exist for variables ['tf_bert_model_1/bert/pooler/dense/kernel:0', 'tf_bert_model_1/bert/pooler/dense/bias:0'] when minimizing the loss. If you're using `model.compile()`, did you forget to provide a `loss` argument?\n",
            "WARNING:tensorflow:Gradients do not exist for variables ['tf_bert_model_1/bert/pooler/dense/kernel:0', 'tf_bert_model_1/bert/pooler/dense/bias:0'] when minimizing the loss. If you're using `model.compile()`, did you forget to provide a `loss` argument?\n",
            "WARNING:tensorflow:Gradients do not exist for variables ['tf_bert_model_1/bert/pooler/dense/kernel:0', 'tf_bert_model_1/bert/pooler/dense/bias:0'] when minimizing the loss. If you're using `model.compile()`, did you forget to provide a `loss` argument?\n"
          ]
        },
        {
          "output_type": "stream",
          "name": "stdout",
          "text": [
            "1851/1851 [==============================] - 1676s 881ms/step - loss: 1.4399 - level_classification_loss: 1.1851 - salary_classification_loss: 1.6947 - level_classification_accuracy: 0.5172 - salary_classification_accuracy: 0.0877 - val_loss: 1.4316 - val_level_classification_loss: 1.2132 - val_salary_classification_loss: 1.6499 - val_level_classification_accuracy: 0.4961 - val_salary_classification_accuracy: 0.0997\n",
            "Epoch 2/3\n",
            "1851/1851 [==============================] - ETA: 0s - loss: 1.2215 - level_classification_loss: 0.8144 - salary_classification_loss: 1.6286 - level_classification_accuracy: 0.6665 - salary_classification_accuracy: 0.1145"
          ]
        }
      ],
      "source": [
        "#@title Create Model and Train - Take 2\n",
        "\n",
        "\n",
        "# Fresh instance of BERT model\n",
        "bert_model = TFBertModel.from_pretrained('bert-base-cased')\n",
        "multi_output_model = create_bert_multi_output_model(bert_model)\n",
        "\n",
        "\n",
        "# Fit the model\n",
        "multi_output_model_history = multi_output_model.fit(\n",
        "    train_inputs,\n",
        "    {\"level_classification\": train_level_labels, \"salary_classification\": train_salary_labels},\n",
        "    validation_data=(val_inputs, {\"level_classification\": val_level_labels,\"salary_classification\": val_salary_labels}),\n",
        "    batch_size=32,\n",
        "    epochs=3,\n",
        "    verbose=1,\n",
        "    shuffle=True\n",
        ")\n",
        "\n"
      ]
    },
    {
      "cell_type": "code",
      "source": [
        "# keras.utils.plot_model(multi_output_model, show_shapes=False, show_dtype=False, show_layer_names=True, dpi=120)"
      ],
      "metadata": {
        "id": "05XU1RfWG3jQ"
      },
      "execution_count": null,
      "outputs": []
    },
    {
      "cell_type": "code",
      "execution_count": null,
      "metadata": {
        "id": "3Zcn3mt6F3By"
      },
      "outputs": [],
      "source": [
        "#@title Export model weights\n",
        "\n",
        "\n",
        "# export model weights\n",
        "multi_output_model.save_weights('./model_2_bert/model_2_bert_base_weights')\n",
        "\n",
        "\n",
        "\n",
        "\n"
      ]
    }
  ],
  "metadata": {
    "accelerator": "GPU",
    "colab": {
      "gpuType": "A100",
      "machine_shape": "hm",
      "provenance": [],
      "include_colab_link": true
    },
    "kernelspec": {
      "display_name": "Python 3",
      "name": "python3"
    },
    "language_info": {
      "name": "python"
    },
    "widgets": {
      "application/vnd.jupyter.widget-state+json": {
        "b206a8ae043b468e83badedbfebaf851": {
          "model_module": "@jupyter-widgets/controls",
          "model_name": "HBoxModel",
          "model_module_version": "1.5.0",
          "state": {
            "_dom_classes": [],
            "_model_module": "@jupyter-widgets/controls",
            "_model_module_version": "1.5.0",
            "_model_name": "HBoxModel",
            "_view_count": null,
            "_view_module": "@jupyter-widgets/controls",
            "_view_module_version": "1.5.0",
            "_view_name": "HBoxView",
            "box_style": "",
            "children": [
              "IPY_MODEL_9243e483627f45c2af3546c455b48705",
              "IPY_MODEL_e7040a96f9aa4d80b356f1f15b75d381",
              "IPY_MODEL_006d44022b854100a5629624541678e7"
            ],
            "layout": "IPY_MODEL_b6caa325e9834bddb3c8879dfb404ff9"
          }
        },
        "9243e483627f45c2af3546c455b48705": {
          "model_module": "@jupyter-widgets/controls",
          "model_name": "HTMLModel",
          "model_module_version": "1.5.0",
          "state": {
            "_dom_classes": [],
            "_model_module": "@jupyter-widgets/controls",
            "_model_module_version": "1.5.0",
            "_model_name": "HTMLModel",
            "_view_count": null,
            "_view_module": "@jupyter-widgets/controls",
            "_view_module_version": "1.5.0",
            "_view_name": "HTMLView",
            "description": "",
            "description_tooltip": null,
            "layout": "IPY_MODEL_5435335f6d9d445e9442e5da4329c0a2",
            "placeholder": "​",
            "style": "IPY_MODEL_4553f8105a494875acdbb83fdde937f1",
            "value": "config.json: 100%"
          }
        },
        "e7040a96f9aa4d80b356f1f15b75d381": {
          "model_module": "@jupyter-widgets/controls",
          "model_name": "FloatProgressModel",
          "model_module_version": "1.5.0",
          "state": {
            "_dom_classes": [],
            "_model_module": "@jupyter-widgets/controls",
            "_model_module_version": "1.5.0",
            "_model_name": "FloatProgressModel",
            "_view_count": null,
            "_view_module": "@jupyter-widgets/controls",
            "_view_module_version": "1.5.0",
            "_view_name": "ProgressView",
            "bar_style": "success",
            "description": "",
            "description_tooltip": null,
            "layout": "IPY_MODEL_b266992f8e4d421dacfb7023f9bf9256",
            "max": 570,
            "min": 0,
            "orientation": "horizontal",
            "style": "IPY_MODEL_61c54d47a42541678acd92aa19cbe143",
            "value": 570
          }
        },
        "006d44022b854100a5629624541678e7": {
          "model_module": "@jupyter-widgets/controls",
          "model_name": "HTMLModel",
          "model_module_version": "1.5.0",
          "state": {
            "_dom_classes": [],
            "_model_module": "@jupyter-widgets/controls",
            "_model_module_version": "1.5.0",
            "_model_name": "HTMLModel",
            "_view_count": null,
            "_view_module": "@jupyter-widgets/controls",
            "_view_module_version": "1.5.0",
            "_view_name": "HTMLView",
            "description": "",
            "description_tooltip": null,
            "layout": "IPY_MODEL_fd93aa8038c24b209e215c6a66fbff14",
            "placeholder": "​",
            "style": "IPY_MODEL_9ebb3ba18ba64173ab1c7bd7154ab837",
            "value": " 570/570 [00:00&lt;00:00, 50.1kB/s]"
          }
        },
        "b6caa325e9834bddb3c8879dfb404ff9": {
          "model_module": "@jupyter-widgets/base",
          "model_name": "LayoutModel",
          "model_module_version": "1.2.0",
          "state": {
            "_model_module": "@jupyter-widgets/base",
            "_model_module_version": "1.2.0",
            "_model_name": "LayoutModel",
            "_view_count": null,
            "_view_module": "@jupyter-widgets/base",
            "_view_module_version": "1.2.0",
            "_view_name": "LayoutView",
            "align_content": null,
            "align_items": null,
            "align_self": null,
            "border": null,
            "bottom": null,
            "display": null,
            "flex": null,
            "flex_flow": null,
            "grid_area": null,
            "grid_auto_columns": null,
            "grid_auto_flow": null,
            "grid_auto_rows": null,
            "grid_column": null,
            "grid_gap": null,
            "grid_row": null,
            "grid_template_areas": null,
            "grid_template_columns": null,
            "grid_template_rows": null,
            "height": null,
            "justify_content": null,
            "justify_items": null,
            "left": null,
            "margin": null,
            "max_height": null,
            "max_width": null,
            "min_height": null,
            "min_width": null,
            "object_fit": null,
            "object_position": null,
            "order": null,
            "overflow": null,
            "overflow_x": null,
            "overflow_y": null,
            "padding": null,
            "right": null,
            "top": null,
            "visibility": null,
            "width": null
          }
        },
        "5435335f6d9d445e9442e5da4329c0a2": {
          "model_module": "@jupyter-widgets/base",
          "model_name": "LayoutModel",
          "model_module_version": "1.2.0",
          "state": {
            "_model_module": "@jupyter-widgets/base",
            "_model_module_version": "1.2.0",
            "_model_name": "LayoutModel",
            "_view_count": null,
            "_view_module": "@jupyter-widgets/base",
            "_view_module_version": "1.2.0",
            "_view_name": "LayoutView",
            "align_content": null,
            "align_items": null,
            "align_self": null,
            "border": null,
            "bottom": null,
            "display": null,
            "flex": null,
            "flex_flow": null,
            "grid_area": null,
            "grid_auto_columns": null,
            "grid_auto_flow": null,
            "grid_auto_rows": null,
            "grid_column": null,
            "grid_gap": null,
            "grid_row": null,
            "grid_template_areas": null,
            "grid_template_columns": null,
            "grid_template_rows": null,
            "height": null,
            "justify_content": null,
            "justify_items": null,
            "left": null,
            "margin": null,
            "max_height": null,
            "max_width": null,
            "min_height": null,
            "min_width": null,
            "object_fit": null,
            "object_position": null,
            "order": null,
            "overflow": null,
            "overflow_x": null,
            "overflow_y": null,
            "padding": null,
            "right": null,
            "top": null,
            "visibility": null,
            "width": null
          }
        },
        "4553f8105a494875acdbb83fdde937f1": {
          "model_module": "@jupyter-widgets/controls",
          "model_name": "DescriptionStyleModel",
          "model_module_version": "1.5.0",
          "state": {
            "_model_module": "@jupyter-widgets/controls",
            "_model_module_version": "1.5.0",
            "_model_name": "DescriptionStyleModel",
            "_view_count": null,
            "_view_module": "@jupyter-widgets/base",
            "_view_module_version": "1.2.0",
            "_view_name": "StyleView",
            "description_width": ""
          }
        },
        "b266992f8e4d421dacfb7023f9bf9256": {
          "model_module": "@jupyter-widgets/base",
          "model_name": "LayoutModel",
          "model_module_version": "1.2.0",
          "state": {
            "_model_module": "@jupyter-widgets/base",
            "_model_module_version": "1.2.0",
            "_model_name": "LayoutModel",
            "_view_count": null,
            "_view_module": "@jupyter-widgets/base",
            "_view_module_version": "1.2.0",
            "_view_name": "LayoutView",
            "align_content": null,
            "align_items": null,
            "align_self": null,
            "border": null,
            "bottom": null,
            "display": null,
            "flex": null,
            "flex_flow": null,
            "grid_area": null,
            "grid_auto_columns": null,
            "grid_auto_flow": null,
            "grid_auto_rows": null,
            "grid_column": null,
            "grid_gap": null,
            "grid_row": null,
            "grid_template_areas": null,
            "grid_template_columns": null,
            "grid_template_rows": null,
            "height": null,
            "justify_content": null,
            "justify_items": null,
            "left": null,
            "margin": null,
            "max_height": null,
            "max_width": null,
            "min_height": null,
            "min_width": null,
            "object_fit": null,
            "object_position": null,
            "order": null,
            "overflow": null,
            "overflow_x": null,
            "overflow_y": null,
            "padding": null,
            "right": null,
            "top": null,
            "visibility": null,
            "width": null
          }
        },
        "61c54d47a42541678acd92aa19cbe143": {
          "model_module": "@jupyter-widgets/controls",
          "model_name": "ProgressStyleModel",
          "model_module_version": "1.5.0",
          "state": {
            "_model_module": "@jupyter-widgets/controls",
            "_model_module_version": "1.5.0",
            "_model_name": "ProgressStyleModel",
            "_view_count": null,
            "_view_module": "@jupyter-widgets/base",
            "_view_module_version": "1.2.0",
            "_view_name": "StyleView",
            "bar_color": null,
            "description_width": ""
          }
        },
        "fd93aa8038c24b209e215c6a66fbff14": {
          "model_module": "@jupyter-widgets/base",
          "model_name": "LayoutModel",
          "model_module_version": "1.2.0",
          "state": {
            "_model_module": "@jupyter-widgets/base",
            "_model_module_version": "1.2.0",
            "_model_name": "LayoutModel",
            "_view_count": null,
            "_view_module": "@jupyter-widgets/base",
            "_view_module_version": "1.2.0",
            "_view_name": "LayoutView",
            "align_content": null,
            "align_items": null,
            "align_self": null,
            "border": null,
            "bottom": null,
            "display": null,
            "flex": null,
            "flex_flow": null,
            "grid_area": null,
            "grid_auto_columns": null,
            "grid_auto_flow": null,
            "grid_auto_rows": null,
            "grid_column": null,
            "grid_gap": null,
            "grid_row": null,
            "grid_template_areas": null,
            "grid_template_columns": null,
            "grid_template_rows": null,
            "height": null,
            "justify_content": null,
            "justify_items": null,
            "left": null,
            "margin": null,
            "max_height": null,
            "max_width": null,
            "min_height": null,
            "min_width": null,
            "object_fit": null,
            "object_position": null,
            "order": null,
            "overflow": null,
            "overflow_x": null,
            "overflow_y": null,
            "padding": null,
            "right": null,
            "top": null,
            "visibility": null,
            "width": null
          }
        },
        "9ebb3ba18ba64173ab1c7bd7154ab837": {
          "model_module": "@jupyter-widgets/controls",
          "model_name": "DescriptionStyleModel",
          "model_module_version": "1.5.0",
          "state": {
            "_model_module": "@jupyter-widgets/controls",
            "_model_module_version": "1.5.0",
            "_model_name": "DescriptionStyleModel",
            "_view_count": null,
            "_view_module": "@jupyter-widgets/base",
            "_view_module_version": "1.2.0",
            "_view_name": "StyleView",
            "description_width": ""
          }
        },
        "ccaeb3c64d5645ccb696e1c132b79df6": {
          "model_module": "@jupyter-widgets/controls",
          "model_name": "HBoxModel",
          "model_module_version": "1.5.0",
          "state": {
            "_dom_classes": [],
            "_model_module": "@jupyter-widgets/controls",
            "_model_module_version": "1.5.0",
            "_model_name": "HBoxModel",
            "_view_count": null,
            "_view_module": "@jupyter-widgets/controls",
            "_view_module_version": "1.5.0",
            "_view_name": "HBoxView",
            "box_style": "",
            "children": [
              "IPY_MODEL_e55171dc7e20466bbdbf27c40d88c372",
              "IPY_MODEL_19dd026d6c32455baf51602c54ecd3cc",
              "IPY_MODEL_5042a4e915bb4200b579e6a2a9100b19"
            ],
            "layout": "IPY_MODEL_8507f1e4898c478fa8132f6d8900ff14"
          }
        },
        "e55171dc7e20466bbdbf27c40d88c372": {
          "model_module": "@jupyter-widgets/controls",
          "model_name": "HTMLModel",
          "model_module_version": "1.5.0",
          "state": {
            "_dom_classes": [],
            "_model_module": "@jupyter-widgets/controls",
            "_model_module_version": "1.5.0",
            "_model_name": "HTMLModel",
            "_view_count": null,
            "_view_module": "@jupyter-widgets/controls",
            "_view_module_version": "1.5.0",
            "_view_name": "HTMLView",
            "description": "",
            "description_tooltip": null,
            "layout": "IPY_MODEL_14acf22dd358411bb57a5fa3790c9cd8",
            "placeholder": "​",
            "style": "IPY_MODEL_35ed81144e8d4be6bf8b11213de4ee95",
            "value": "model.safetensors: 100%"
          }
        },
        "19dd026d6c32455baf51602c54ecd3cc": {
          "model_module": "@jupyter-widgets/controls",
          "model_name": "FloatProgressModel",
          "model_module_version": "1.5.0",
          "state": {
            "_dom_classes": [],
            "_model_module": "@jupyter-widgets/controls",
            "_model_module_version": "1.5.0",
            "_model_name": "FloatProgressModel",
            "_view_count": null,
            "_view_module": "@jupyter-widgets/controls",
            "_view_module_version": "1.5.0",
            "_view_name": "ProgressView",
            "bar_style": "success",
            "description": "",
            "description_tooltip": null,
            "layout": "IPY_MODEL_caeab9a8e1e5423fb797b0f813d96260",
            "max": 435755784,
            "min": 0,
            "orientation": "horizontal",
            "style": "IPY_MODEL_c145d1eb128443dfb0a9fb989fd82038",
            "value": 435755784
          }
        },
        "5042a4e915bb4200b579e6a2a9100b19": {
          "model_module": "@jupyter-widgets/controls",
          "model_name": "HTMLModel",
          "model_module_version": "1.5.0",
          "state": {
            "_dom_classes": [],
            "_model_module": "@jupyter-widgets/controls",
            "_model_module_version": "1.5.0",
            "_model_name": "HTMLModel",
            "_view_count": null,
            "_view_module": "@jupyter-widgets/controls",
            "_view_module_version": "1.5.0",
            "_view_name": "HTMLView",
            "description": "",
            "description_tooltip": null,
            "layout": "IPY_MODEL_6ccfbb481f214b2a96034814da0ac6b0",
            "placeholder": "​",
            "style": "IPY_MODEL_baf64daeb0994aa2b52b7452a8a9a8b5",
            "value": " 436M/436M [00:00&lt;00:00, 461MB/s]"
          }
        },
        "8507f1e4898c478fa8132f6d8900ff14": {
          "model_module": "@jupyter-widgets/base",
          "model_name": "LayoutModel",
          "model_module_version": "1.2.0",
          "state": {
            "_model_module": "@jupyter-widgets/base",
            "_model_module_version": "1.2.0",
            "_model_name": "LayoutModel",
            "_view_count": null,
            "_view_module": "@jupyter-widgets/base",
            "_view_module_version": "1.2.0",
            "_view_name": "LayoutView",
            "align_content": null,
            "align_items": null,
            "align_self": null,
            "border": null,
            "bottom": null,
            "display": null,
            "flex": null,
            "flex_flow": null,
            "grid_area": null,
            "grid_auto_columns": null,
            "grid_auto_flow": null,
            "grid_auto_rows": null,
            "grid_column": null,
            "grid_gap": null,
            "grid_row": null,
            "grid_template_areas": null,
            "grid_template_columns": null,
            "grid_template_rows": null,
            "height": null,
            "justify_content": null,
            "justify_items": null,
            "left": null,
            "margin": null,
            "max_height": null,
            "max_width": null,
            "min_height": null,
            "min_width": null,
            "object_fit": null,
            "object_position": null,
            "order": null,
            "overflow": null,
            "overflow_x": null,
            "overflow_y": null,
            "padding": null,
            "right": null,
            "top": null,
            "visibility": null,
            "width": null
          }
        },
        "14acf22dd358411bb57a5fa3790c9cd8": {
          "model_module": "@jupyter-widgets/base",
          "model_name": "LayoutModel",
          "model_module_version": "1.2.0",
          "state": {
            "_model_module": "@jupyter-widgets/base",
            "_model_module_version": "1.2.0",
            "_model_name": "LayoutModel",
            "_view_count": null,
            "_view_module": "@jupyter-widgets/base",
            "_view_module_version": "1.2.0",
            "_view_name": "LayoutView",
            "align_content": null,
            "align_items": null,
            "align_self": null,
            "border": null,
            "bottom": null,
            "display": null,
            "flex": null,
            "flex_flow": null,
            "grid_area": null,
            "grid_auto_columns": null,
            "grid_auto_flow": null,
            "grid_auto_rows": null,
            "grid_column": null,
            "grid_gap": null,
            "grid_row": null,
            "grid_template_areas": null,
            "grid_template_columns": null,
            "grid_template_rows": null,
            "height": null,
            "justify_content": null,
            "justify_items": null,
            "left": null,
            "margin": null,
            "max_height": null,
            "max_width": null,
            "min_height": null,
            "min_width": null,
            "object_fit": null,
            "object_position": null,
            "order": null,
            "overflow": null,
            "overflow_x": null,
            "overflow_y": null,
            "padding": null,
            "right": null,
            "top": null,
            "visibility": null,
            "width": null
          }
        },
        "35ed81144e8d4be6bf8b11213de4ee95": {
          "model_module": "@jupyter-widgets/controls",
          "model_name": "DescriptionStyleModel",
          "model_module_version": "1.5.0",
          "state": {
            "_model_module": "@jupyter-widgets/controls",
            "_model_module_version": "1.5.0",
            "_model_name": "DescriptionStyleModel",
            "_view_count": null,
            "_view_module": "@jupyter-widgets/base",
            "_view_module_version": "1.2.0",
            "_view_name": "StyleView",
            "description_width": ""
          }
        },
        "caeab9a8e1e5423fb797b0f813d96260": {
          "model_module": "@jupyter-widgets/base",
          "model_name": "LayoutModel",
          "model_module_version": "1.2.0",
          "state": {
            "_model_module": "@jupyter-widgets/base",
            "_model_module_version": "1.2.0",
            "_model_name": "LayoutModel",
            "_view_count": null,
            "_view_module": "@jupyter-widgets/base",
            "_view_module_version": "1.2.0",
            "_view_name": "LayoutView",
            "align_content": null,
            "align_items": null,
            "align_self": null,
            "border": null,
            "bottom": null,
            "display": null,
            "flex": null,
            "flex_flow": null,
            "grid_area": null,
            "grid_auto_columns": null,
            "grid_auto_flow": null,
            "grid_auto_rows": null,
            "grid_column": null,
            "grid_gap": null,
            "grid_row": null,
            "grid_template_areas": null,
            "grid_template_columns": null,
            "grid_template_rows": null,
            "height": null,
            "justify_content": null,
            "justify_items": null,
            "left": null,
            "margin": null,
            "max_height": null,
            "max_width": null,
            "min_height": null,
            "min_width": null,
            "object_fit": null,
            "object_position": null,
            "order": null,
            "overflow": null,
            "overflow_x": null,
            "overflow_y": null,
            "padding": null,
            "right": null,
            "top": null,
            "visibility": null,
            "width": null
          }
        },
        "c145d1eb128443dfb0a9fb989fd82038": {
          "model_module": "@jupyter-widgets/controls",
          "model_name": "ProgressStyleModel",
          "model_module_version": "1.5.0",
          "state": {
            "_model_module": "@jupyter-widgets/controls",
            "_model_module_version": "1.5.0",
            "_model_name": "ProgressStyleModel",
            "_view_count": null,
            "_view_module": "@jupyter-widgets/base",
            "_view_module_version": "1.2.0",
            "_view_name": "StyleView",
            "bar_color": null,
            "description_width": ""
          }
        },
        "6ccfbb481f214b2a96034814da0ac6b0": {
          "model_module": "@jupyter-widgets/base",
          "model_name": "LayoutModel",
          "model_module_version": "1.2.0",
          "state": {
            "_model_module": "@jupyter-widgets/base",
            "_model_module_version": "1.2.0",
            "_model_name": "LayoutModel",
            "_view_count": null,
            "_view_module": "@jupyter-widgets/base",
            "_view_module_version": "1.2.0",
            "_view_name": "LayoutView",
            "align_content": null,
            "align_items": null,
            "align_self": null,
            "border": null,
            "bottom": null,
            "display": null,
            "flex": null,
            "flex_flow": null,
            "grid_area": null,
            "grid_auto_columns": null,
            "grid_auto_flow": null,
            "grid_auto_rows": null,
            "grid_column": null,
            "grid_gap": null,
            "grid_row": null,
            "grid_template_areas": null,
            "grid_template_columns": null,
            "grid_template_rows": null,
            "height": null,
            "justify_content": null,
            "justify_items": null,
            "left": null,
            "margin": null,
            "max_height": null,
            "max_width": null,
            "min_height": null,
            "min_width": null,
            "object_fit": null,
            "object_position": null,
            "order": null,
            "overflow": null,
            "overflow_x": null,
            "overflow_y": null,
            "padding": null,
            "right": null,
            "top": null,
            "visibility": null,
            "width": null
          }
        },
        "baf64daeb0994aa2b52b7452a8a9a8b5": {
          "model_module": "@jupyter-widgets/controls",
          "model_name": "DescriptionStyleModel",
          "model_module_version": "1.5.0",
          "state": {
            "_model_module": "@jupyter-widgets/controls",
            "_model_module_version": "1.5.0",
            "_model_name": "DescriptionStyleModel",
            "_view_count": null,
            "_view_module": "@jupyter-widgets/base",
            "_view_module_version": "1.2.0",
            "_view_name": "StyleView",
            "description_width": ""
          }
        }
      }
    }
  },
  "nbformat": 4,
  "nbformat_minor": 0
}