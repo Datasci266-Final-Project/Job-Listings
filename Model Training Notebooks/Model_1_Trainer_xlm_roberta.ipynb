{
  "cells": [
    {
      "cell_type": "markdown",
      "metadata": {
        "id": "view-in-github",
        "colab_type": "text"
      },
      "source": [
        "<a href=\"https://colab.research.google.com/github/Datasci266-Final-Project/Job-Listings/blob/main/Model%20Training%20Notebooks/Model_1_Trainer_xlm_roberta.ipynb\" target=\"_parent\"><img src=\"https://colab.research.google.com/assets/colab-badge.svg\" alt=\"Open In Colab\"/></a>"
      ]
    },
    {
      "cell_type": "code",
      "execution_count": null,
      "metadata": {
        "id": "ZEs5pbHpSTOA",
        "colab": {
          "base_uri": "https://localhost:8080/"
        },
        "outputId": "b2851d38-6039-4fd8-e708-cf09626bf1a3"
      },
      "outputs": [
        {
          "output_type": "stream",
          "name": "stdout",
          "text": [
            "Traceback (most recent call last):\n",
            "  File \"/usr/local/lib/python3.10/dist-packages/pip/_vendor/pkg_resources/__init__.py\", line 3108, in _dep_map\n",
            "    return self.__dep_map\n",
            "  File \"/usr/local/lib/python3.10/dist-packages/pip/_vendor/pkg_resources/__init__.py\", line 2901, in __getattr__\n",
            "    raise AttributeError(attr)\n",
            "AttributeError: _DistInfoDistribution__dep_map\n",
            "\n",
            "During handling of the above exception, another exception occurred:\n",
            "\n",
            "Traceback (most recent call last):\n",
            "  File \"/usr/local/lib/python3.10/dist-packages/pip/_internal/cli/base_command.py\", line 169, in exc_logging_wrapper\n",
            "    status = run_func(*args)\n",
            "  File \"/usr/local/lib/python3.10/dist-packages/pip/_internal/cli/req_command.py\", line 242, in wrapper\n",
            "    return func(self, options, args)\n",
            "  File \"/usr/local/lib/python3.10/dist-packages/pip/_internal/commands/install.py\", line 441, in run\n",
            "    conflicts = self._determine_conflicts(to_install)\n",
            "  File \"/usr/local/lib/python3.10/dist-packages/pip/_internal/commands/install.py\", line 572, in _determine_conflicts\n",
            "    return check_install_conflicts(to_install)\n",
            "  File \"/usr/local/lib/python3.10/dist-packages/pip/_internal/operations/check.py\", line 101, in check_install_conflicts\n",
            "    package_set, _ = create_package_set_from_installed()\n",
            "  File \"/usr/local/lib/python3.10/dist-packages/pip/_internal/operations/check.py\", line 42, in create_package_set_from_installed\n",
            "    dependencies = list(dist.iter_dependencies())\n",
            "  File \"/usr/local/lib/python3.10/dist-packages/pip/_internal/metadata/pkg_resources.py\", line 216, in iter_dependencies\n",
            "    return self._dist.requires(extras)\n",
            "  File \"/usr/local/lib/python3.10/dist-packages/pip/_vendor/pkg_resources/__init__.py\", line 2821, in requires\n",
            "    dm = self._dep_map\n",
            "  File \"/usr/local/lib/python3.10/dist-packages/pip/_vendor/pkg_resources/__init__.py\", line 3110, in _dep_map\n",
            "    self.__dep_map = self._compute_dependencies()\n",
            "  File \"/usr/local/lib/python3.10/dist-packages/pip/_vendor/pkg_resources/__init__.py\", line 3132, in _compute_dependencies\n",
            "    dm[s_extra] = [r for r in reqs_for_extra(extra) if r not in common]\n",
            "  File \"/usr/local/lib/python3.10/dist-packages/pip/_vendor/pkg_resources/__init__.py\", line 3132, in <listcomp>\n",
            "    dm[s_extra] = [r for r in reqs_for_extra(extra) if r not in common]\n",
            "  File \"/usr/local/lib/python3.10/dist-packages/pip/_vendor/pkg_resources/__init__.py\", line 3124, in reqs_for_extra\n",
            "    if not req.marker or req.marker.evaluate({'extra': extra}):\n",
            "  File \"/usr/local/lib/python3.10/dist-packages/pip/_vendor/packaging/markers.py\", line 304, in evaluate\n",
            "    return _evaluate_markers(self._markers, current_environment)\n",
            "  File \"/usr/local/lib/python3.10/dist-packages/pip/_vendor/packaging/markers.py\", line 240, in _evaluate_markers\n",
            "    groups[-1].append(_eval_op(lhs_value, op, rhs_value))\n",
            "  File \"/usr/local/lib/python3.10/dist-packages/pip/_vendor/packaging/markers.py\", line 197, in _eval_op\n",
            "    oper: Optional[Operator] = _operators.get(op.serialize())\n",
            "  File \"/usr/local/lib/python3.10/dist-packages/pip/_vendor/packaging/markers.py\", line 80, in serialize\n",
            "    def serialize(self) -> str:\n",
            "KeyboardInterrupt\n",
            "\n",
            "During handling of the above exception, another exception occurred:\n",
            "\n",
            "Traceback (most recent call last):\n",
            "  File \"/usr/local/bin/pip3\", line 8, in <module>\n",
            "    sys.exit(main())\n",
            "  File \"/usr/local/lib/python3.10/dist-packages/pip/_internal/cli/main.py\", line 79, in main\n",
            "    return command.main(cmd_args)\n",
            "  File \"/usr/local/lib/python3.10/dist-packages/pip/_internal/cli/base_command.py\", line 101, in main\n",
            "    return self._main(args)\n",
            "  File \"/usr/local/lib/python3.10/dist-packages/pip/_internal/cli/base_command.py\", line 223, in _main\n",
            "    return run(options, args)\n",
            "  File \"/usr/local/lib/python3.10/dist-packages/pip/_internal/cli/base_command.py\", line 206, in exc_logging_wrapper\n",
            "    logger.critical(\"Operation cancelled by user\")\n",
            "  File \"/usr/lib/python3.10/logging/__init__.py\", line 1524, in critical\n",
            "    self._log(CRITICAL, msg, args, **kwargs)\n",
            "  File \"/usr/lib/python3.10/logging/__init__.py\", line 1622, in _log\n",
            "    record = self.makeRecord(self.name, level, fn, lno, msg, args,\n",
            "  File \"/usr/lib/python3.10/logging/__init__.py\", line 1591, in makeRecord\n",
            "    rv = _logRecordFactory(name, level, fn, lno, msg, args, exc_info, func,\n",
            "  File \"/usr/lib/python3.10/logging/__init__.py\", line 283, in __init__\n",
            "    def __init__(self, name, level, pathname, lineno,\n",
            "KeyboardInterrupt\n",
            "^C\n"
          ]
        }
      ],
      "source": [
        "#@title Installs\n",
        "\n",
        "!pip install pydot --quiet\n",
        "!pip install transformers==4.37.2 --quiet\n",
        "!pip install -U imbalanced-learn --quiet"
      ]
    },
    {
      "cell_type": "code",
      "execution_count": null,
      "metadata": {
        "id": "WRAfKTehSgxQ"
      },
      "outputs": [],
      "source": [
        "#@title Imports\n",
        "import pandas as pd\n",
        "\n",
        "import numpy as np\n",
        "import random\n",
        "import torch\n",
        "\n",
        "import tensorflow as tf\n",
        "from tensorflow import keras\n",
        "\n",
        "from tensorflow.keras.layers import Embedding, Input, Dense, Lambda, Dropout\n",
        "from tensorflow.keras.models import Model\n",
        "import tensorflow.keras.backend as K\n",
        "import tensorflow_datasets as tfds\n",
        "\n",
        "from imblearn.over_sampling import RandomOverSampler\n",
        "from imblearn.under_sampling import RandomUnderSampler\n",
        "from imblearn.over_sampling import SMOTE\n",
        "\n",
        "import sklearn as sk\n",
        "import os\n",
        "import nltk\n",
        "from nltk.data import find\n",
        "\n",
        "import matplotlib.pyplot as plt\n",
        "\n",
        "import re\n",
        "from sklearn.model_selection import train_test_split\n",
        "\n",
        "from transformers import BertTokenizer, TFBertModel, AutoTokenizer, TFXLMRobertaModel #\"FacebookAI/xlm-roberta-base\"\n",
        "\n",
        "from transformers import logging\n",
        "logging.set_verbosity_error()\n",
        "\n",
        "from collections import Counter\n",
        "\n",
        "import pickle"
      ]
    },
    {
      "cell_type": "code",
      "execution_count": null,
      "metadata": {
        "id": "rHlaNR4jf5xH"
      },
      "outputs": [],
      "source": [
        "# Set seed to 10\n",
        "\n",
        "seed_value = 10\n",
        "\n",
        "random.seed(seed_value)\n",
        "np.random.seed(seed_value)\n",
        "torch.manual_seed(seed_value)\n",
        "torch.cuda.manual_seed_all(seed_value)\n",
        "tf.random.set_seed(seed_value)"
      ]
    },
    {
      "cell_type": "code",
      "execution_count": null,
      "metadata": {
        "id": "W6vCIEn8Sgzq",
        "colab": {
          "base_uri": "https://localhost:8080/"
        },
        "outputId": "a8bceedc-bc7d-40ad-ba3b-dfa6e9246eb4"
      },
      "outputs": [
        {
          "output_type": "stream",
          "name": "stdout",
          "text": [
            "Drive already mounted at /content/drive; to attempt to forcibly remount, call drive.mount(\"/content/drive\", force_remount=True).\n",
            "/content/drive/.shortcut-targets-by-id/1V3QooLePiHR_DaZhbXQhsjmP1Ez5fv5F/DataSci 266 Project\n"
          ]
        }
      ],
      "source": [
        "from google.colab import drive\n",
        "drive.mount('/content/drive')\n",
        "\n",
        "%cd /content/drive/My Drive/DataSci 266 Project\n",
        "\n",
        "column_names = ['index','title','text','level','salary']\n"
      ]
    },
    {
      "cell_type": "code",
      "execution_count": null,
      "metadata": {
        "id": "yplFUNQWSmCA"
      },
      "outputs": [],
      "source": [
        "pd.set_option('display.max_colwidth', 10000)"
      ]
    },
    {
      "cell_type": "code",
      "execution_count": null,
      "metadata": {
        "id": "NguVcfYweKGI"
      },
      "outputs": [],
      "source": [
        "# Dictionaries\n",
        "level_key = {\n",
        "    \"student_intern\": 0,\n",
        "    \"entry\": 1,\n",
        "    \"junior\": 2,\n",
        "    \"mid\": 3,\n",
        "    \"senior\": 4,\n",
        "    \"executive\": 5,\n",
        "    np.nan: -1\n",
        "}\n",
        "\n",
        "# Define salary_key dictionary\n",
        "salary_key = {\n",
        "    \"<45k\": 0,\n",
        "    \"45-65k\": 1,\n",
        "    \"65-85k\": 2,\n",
        "    \"85-110k\": 3,\n",
        "    \"110-150k\": 4,\n",
        "    \"150-200k\": 5,\n",
        "    \">200k\": 6,\n",
        "    np.nan: -1\n",
        "}\n"
      ]
    },
    {
      "cell_type": "code",
      "source": [
        "#@title Import Tokens, Labels, Data\n",
        "\n",
        "# data\n",
        "with open(r'Model Objects/train_final_df.pickle', 'rb') as handle:\n",
        "    train_data = pickle.load(handle)\n",
        "with open(r'Model Objects/test_data.pickle', 'rb') as handle:\n",
        "    test_data = pickle.load(handle)\n",
        "with open(r'Model Objects/val_data.pickle', 'rb') as handle:\n",
        "    val_data = pickle.load(handle)\n",
        "\n",
        "\n",
        "# labels\n",
        "with open(r'Model Objects/Labels/labels_level_train_baseline.pickle', 'rb') as handle:\n",
        "    train_level_labels = pickle.load(handle)\n",
        "\n",
        "with open(r'Model Objects/Labels/labels_salary_train_baseline.pickle', 'rb') as handle:\n",
        "    train_salary_labels = pickle.load(handle)\n",
        "\n",
        "\n",
        "with open(r'Model Objects/Labels/labels_level_test_baseline.pickle', 'rb') as handle:\n",
        "    test_level_labels = pickle.load(handle)\n",
        "\n",
        "with open(r'Model Objects/Labels/labels_salary_test_baseline.pickle', 'rb') as handle:\n",
        "    test_salary_labels = pickle.load(handle)\n",
        "\n",
        "\n",
        "with open(r'Model Objects/Labels/labels_level_val_baseline.pickle', 'rb') as handle:\n",
        "    val_level_labels = pickle.load(handle)\n",
        "\n",
        "with open(r'Model Objects/Labels/labels_salary_val_baseline.pickle', 'rb') as handle:\n",
        "    val_salary_labels = pickle.load(handle)\n",
        "\n",
        "\n",
        "# tokenized inputs\n",
        "with open(r'Model Objects/Tokenized Inputs: xlm-RoBERTa/train_inputs_xlm_roberta.pickle', 'rb') as handle:\n",
        "    train_inputs = pickle.load(handle)\n",
        "\n",
        "with open(r'Model Objects/Tokenized Inputs: xlm-RoBERTa/test_inputs_xlm_roberta.pickle', 'rb') as handle:\n",
        "    test_inputs = pickle.load(handle)\n",
        "\n",
        "with open(r'Model Objects/Tokenized Inputs: xlm-RoBERTa/val_inputs_xlm_roberta.pickle', 'rb') as handle:\n",
        "    val_inputs = pickle.load(handle)"
      ],
      "metadata": {
        "id": "G_UfkhAvKypz"
      },
      "execution_count": null,
      "outputs": []
    },
    {
      "cell_type": "code",
      "execution_count": null,
      "metadata": {
        "id": "QBbeLBLWTfva",
        "colab": {
          "base_uri": "https://localhost:8080/",
          "height": 185,
          "referenced_widgets": [
            "9a4bfffb6f294cc881680837d9896dd9",
            "92532e3b4bd944ba803e8d0ce0f7e5c3",
            "795f393181af465a9f5d361c1f63a6ef",
            "8d14feef104f480aaf70041aa66a1631",
            "76c3cd5718364e60b9788245dac448c8",
            "4525644d1dd0418883f6cdac601881dc",
            "0bbb6cf668e3477dbbe090544b0b4f57",
            "edb6a0d18c10479cbdd3a40e4b32a3ea",
            "96571beec5ed4e9fbb4ffc4e03a8fb81",
            "e945e9b556c04d9fb6d1390e7c6077a0",
            "cf8da5a8668647f5b1f5525e54f1dab4",
            "dcdf3f4609e648e1ba5a71c1b0f321e4",
            "b9dc8b40143f4585bb766da6764a3f2c",
            "e184a404bbcb4da38898468e07a05071",
            "db05e8d2b89f47788b98931358d2bd57",
            "297886e4cb9b45668f0521e987ac94f0",
            "963cbf3d679749e289430be8fe96b783",
            "ad811c40770943a18cbb8728b57efa78",
            "9a7de94b6d424953815aec9558fe191d",
            "58c2632f2fc8483892202f899a04a099",
            "09b44829175945d186c89b3fc3b49efe",
            "22738073cf914eb48620cf0ab00dab4c"
          ]
        },
        "outputId": "6aa0d56d-4fa9-4647-8d20-6d20f41b6efb"
      },
      "outputs": [
        {
          "output_type": "stream",
          "name": "stderr",
          "text": [
            "/usr/local/lib/python3.10/dist-packages/huggingface_hub/utils/_token.py:88: UserWarning: \n",
            "The secret `HF_TOKEN` does not exist in your Colab secrets.\n",
            "To authenticate with the Hugging Face Hub, create a token in your settings tab (https://huggingface.co/settings/tokens), set it as secret in your Google Colab and restart your session.\n",
            "You will be able to reuse this secret in all of your notebooks.\n",
            "Please note that authentication is recommended but still optional to access public models or datasets.\n",
            "  warnings.warn(\n"
          ]
        },
        {
          "output_type": "display_data",
          "data": {
            "text/plain": [
              "config.json:   0%|          | 0.00/615 [00:00<?, ?B/s]"
            ],
            "application/vnd.jupyter.widget-view+json": {
              "version_major": 2,
              "version_minor": 0,
              "model_id": "9a4bfffb6f294cc881680837d9896dd9"
            }
          },
          "metadata": {}
        },
        {
          "output_type": "display_data",
          "data": {
            "text/plain": [
              "model.safetensors:   0%|          | 0.00/1.12G [00:00<?, ?B/s]"
            ],
            "application/vnd.jupyter.widget-view+json": {
              "version_major": 2,
              "version_minor": 0,
              "model_id": "dcdf3f4609e648e1ba5a71c1b0f321e4"
            }
          },
          "metadata": {}
        }
      ],
      "source": [
        "#@title xlm-RoBERTa\n",
        "\n",
        "checkpoint = \"FacebookAI/xlm-roberta-base\"\n",
        "xlm_roberta_model = TFXLMRobertaModel.from_pretrained(checkpoint)"
      ]
    },
    {
      "cell_type": "code",
      "source": [
        "MAX_SEQUENCE_LENGTH = 512"
      ],
      "metadata": {
        "id": "-9LmAa-ALN8V"
      },
      "execution_count": null,
      "outputs": []
    },
    {
      "cell_type": "code",
      "execution_count": null,
      "metadata": {
        "id": "AutOaUy-awIv"
      },
      "outputs": [],
      "source": [
        "#@title Define Model\n",
        "\n",
        "# Masked Loss Function\n",
        "def masked_loss_function(y_true, y_pred):\n",
        "    mask = tf.math.logical_not(tf.math.equal(y_true, -1))  # Use -1 to represent missing values\n",
        "    mask = tf.cast(mask, tf.float32)\n",
        "\n",
        "    y_true = tf.cast(y_true, tf.float32)  # Cast y_true to float32 to match the type of y_pred\n",
        "    y_pred = tf.cast(y_pred, tf.float32)\n",
        "\n",
        "    return tf.keras.losses.sparse_categorical_crossentropy(y_true * mask, y_pred * mask)\n",
        "\n",
        "\n",
        "\n",
        "\n",
        "# BERT Model\n",
        "def create_xlm_roberta_multi_output_model(xlm_roberta_base_model,\n",
        "                                   trainable=True,\n",
        "                                 max_sequence_length=MAX_SEQUENCE_LENGTH,\n",
        "                                   num_level_classes=7,\n",
        "                                   num_salary_classes=8,\n",
        "                                 base_hidden_size=100,\n",
        "                                  level_hidden_size=100,\n",
        "                                  salary_hidden_size=100,\n",
        "                                 dropout=0.3,\n",
        "                                 learning_rate=0.00005,\n",
        "                                   LEVEL_WEIGHT=0.5,\n",
        "                                   SALARY_WEIGHT=0.5):\n",
        "\n",
        "    xlm_roberta_base_model.trainable = trainable\n",
        "\n",
        "    # Input layers\n",
        "    input_ids = tf.keras.layers.Input(shape=(max_sequence_length,), dtype=tf.int64, name='input_ids_layer')\n",
        "    attention_mask = tf.keras.layers.Input(shape=(max_sequence_length,), dtype=tf.int64, name='attention_mask_layer')\n",
        "\n",
        "    xlm_roberta_inputs = {\n",
        "        'input_ids': input_ids,\n",
        "        'attention_mask': attention_mask\n",
        "    }\n",
        "\n",
        "    xlm_roberta_out = xlm_roberta_base_model(xlm_roberta_inputs)\n",
        "\n",
        "    cls_token = xlm_roberta_out[0][:, 0, :]  # Extract CLS token\n",
        "    # pooler_token = xlm_roberta_out[1]\n",
        "\n",
        "    base_hidden = tf.keras.layers.Dense(base_hidden_size, activation='relu', name='base_hidden_layer_1')(cls_token)\n",
        "    base_out = tf.keras.layers.Dropout(dropout)(base_hidden)\n",
        "\n",
        "    # job experience level\n",
        "    level_hidden = tf.keras.layers.Dense(level_hidden_size, activation='relu', name='level_hidden_layer_1')(base_out)\n",
        "    level_hidden = tf.keras.layers.Dropout(dropout)(level_hidden)\n",
        "    level_classification = tf.keras.layers.Dense(num_level_classes, activation='softmax', name='level_classification')(level_hidden)\n",
        "\n",
        "    # salary bucket\n",
        "    salary_hidden = tf.keras.layers.Dense(salary_hidden_size, activation='relu', name='salary_hidden_layer_1')(base_out)\n",
        "    salary_hidden = tf.keras.layers.Dropout(dropout)(salary_hidden)\n",
        "    salary_classification = tf.keras.layers.Dense(num_salary_classes, activation='softmax', name='salary_classification')(salary_hidden)\n",
        "\n",
        "\n",
        "\n",
        "    classification_model = tf.keras.Model(inputs=[input_ids, attention_mask],\n",
        "                                          outputs=[level_classification, salary_classification])\n",
        "\n",
        "\n",
        "    classification_model.compile(optimizer=tf.keras.optimizers.Adam(learning_rate=learning_rate),\n",
        "                                 loss={'level_classification': masked_loss_function,\n",
        "                                       'salary_classification': masked_loss_function},\n",
        "                                 loss_weights=[LEVEL_WEIGHT,\n",
        "                                               SALARY_WEIGHT],\n",
        "                                 metrics={'level_classification': 'accuracy',\n",
        "                                          'salary_classification': 'accuracy'})\n",
        "\n",
        "    return classification_model\n",
        "\n",
        "\n"
      ]
    },
    {
      "cell_type": "code",
      "execution_count": null,
      "metadata": {
        "id": "ay_9cRlTawDZ",
        "colab": {
          "base_uri": "https://localhost:8080/"
        },
        "outputId": "7ee90801-bf09-4350-a6ab-f1286a9d40b1"
      },
      "outputs": [
        {
          "output_type": "stream",
          "name": "stdout",
          "text": [
            "Epoch 1/3\n"
          ]
        },
        {
          "output_type": "stream",
          "name": "stderr",
          "text": [
            "WARNING:tensorflow:Gradients do not exist for variables ['tfxlm_roberta_model_1/roberta/pooler/dense/kernel:0', 'tfxlm_roberta_model_1/roberta/pooler/dense/bias:0'] when minimizing the loss. If you're using `model.compile()`, did you forget to provide a `loss` argument?\n",
            "WARNING:tensorflow:Gradients do not exist for variables ['tfxlm_roberta_model_1/roberta/pooler/dense/kernel:0', 'tfxlm_roberta_model_1/roberta/pooler/dense/bias:0'] when minimizing the loss. If you're using `model.compile()`, did you forget to provide a `loss` argument?\n",
            "WARNING:tensorflow:Gradients do not exist for variables ['tfxlm_roberta_model_1/roberta/pooler/dense/kernel:0', 'tfxlm_roberta_model_1/roberta/pooler/dense/bias:0'] when minimizing the loss. If you're using `model.compile()`, did you forget to provide a `loss` argument?\n",
            "WARNING:tensorflow:Gradients do not exist for variables ['tfxlm_roberta_model_1/roberta/pooler/dense/kernel:0', 'tfxlm_roberta_model_1/roberta/pooler/dense/bias:0'] when minimizing the loss. If you're using `model.compile()`, did you forget to provide a `loss` argument?\n"
          ]
        },
        {
          "output_type": "stream",
          "name": "stdout",
          "text": [
            "1789/1789 [==============================] - 1638s 891ms/step - loss: 1.8941 - level_classification_loss: 1.7153 - salary_classification_loss: 2.0730 - level_classification_accuracy: 0.2751 - salary_classification_accuracy: 0.0255 - val_loss: 1.9901 - val_level_classification_loss: 1.9178 - val_salary_classification_loss: 2.0624 - val_level_classification_accuracy: 0.0545 - val_salary_classification_accuracy: 0.0225\n",
            "Epoch 2/3\n",
            "1789/1789 [==============================] - 1588s 888ms/step - loss: 1.9500 - level_classification_loss: 1.8346 - salary_classification_loss: 2.0654 - level_classification_accuracy: 0.1632 - salary_classification_accuracy: 0.0242 - val_loss: 1.9815 - val_level_classification_loss: 1.9063 - val_salary_classification_loss: 2.0567 - val_level_classification_accuracy: 0.0185 - val_salary_classification_accuracy: 0.0210\n",
            "Epoch 3/3\n",
            "1789/1789 [==============================] - 1588s 887ms/step - loss: 1.9440 - level_classification_loss: 1.8246 - salary_classification_loss: 2.0634 - level_classification_accuracy: 0.1606 - salary_classification_accuracy: 0.0230 - val_loss: 1.9825 - val_level_classification_loss: 1.9183 - val_salary_classification_loss: 2.0468 - val_level_classification_accuracy: 0.1425 - val_salary_classification_accuracy: 0.0331\n"
          ]
        }
      ],
      "source": [
        "#@title Create Model and Train - Take 1\n",
        "\n",
        "\n",
        "# Fresh instance of BERT model\n",
        "xlm_roberta_model = TFXLMRobertaModel.from_pretrained(\"FacebookAI/xlm-roberta-base\")\n",
        "multi_output_model = create_xlm_roberta_multi_output_model(xlm_roberta_model)\n",
        "\n",
        "\n",
        "# Fit the model\n",
        "multi_output_model_history = multi_output_model.fit(\n",
        "    train_inputs,\n",
        "    {\"level_classification\": train_level_labels, \"salary_classification\": train_salary_labels},\n",
        "    validation_data=(val_inputs, {\"level_classification\": val_level_labels,\"salary_classification\": val_salary_labels}),\n",
        "    batch_size=32,\n",
        "    epochs=3,\n",
        "    verbose=1,\n",
        "    shuffle=True\n",
        ")\n",
        "\n"
      ]
    },
    {
      "cell_type": "code",
      "source": [
        "keras.utils.plot_model(multi_output_model, show_shapes=False, show_dtype=False, show_layer_names=True, dpi=120)"
      ],
      "metadata": {
        "colab": {
          "base_uri": "https://localhost:8080/"
        },
        "id": "ICE57JYILilk",
        "outputId": "3b8d80a5-f210-411b-ed7d-8df8a1cedcf3"
      },
      "execution_count": null,
      "outputs": [
        {
          "output_type": "execute_result",
          "data": {
            "image/png": "[encoded data removed]",
            "text/plain": [
              "<IPython.core.display.Image object>"
            ]
          },
          "metadata": {},
          "execution_count": 20
        }
      ]
    },
    {
      "cell_type": "code",
      "source": [
        "#@title Export model weights\n",
        "\n",
        "\n",
        "# export model weights\n",
        "multi_output_model.save_weights('./model_1_xlm_roberta/model_1_xlm_roberta_weights')\n",
        "\n",
        "\n"
      ],
      "metadata": {
        "id": "3Zcn3mt6F3By"
      },
      "execution_count": null,
      "outputs": []
    }
  ],
  "metadata": {
    "colab": {
      "provenance": [],
      "gpuType": "A100",
      "machine_shape": "hm",
      "include_colab_link": true
    },
    "kernelspec": {
      "display_name": "Python 3",
      "name": "python3"
    },
    "language_info": {
      "name": "python"
    },
    "accelerator": "GPU",
    "widgets": {
      "application/vnd.jupyter.widget-state+json": {
        "9a4bfffb6f294cc881680837d9896dd9": {
          "model_module": "@jupyter-widgets/controls",
          "model_name": "HBoxModel",
          "model_module_version": "1.5.0",
          "state": {
            "_dom_classes": [],
            "_model_module": "@jupyter-widgets/controls",
            "_model_module_version": "1.5.0",
            "_model_name": "HBoxModel",
            "_view_count": null,
            "_view_module": "@jupyter-widgets/controls",
            "_view_module_version": "1.5.0",
            "_view_name": "HBoxView",
            "box_style": "",
            "children": [
              "IPY_MODEL_92532e3b4bd944ba803e8d0ce0f7e5c3",
              "IPY_MODEL_795f393181af465a9f5d361c1f63a6ef",
              "IPY_MODEL_8d14feef104f480aaf70041aa66a1631"
            ],
            "layout": "IPY_MODEL_76c3cd5718364e60b9788245dac448c8"
          }
        },
        "92532e3b4bd944ba803e8d0ce0f7e5c3": {
          "model_module": "@jupyter-widgets/controls",
          "model_name": "HTMLModel",
          "model_module_version": "1.5.0",
          "state": {
            "_dom_classes": [],
            "_model_module": "@jupyter-widgets/controls",
            "_model_module_version": "1.5.0",
            "_model_name": "HTMLModel",
            "_view_count": null,
            "_view_module": "@jupyter-widgets/controls",
            "_view_module_version": "1.5.0",
            "_view_name": "HTMLView",
            "description": "",
            "description_tooltip": null,
            "layout": "IPY_MODEL_4525644d1dd0418883f6cdac601881dc",
            "placeholder": "​",
            "style": "IPY_MODEL_0bbb6cf668e3477dbbe090544b0b4f57",
            "value": "config.json: 100%"
          }
        },
        "795f393181af465a9f5d361c1f63a6ef": {
          "model_module": "@jupyter-widgets/controls",
          "model_name": "FloatProgressModel",
          "model_module_version": "1.5.0",
          "state": {
            "_dom_classes": [],
            "_model_module": "@jupyter-widgets/controls",
            "_model_module_version": "1.5.0",
            "_model_name": "FloatProgressModel",
            "_view_count": null,
            "_view_module": "@jupyter-widgets/controls",
            "_view_module_version": "1.5.0",
            "_view_name": "ProgressView",
            "bar_style": "success",
            "description": "",
            "description_tooltip": null,
            "layout": "IPY_MODEL_edb6a0d18c10479cbdd3a40e4b32a3ea",
            "max": 615,
            "min": 0,
            "orientation": "horizontal",
            "style": "IPY_MODEL_96571beec5ed4e9fbb4ffc4e03a8fb81",
            "value": 615
          }
        },
        "8d14feef104f480aaf70041aa66a1631": {
          "model_module": "@jupyter-widgets/controls",
          "model_name": "HTMLModel",
          "model_module_version": "1.5.0",
          "state": {
            "_dom_classes": [],
            "_model_module": "@jupyter-widgets/controls",
            "_model_module_version": "1.5.0",
            "_model_name": "HTMLModel",
            "_view_count": null,
            "_view_module": "@jupyter-widgets/controls",
            "_view_module_version": "1.5.0",
            "_view_name": "HTMLView",
            "description": "",
            "description_tooltip": null,
            "layout": "IPY_MODEL_e945e9b556c04d9fb6d1390e7c6077a0",
            "placeholder": "​",
            "style": "IPY_MODEL_cf8da5a8668647f5b1f5525e54f1dab4",
            "value": " 615/615 [00:00&lt;00:00, 53.5kB/s]"
          }
        },
        "76c3cd5718364e60b9788245dac448c8": {
          "model_module": "@jupyter-widgets/base",
          "model_name": "LayoutModel",
          "model_module_version": "1.2.0",
          "state": {
            "_model_module": "@jupyter-widgets/base",
            "_model_module_version": "1.2.0",
            "_model_name": "LayoutModel",
            "_view_count": null,
            "_view_module": "@jupyter-widgets/base",
            "_view_module_version": "1.2.0",
            "_view_name": "LayoutView",
            "align_content": null,
            "align_items": null,
            "align_self": null,
            "border": null,
            "bottom": null,
            "display": null,
            "flex": null,
            "flex_flow": null,
            "grid_area": null,
            "grid_auto_columns": null,
            "grid_auto_flow": null,
            "grid_auto_rows": null,
            "grid_column": null,
            "grid_gap": null,
            "grid_row": null,
            "grid_template_areas": null,
            "grid_template_columns": null,
            "grid_template_rows": null,
            "height": null,
            "justify_content": null,
            "justify_items": null,
            "left": null,
            "margin": null,
            "max_height": null,
            "max_width": null,
            "min_height": null,
            "min_width": null,
            "object_fit": null,
            "object_position": null,
            "order": null,
            "overflow": null,
            "overflow_x": null,
            "overflow_y": null,
            "padding": null,
            "right": null,
            "top": null,
            "visibility": null,
            "width": null
          }
        },
        "4525644d1dd0418883f6cdac601881dc": {
          "model_module": "@jupyter-widgets/base",
          "model_name": "LayoutModel",
          "model_module_version": "1.2.0",
          "state": {
            "_model_module": "@jupyter-widgets/base",
            "_model_module_version": "1.2.0",
            "_model_name": "LayoutModel",
            "_view_count": null,
            "_view_module": "@jupyter-widgets/base",
            "_view_module_version": "1.2.0",
            "_view_name": "LayoutView",
            "align_content": null,
            "align_items": null,
            "align_self": null,
            "border": null,
            "bottom": null,
            "display": null,
            "flex": null,
            "flex_flow": null,
            "grid_area": null,
            "grid_auto_columns": null,
            "grid_auto_flow": null,
            "grid_auto_rows": null,
            "grid_column": null,
            "grid_gap": null,
            "grid_row": null,
            "grid_template_areas": null,
            "grid_template_columns": null,
            "grid_template_rows": null,
            "height": null,
            "justify_content": null,
            "justify_items": null,
            "left": null,
            "margin": null,
            "max_height": null,
            "max_width": null,
            "min_height": null,
            "min_width": null,
            "object_fit": null,
            "object_position": null,
            "order": null,
            "overflow": null,
            "overflow_x": null,
            "overflow_y": null,
            "padding": null,
            "right": null,
            "top": null,
            "visibility": null,
            "width": null
          }
        },
        "0bbb6cf668e3477dbbe090544b0b4f57": {
          "model_module": "@jupyter-widgets/controls",
          "model_name": "DescriptionStyleModel",
          "model_module_version": "1.5.0",
          "state": {
            "_model_module": "@jupyter-widgets/controls",
            "_model_module_version": "1.5.0",
            "_model_name": "DescriptionStyleModel",
            "_view_count": null,
            "_view_module": "@jupyter-widgets/base",
            "_view_module_version": "1.2.0",
            "_view_name": "StyleView",
            "description_width": ""
          }
        },
        "edb6a0d18c10479cbdd3a40e4b32a3ea": {
          "model_module": "@jupyter-widgets/base",
          "model_name": "LayoutModel",
          "model_module_version": "1.2.0",
          "state": {
            "_model_module": "@jupyter-widgets/base",
            "_model_module_version": "1.2.0",
            "_model_name": "LayoutModel",
            "_view_count": null,
            "_view_module": "@jupyter-widgets/base",
            "_view_module_version": "1.2.0",
            "_view_name": "LayoutView",
            "align_content": null,
            "align_items": null,
            "align_self": null,
            "border": null,
            "bottom": null,
            "display": null,
            "flex": null,
            "flex_flow": null,
            "grid_area": null,
            "grid_auto_columns": null,
            "grid_auto_flow": null,
            "grid_auto_rows": null,
            "grid_column": null,
            "grid_gap": null,
            "grid_row": null,
            "grid_template_areas": null,
            "grid_template_columns": null,
            "grid_template_rows": null,
            "height": null,
            "justify_content": null,
            "justify_items": null,
            "left": null,
            "margin": null,
            "max_height": null,
            "max_width": null,
            "min_height": null,
            "min_width": null,
            "object_fit": null,
            "object_position": null,
            "order": null,
            "overflow": null,
            "overflow_x": null,
            "overflow_y": null,
            "padding": null,
            "right": null,
            "top": null,
            "visibility": null,
            "width": null
          }
        },
        "96571beec5ed4e9fbb4ffc4e03a8fb81": {
          "model_module": "@jupyter-widgets/controls",
          "model_name": "ProgressStyleModel",
          "model_module_version": "1.5.0",
          "state": {
            "_model_module": "@jupyter-widgets/controls",
            "_model_module_version": "1.5.0",
            "_model_name": "ProgressStyleModel",
            "_view_count": null,
            "_view_module": "@jupyter-widgets/base",
            "_view_module_version": "1.2.0",
            "_view_name": "StyleView",
            "bar_color": null,
            "description_width": ""
          }
        },
        "e945e9b556c04d9fb6d1390e7c6077a0": {
          "model_module": "@jupyter-widgets/base",
          "model_name": "LayoutModel",
          "model_module_version": "1.2.0",
          "state": {
            "_model_module": "@jupyter-widgets/base",
            "_model_module_version": "1.2.0",
            "_model_name": "LayoutModel",
            "_view_count": null,
            "_view_module": "@jupyter-widgets/base",
            "_view_module_version": "1.2.0",
            "_view_name": "LayoutView",
            "align_content": null,
            "align_items": null,
            "align_self": null,
            "border": null,
            "bottom": null,
            "display": null,
            "flex": null,
            "flex_flow": null,
            "grid_area": null,
            "grid_auto_columns": null,
            "grid_auto_flow": null,
            "grid_auto_rows": null,
            "grid_column": null,
            "grid_gap": null,
            "grid_row": null,
            "grid_template_areas": null,
            "grid_template_columns": null,
            "grid_template_rows": null,
            "height": null,
            "justify_content": null,
            "justify_items": null,
            "left": null,
            "margin": null,
            "max_height": null,
            "max_width": null,
            "min_height": null,
            "min_width": null,
            "object_fit": null,
            "object_position": null,
            "order": null,
            "overflow": null,
            "overflow_x": null,
            "overflow_y": null,
            "padding": null,
            "right": null,
            "top": null,
            "visibility": null,
            "width": null
          }
        },
        "cf8da5a8668647f5b1f5525e54f1dab4": {
          "model_module": "@jupyter-widgets/controls",
          "model_name": "DescriptionStyleModel",
          "model_module_version": "1.5.0",
          "state": {
            "_model_module": "@jupyter-widgets/controls",
            "_model_module_version": "1.5.0",
            "_model_name": "DescriptionStyleModel",
            "_view_count": null,
            "_view_module": "@jupyter-widgets/base",
            "_view_module_version": "1.2.0",
            "_view_name": "StyleView",
            "description_width": ""
          }
        },
        "dcdf3f4609e648e1ba5a71c1b0f321e4": {
          "model_module": "@jupyter-widgets/controls",
          "model_name": "HBoxModel",
          "model_module_version": "1.5.0",
          "state": {
            "_dom_classes": [],
            "_model_module": "@jupyter-widgets/controls",
            "_model_module_version": "1.5.0",
            "_model_name": "HBoxModel",
            "_view_count": null,
            "_view_module": "@jupyter-widgets/controls",
            "_view_module_version": "1.5.0",
            "_view_name": "HBoxView",
            "box_style": "",
            "children": [
              "IPY_MODEL_b9dc8b40143f4585bb766da6764a3f2c",
              "IPY_MODEL_e184a404bbcb4da38898468e07a05071",
              "IPY_MODEL_db05e8d2b89f47788b98931358d2bd57"
            ],
            "layout": "IPY_MODEL_297886e4cb9b45668f0521e987ac94f0"
          }
        },
        "b9dc8b40143f4585bb766da6764a3f2c": {
          "model_module": "@jupyter-widgets/controls",
          "model_name": "HTMLModel",
          "model_module_version": "1.5.0",
          "state": {
            "_dom_classes": [],
            "_model_module": "@jupyter-widgets/controls",
            "_model_module_version": "1.5.0",
            "_model_name": "HTMLModel",
            "_view_count": null,
            "_view_module": "@jupyter-widgets/controls",
            "_view_module_version": "1.5.0",
            "_view_name": "HTMLView",
            "description": "",
            "description_tooltip": null,
            "layout": "IPY_MODEL_963cbf3d679749e289430be8fe96b783",
            "placeholder": "​",
            "style": "IPY_MODEL_ad811c40770943a18cbb8728b57efa78",
            "value": "model.safetensors: 100%"
          }
        },
        "e184a404bbcb4da38898468e07a05071": {
          "model_module": "@jupyter-widgets/controls",
          "model_name": "FloatProgressModel",
          "model_module_version": "1.5.0",
          "state": {
            "_dom_classes": [],
            "_model_module": "@jupyter-widgets/controls",
            "_model_module_version": "1.5.0",
            "_model_name": "FloatProgressModel",
            "_view_count": null,
            "_view_module": "@jupyter-widgets/controls",
            "_view_module_version": "1.5.0",
            "_view_name": "ProgressView",
            "bar_style": "success",
            "description": "",
            "description_tooltip": null,
            "layout": "IPY_MODEL_9a7de94b6d424953815aec9558fe191d",
            "max": 1115567652,
            "min": 0,
            "orientation": "horizontal",
            "style": "IPY_MODEL_58c2632f2fc8483892202f899a04a099",
            "value": 1115567652
          }
        },
        "db05e8d2b89f47788b98931358d2bd57": {
          "model_module": "@jupyter-widgets/controls",
          "model_name": "HTMLModel",
          "model_module_version": "1.5.0",
          "state": {
            "_dom_classes": [],
            "_model_module": "@jupyter-widgets/controls",
            "_model_module_version": "1.5.0",
            "_model_name": "HTMLModel",
            "_view_count": null,
            "_view_module": "@jupyter-widgets/controls",
            "_view_module_version": "1.5.0",
            "_view_name": "HTMLView",
            "description": "",
            "description_tooltip": null,
            "layout": "IPY_MODEL_09b44829175945d186c89b3fc3b49efe",
            "placeholder": "​",
            "style": "IPY_MODEL_22738073cf914eb48620cf0ab00dab4c",
            "value": " 1.12G/1.12G [00:02&lt;00:00, 388MB/s]"
          }
        },
        "297886e4cb9b45668f0521e987ac94f0": {
          "model_module": "@jupyter-widgets/base",
          "model_name": "LayoutModel",
          "model_module_version": "1.2.0",
          "state": {
            "_model_module": "@jupyter-widgets/base",
            "_model_module_version": "1.2.0",
            "_model_name": "LayoutModel",
            "_view_count": null,
            "_view_module": "@jupyter-widgets/base",
            "_view_module_version": "1.2.0",
            "_view_name": "LayoutView",
            "align_content": null,
            "align_items": null,
            "align_self": null,
            "border": null,
            "bottom": null,
            "display": null,
            "flex": null,
            "flex_flow": null,
            "grid_area": null,
            "grid_auto_columns": null,
            "grid_auto_flow": null,
            "grid_auto_rows": null,
            "grid_column": null,
            "grid_gap": null,
            "grid_row": null,
            "grid_template_areas": null,
            "grid_template_columns": null,
            "grid_template_rows": null,
            "height": null,
            "justify_content": null,
            "justify_items": null,
            "left": null,
            "margin": null,
            "max_height": null,
            "max_width": null,
            "min_height": null,
            "min_width": null,
            "object_fit": null,
            "object_position": null,
            "order": null,
            "overflow": null,
            "overflow_x": null,
            "overflow_y": null,
            "padding": null,
            "right": null,
            "top": null,
            "visibility": null,
            "width": null
          }
        },
        "963cbf3d679749e289430be8fe96b783": {
          "model_module": "@jupyter-widgets/base",
          "model_name": "LayoutModel",
          "model_module_version": "1.2.0",
          "state": {
            "_model_module": "@jupyter-widgets/base",
            "_model_module_version": "1.2.0",
            "_model_name": "LayoutModel",
            "_view_count": null,
            "_view_module": "@jupyter-widgets/base",
            "_view_module_version": "1.2.0",
            "_view_name": "LayoutView",
            "align_content": null,
            "align_items": null,
            "align_self": null,
            "border": null,
            "bottom": null,
            "display": null,
            "flex": null,
            "flex_flow": null,
            "grid_area": null,
            "grid_auto_columns": null,
            "grid_auto_flow": null,
            "grid_auto_rows": null,
            "grid_column": null,
            "grid_gap": null,
            "grid_row": null,
            "grid_template_areas": null,
            "grid_template_columns": null,
            "grid_template_rows": null,
            "height": null,
            "justify_content": null,
            "justify_items": null,
            "left": null,
            "margin": null,
            "max_height": null,
            "max_width": null,
            "min_height": null,
            "min_width": null,
            "object_fit": null,
            "object_position": null,
            "order": null,
            "overflow": null,
            "overflow_x": null,
            "overflow_y": null,
            "padding": null,
            "right": null,
            "top": null,
            "visibility": null,
            "width": null
          }
        },
        "ad811c40770943a18cbb8728b57efa78": {
          "model_module": "@jupyter-widgets/controls",
          "model_name": "DescriptionStyleModel",
          "model_module_version": "1.5.0",
          "state": {
            "_model_module": "@jupyter-widgets/controls",
            "_model_module_version": "1.5.0",
            "_model_name": "DescriptionStyleModel",
            "_view_count": null,
            "_view_module": "@jupyter-widgets/base",
            "_view_module_version": "1.2.0",
            "_view_name": "StyleView",
            "description_width": ""
          }
        },
        "9a7de94b6d424953815aec9558fe191d": {
          "model_module": "@jupyter-widgets/base",
          "model_name": "LayoutModel",
          "model_module_version": "1.2.0",
          "state": {
            "_model_module": "@jupyter-widgets/base",
            "_model_module_version": "1.2.0",
            "_model_name": "LayoutModel",
            "_view_count": null,
            "_view_module": "@jupyter-widgets/base",
            "_view_module_version": "1.2.0",
            "_view_name": "LayoutView",
            "align_content": null,
            "align_items": null,
            "align_self": null,
            "border": null,
            "bottom": null,
            "display": null,
            "flex": null,
            "flex_flow": null,
            "grid_area": null,
            "grid_auto_columns": null,
            "grid_auto_flow": null,
            "grid_auto_rows": null,
            "grid_column": null,
            "grid_gap": null,
            "grid_row": null,
            "grid_template_areas": null,
            "grid_template_columns": null,
            "grid_template_rows": null,
            "height": null,
            "justify_content": null,
            "justify_items": null,
            "left": null,
            "margin": null,
            "max_height": null,
            "max_width": null,
            "min_height": null,
            "min_width": null,
            "object_fit": null,
            "object_position": null,
            "order": null,
            "overflow": null,
            "overflow_x": null,
            "overflow_y": null,
            "padding": null,
            "right": null,
            "top": null,
            "visibility": null,
            "width": null
          }
        },
        "58c2632f2fc8483892202f899a04a099": {
          "model_module": "@jupyter-widgets/controls",
          "model_name": "ProgressStyleModel",
          "model_module_version": "1.5.0",
          "state": {
            "_model_module": "@jupyter-widgets/controls",
            "_model_module_version": "1.5.0",
            "_model_name": "ProgressStyleModel",
            "_view_count": null,
            "_view_module": "@jupyter-widgets/base",
            "_view_module_version": "1.2.0",
            "_view_name": "StyleView",
            "bar_color": null,
            "description_width": ""
          }
        },
        "09b44829175945d186c89b3fc3b49efe": {
          "model_module": "@jupyter-widgets/base",
          "model_name": "LayoutModel",
          "model_module_version": "1.2.0",
          "state": {
            "_model_module": "@jupyter-widgets/base",
            "_model_module_version": "1.2.0",
            "_model_name": "LayoutModel",
            "_view_count": null,
            "_view_module": "@jupyter-widgets/base",
            "_view_module_version": "1.2.0",
            "_view_name": "LayoutView",
            "align_content": null,
            "align_items": null,
            "align_self": null,
            "border": null,
            "bottom": null,
            "display": null,
            "flex": null,
            "flex_flow": null,
            "grid_area": null,
            "grid_auto_columns": null,
            "grid_auto_flow": null,
            "grid_auto_rows": null,
            "grid_column": null,
            "grid_gap": null,
            "grid_row": null,
            "grid_template_areas": null,
            "grid_template_columns": null,
            "grid_template_rows": null,
            "height": null,
            "justify_content": null,
            "justify_items": null,
            "left": null,
            "margin": null,
            "max_height": null,
            "max_width": null,
            "min_height": null,
            "min_width": null,
            "object_fit": null,
            "object_position": null,
            "order": null,
            "overflow": null,
            "overflow_x": null,
            "overflow_y": null,
            "padding": null,
            "right": null,
            "top": null,
            "visibility": null,
            "width": null
          }
        },
        "22738073cf914eb48620cf0ab00dab4c": {
          "model_module": "@jupyter-widgets/controls",
          "model_name": "DescriptionStyleModel",
          "model_module_version": "1.5.0",
          "state": {
            "_model_module": "@jupyter-widgets/controls",
            "_model_module_version": "1.5.0",
            "_model_name": "DescriptionStyleModel",
            "_view_count": null,
            "_view_module": "@jupyter-widgets/base",
            "_view_module_version": "1.2.0",
            "_view_name": "StyleView",
            "description_width": ""
          }
        }
      }
    }
  },
  "nbformat": 4,
  "nbformat_minor": 0
}