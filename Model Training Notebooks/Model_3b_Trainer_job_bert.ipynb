{
  "cells": [
    {
      "cell_type": "markdown",
      "metadata": {
        "id": "view-in-github",
        "colab_type": "text"
      },
      "source": [
        "<a href=\"https://colab.research.google.com/github/Datasci266-Final-Project/Job-Listings/blob/main/Model%20Training%20Notebooks/Model_3b_Trainer_job_bert.ipynb\" target=\"_parent\"><img src=\"https://colab.research.google.com/assets/colab-badge.svg\" alt=\"Open In Colab\"/></a>"
      ]
    },
    {
      "cell_type": "code",
      "execution_count": null,
      "metadata": {
        "colab": {
          "base_uri": "https://localhost:8080/"
        },
        "id": "ZEs5pbHpSTOA",
        "outputId": "6b756b08-3f08-4321-e3ad-36be6554965d"
      },
      "outputs": [
        {
          "output_type": "stream",
          "name": "stdout",
          "text": [
            "\u001b[2K     \u001b[90m━━━━━━━━━━━━━━━━━━━━━━━━━━━━━━━━━━━━━━━━\u001b[0m \u001b[32m8.4/8.4 MB\u001b[0m \u001b[31m69.3 MB/s\u001b[0m eta \u001b[36m0:00:00\u001b[0m\n",
            "\u001b[2K     \u001b[90m━━━━━━━━━━━━━━━━━━━━━━━━━━━━━━━━━━━━━━━━\u001b[0m \u001b[32m258.0/258.0 kB\u001b[0m \u001b[31m5.9 MB/s\u001b[0m eta \u001b[36m0:00:00\u001b[0m\n",
            "\u001b[?25h"
          ]
        }
      ],
      "source": [
        "#@title Installs\n",
        "\n",
        "!pip install pydot --quiet\n",
        "!pip install transformers==4.37.2 --quiet\n",
        "!pip install -U imbalanced-learn --quiet"
      ]
    },
    {
      "cell_type": "code",
      "execution_count": null,
      "metadata": {
        "id": "WRAfKTehSgxQ"
      },
      "outputs": [],
      "source": [
        "#@title Imports\n",
        "import pandas as pd\n",
        "\n",
        "import numpy as np\n",
        "import random\n",
        "import torch\n",
        "\n",
        "import tensorflow as tf\n",
        "from tensorflow import keras\n",
        "\n",
        "from tensorflow.keras.layers import Embedding, Input, Dense, Lambda, Dropout\n",
        "from tensorflow.keras.models import Model\n",
        "import tensorflow.keras.backend as K\n",
        "import tensorflow_datasets as tfds\n",
        "\n",
        "from imblearn.over_sampling import RandomOverSampler\n",
        "from imblearn.under_sampling import RandomUnderSampler\n",
        "from imblearn.over_sampling import SMOTE\n",
        "\n",
        "import sklearn as sk\n",
        "import os\n",
        "import nltk\n",
        "from nltk.data import find\n",
        "\n",
        "import matplotlib.pyplot as plt\n",
        "\n",
        "import re\n",
        "from sklearn.model_selection import train_test_split\n",
        "\n",
        "from transformers import BertTokenizer, TFBertModel\n",
        "\n",
        "from transformers import logging\n",
        "logging.set_verbosity_error()\n",
        "\n",
        "from collections import Counter\n",
        "\n",
        "from tensorflow.keras.models import load_model\n",
        "import pickle\n",
        "import joblib"
      ]
    },
    {
      "cell_type": "code",
      "execution_count": null,
      "metadata": {
        "id": "rHlaNR4jf5xH"
      },
      "outputs": [],
      "source": [
        "# Set seed to 10\n",
        "\n",
        "seed_value = 10\n",
        "\n",
        "random.seed(seed_value)\n",
        "np.random.seed(seed_value)\n",
        "torch.manual_seed(seed_value)\n",
        "torch.cuda.manual_seed_all(seed_value)\n",
        "tf.random.set_seed(seed_value)"
      ]
    },
    {
      "cell_type": "code",
      "execution_count": null,
      "metadata": {
        "colab": {
          "base_uri": "https://localhost:8080/"
        },
        "id": "W6vCIEn8Sgzq",
        "outputId": "252abf51-d272-4fc6-e9ed-0084a60885e1"
      },
      "outputs": [
        {
          "output_type": "stream",
          "name": "stdout",
          "text": [
            "Mounted at /content/drive\n",
            "/content/drive/.shortcut-targets-by-id/1V3QooLePiHR_DaZhbXQhsjmP1Ez5fv5F/DataSci 266 Project\n"
          ]
        }
      ],
      "source": [
        "from google.colab import drive\n",
        "drive.mount('/content/drive')\n",
        "\n",
        "%cd /content/drive/My Drive/DataSci 266 Project\n",
        "\n",
        "column_names = ['index','title','text','level','salary']\n"
      ]
    },
    {
      "cell_type": "code",
      "execution_count": null,
      "metadata": {
        "id": "yplFUNQWSmCA"
      },
      "outputs": [],
      "source": [
        "pd.set_option('display.max_colwidth', 10000)"
      ]
    },
    {
      "cell_type": "code",
      "execution_count": null,
      "metadata": {
        "id": "NguVcfYweKGI"
      },
      "outputs": [],
      "source": [
        "# Dictionaries\n",
        "level_key = {\n",
        "    \"student_intern\": 0,\n",
        "    \"entry\": 1,\n",
        "    \"junior\": 2,\n",
        "    \"mid\": 3,\n",
        "    \"senior\": 4,\n",
        "    \"executive\": 5,\n",
        "    np.nan: -1\n",
        "}\n",
        "\n",
        "# Define salary_key dictionary\n",
        "# salary_key = {\n",
        "#     \"<45k\": 0,\n",
        "#     \"45-65k\": 1,\n",
        "#     \"65-85k\": 2,\n",
        "#     \"85-110k\": 3,\n",
        "#     \"110-150k\": 4,\n",
        "#     \"150-200k\": 5,\n",
        "#     \">200k\": 6,\n",
        "#     np.nan: -1\n",
        "# }\n",
        "\n",
        "salary_key = {\n",
        "    \"<50k\": 0,\n",
        "    \"50-100k\": 1,\n",
        "    \"100-150k\": 2,\n",
        "    \"150-200k\": 3,\n",
        "    \">200k\": 4,\n",
        "    np.nan: -1\n",
        "}\n"
      ]
    },
    {
      "cell_type": "code",
      "execution_count": null,
      "metadata": {
        "id": "mEWiOZNjBLt5"
      },
      "outputs": [],
      "source": [
        "#@title Import Tokens, Labels, Data\n",
        "\n",
        "# data\n",
        "with open(r'Model Objects/train_final_df.pickle', 'rb') as handle:\n",
        "    train_data = pickle.load(handle)\n",
        "with open(r'Model Objects/test_data.pickle', 'rb') as handle:\n",
        "    test_data = pickle.load(handle)\n",
        "with open(r'Model Objects/val_data.pickle', 'rb') as handle:\n",
        "    val_data = pickle.load(handle)\n",
        "\n",
        "\n",
        "# labels\n",
        "with open(r'Model Objects/Labels/model_2_labels_level_train.pickle', 'rb') as handle:\n",
        "    train_level_labels = pickle.load(handle)\n",
        "\n",
        "with open(r'Model Objects/Labels/model_2_labels_salary_train.pickle', 'rb') as handle:\n",
        "    train_salary_labels = pickle.load(handle)\n",
        "\n",
        "\n",
        "with open(r'Model Objects/Labels/model_2_labels_level_test.pickle', 'rb') as handle:\n",
        "    test_level_labels = pickle.load(handle)\n",
        "\n",
        "with open(r'Model Objects/Labels/model_2_labels_salary_test.pickle', 'rb') as handle:\n",
        "    test_salary_labels = pickle.load(handle)\n",
        "\n",
        "\n",
        "with open(r'Model Objects/Labels/model_2_labels_level_val.pickle', 'rb') as handle:\n",
        "    val_level_labels = pickle.load(handle)\n",
        "\n",
        "with open(r'Model Objects/Labels/model_2_labels_salary_val.pickle', 'rb') as handle:\n",
        "    val_salary_labels = pickle.load(handle)\n",
        "\n",
        "\n",
        "# tokenized inputs\n",
        "with open(r'Model Objects/Tokenized Inputs: Bert Base/model_2_train_inputs_bert.pickle', 'rb') as handle:\n",
        "    train_inputs = pickle.load(handle)\n",
        "\n",
        "with open(r'Model Objects/Tokenized Inputs: Bert Base/test_inputs_bert.pickle', 'rb') as handle:\n",
        "    test_inputs = pickle.load(handle)\n",
        "\n",
        "with open(r'Model Objects/Tokenized Inputs: Bert Base/val_inputs_bert.pickle', 'rb') as handle:\n",
        "    val_inputs = pickle.load(handle)"
      ]
    },
    {
      "cell_type": "code",
      "execution_count": null,
      "metadata": {
        "colab": {
          "base_uri": "https://localhost:8080/",
          "height": 185,
          "referenced_widgets": [
            "b2495854ef064fc58bfd33e4d718d6c6",
            "572a806c73884271ac4525255794bec2",
            "7d54b7b07be242279a77dd3a4b29572c",
            "6318cdd323c34f1b9a827d22b309c20c",
            "c4965787e0f040908b2a8e2dd92af809",
            "6ff169c35161469d9b1ab07258705a75",
            "a9305f2eabbb4932b36b8d221bc8638a",
            "4777f91f3ece4a15860750d892ea37c5",
            "09fc3213cdb64b69a2ef2926ae62134f",
            "821eac878605404aac71e520fef85965",
            "6e9205ff0d0f4ce48ac24c2e3c5f9d3d",
            "f480f65abd544dd2a739e949e2c63bbf",
            "4ac562c265dc4a58bc5aa501eb10c2a0",
            "dd7516ff67ed4539aeb9708e547248f2",
            "4b470b9a33d44c7b8efe037f68a4a12b",
            "50d3b7b94f284bf296a2468ec55a326c",
            "b7db4b1d0cbf4522b224fc7ec006dee8",
            "caf956734c6c472593f3b0685dc716af",
            "ad9a5b2aceda46038b71c153fe8d592b",
            "d62ff9ff25b64024ab3b8df551a8f40e",
            "25a58c0eac0048c1a9599c942a141725",
            "03ba24ac6cd34ed4b5ceb1c9e9a02f60"
          ]
        },
        "id": "QBbeLBLWTfva",
        "outputId": "d5e723e2-2c77-471e-c256-735d76a7e28f"
      },
      "outputs": [
        {
          "output_type": "stream",
          "name": "stderr",
          "text": [
            "/usr/local/lib/python3.10/dist-packages/huggingface_hub/utils/_token.py:88: UserWarning: \n",
            "The secret `HF_TOKEN` does not exist in your Colab secrets.\n",
            "To authenticate with the Hugging Face Hub, create a token in your settings tab (https://huggingface.co/settings/tokens), set it as secret in your Google Colab and restart your session.\n",
            "You will be able to reuse this secret in all of your notebooks.\n",
            "Please note that authentication is recommended but still optional to access public models or datasets.\n",
            "  warnings.warn(\n"
          ]
        },
        {
          "output_type": "display_data",
          "data": {
            "text/plain": [
              "config.json:   0%|          | 0.00/603 [00:00<?, ?B/s]"
            ],
            "application/vnd.jupyter.widget-view+json": {
              "version_major": 2,
              "version_minor": 0,
              "model_id": "b2495854ef064fc58bfd33e4d718d6c6"
            }
          },
          "metadata": {}
        },
        {
          "output_type": "display_data",
          "data": {
            "text/plain": [
              "model.safetensors:   0%|          | 0.00/433M [00:00<?, ?B/s]"
            ],
            "application/vnd.jupyter.widget-view+json": {
              "version_major": 2,
              "version_minor": 0,
              "model_id": "f480f65abd544dd2a739e949e2c63bbf"
            }
          },
          "metadata": {}
        }
      ],
      "source": [
        "#@title BERT\n",
        "\n",
        "checkpoint = 'jjzha/jobbert-base-cased'\n",
        "bert_model = TFBertModel.from_pretrained(checkpoint)"
      ]
    },
    {
      "cell_type": "code",
      "execution_count": null,
      "metadata": {
        "id": "rtyPJL8JG6Rk"
      },
      "outputs": [],
      "source": [
        "MAX_SEQUENCE_LENGTH = 512"
      ]
    },
    {
      "cell_type": "code",
      "execution_count": null,
      "metadata": {
        "id": "AutOaUy-awIv"
      },
      "outputs": [],
      "source": [
        "#@title Define Model\n",
        "\n",
        "# Masked Loss Function\n",
        "def masked_loss_function(y_true, y_pred):\n",
        "    mask = tf.math.logical_not(tf.math.equal(y_true, -1))  # Use -1 to represent missing values\n",
        "    mask = tf.cast(mask, tf.float32)\n",
        "\n",
        "    y_true = tf.cast(y_true, tf.float32)  # Cast y_true to float32 to match the type of y_pred\n",
        "    y_pred = tf.cast(y_pred, tf.float32)\n",
        "\n",
        "    return tf.keras.losses.sparse_categorical_crossentropy(y_true * mask, y_pred * mask)\n",
        "\n",
        "\n",
        "\n",
        "\n",
        "# BERT Model\n",
        "def create_bert_multi_output_model(bert_base_model,\n",
        "                                   trainable=True,\n",
        "                                 max_sequence_length=MAX_SEQUENCE_LENGTH,\n",
        "                                   num_level_classes=7,\n",
        "                                   num_salary_classes=6,\n",
        "                                 base_hidden_size=200,\n",
        "                                  level_hidden_size=200,\n",
        "                                  salary_hidden_size=200,\n",
        "                                 dropout=0.3,\n",
        "                                 learning_rate=0.00005,\n",
        "                                   LEVEL_WEIGHT=0.5,\n",
        "                                   SALARY_WEIGHT=0.5):\n",
        "\n",
        "    bert_base_model.trainable = trainable\n",
        "\n",
        "    # Input layers\n",
        "    input_ids = tf.keras.layers.Input(shape=(max_sequence_length,), dtype=tf.int64, name='input_ids_layer')\n",
        "    token_type_ids = tf.keras.layers.Input(shape=(max_sequence_length,), dtype=tf.int64, name='token_type_ids_layer')\n",
        "    attention_mask = tf.keras.layers.Input(shape=(max_sequence_length,), dtype=tf.int64, name='attention_mask_layer')\n",
        "\n",
        "    bert_inputs = {\n",
        "        'input_ids': input_ids,\n",
        "        'token_type_ids': token_type_ids,\n",
        "        'attention_mask': attention_mask\n",
        "    }\n",
        "\n",
        "    bert_out = bert_base_model(bert_inputs)\n",
        "\n",
        "    cls_token = bert_out[0][:, 0, :]  # Extract CLS token\n",
        "    pooler_token = bert_out[1]\n",
        "\n",
        "    base_hidden = tf.keras.layers.Dense(base_hidden_size, activation='relu', name='base_hidden_layer_1')(cls_token)\n",
        "    base_hidden = tf.keras.layers.Dense(base_hidden_size, activation='relu', name='base_hidden_layer_2')(base_hidden)\n",
        "    base_out = tf.keras.layers.Dropout(dropout, name='base_dropout_1')(base_hidden)\n",
        "\n",
        "    # job experience level\n",
        "    level_hidden = tf.keras.layers.Dense(level_hidden_size, activation='relu', name='level_hidden_layer_1')(base_hidden)\n",
        "    level_hidden = tf.keras.layers.Dense(level_hidden_size, activation='relu', name='level_hidden_layer_2')(level_hidden)\n",
        "    level_hidden = tf.keras.layers.Dropout(dropout, name='level_dropout_1')(level_hidden)\n",
        "    level_classification = tf.keras.layers.Dense(num_level_classes, activation='softmax', name='level_classification')(level_hidden)\n",
        "\n",
        "    # salary bucket\n",
        "    salary_hidden = tf.keras.layers.Dense(salary_hidden_size, activation='relu', name='salary_hidden_layer_1')(base_hidden)\n",
        "    salary_hidden = tf.keras.layers.Dense(salary_hidden_size, activation='relu', name='salary_hidden_layer_2')(salary_hidden)\n",
        "    salary_hidden = tf.keras.layers.Dropout(dropout, name='salary_dropout_1')(salary_hidden)\n",
        "    salary_classification = tf.keras.layers.Dense(num_salary_classes, activation='softmax', name='salary_classification')(salary_hidden)\n",
        "\n",
        "\n",
        "\n",
        "    classification_model = tf.keras.Model(inputs=[input_ids, token_type_ids, attention_mask],\n",
        "                                          outputs=[level_classification, salary_classification])\n",
        "\n",
        "\n",
        "    classification_model.compile(optimizer=tf.keras.optimizers.Adam(learning_rate=learning_rate),\n",
        "                                 loss={'level_classification': masked_loss_function,\n",
        "                                       'salary_classification': masked_loss_function},\n",
        "                                 loss_weights=[LEVEL_WEIGHT,\n",
        "                                               SALARY_WEIGHT],\n",
        "                                 metrics={'level_classification': 'accuracy',\n",
        "                                          'salary_classification': 'accuracy'})\n",
        "\n",
        "    return classification_model\n",
        "\n",
        "\n"
      ]
    },
    {
      "cell_type": "code",
      "execution_count": null,
      "metadata": {
        "colab": {
          "base_uri": "https://localhost:8080/"
        },
        "id": "ay_9cRlTawDZ",
        "outputId": "6b8dd028-6b2f-4caa-a7ca-5bb2f4eac6b8"
      },
      "outputs": [
        {
          "output_type": "stream",
          "name": "stdout",
          "text": [
            "Epoch 1/3\n"
          ]
        },
        {
          "output_type": "stream",
          "name": "stderr",
          "text": [
            "WARNING:tensorflow:Gradients do not exist for variables ['tf_bert_model_2/bert/pooler/dense/kernel:0', 'tf_bert_model_2/bert/pooler/dense/bias:0'] when minimizing the loss. If you're using `model.compile()`, did you forget to provide a `loss` argument?\n",
            "WARNING:tensorflow:Gradients do not exist for variables ['tf_bert_model_2/bert/pooler/dense/kernel:0', 'tf_bert_model_2/bert/pooler/dense/bias:0'] when minimizing the loss. If you're using `model.compile()`, did you forget to provide a `loss` argument?\n",
            "WARNING:tensorflow:Gradients do not exist for variables ['tf_bert_model_2/bert/pooler/dense/kernel:0', 'tf_bert_model_2/bert/pooler/dense/bias:0'] when minimizing the loss. If you're using `model.compile()`, did you forget to provide a `loss` argument?\n",
            "WARNING:tensorflow:Gradients do not exist for variables ['tf_bert_model_2/bert/pooler/dense/kernel:0', 'tf_bert_model_2/bert/pooler/dense/bias:0'] when minimizing the loss. If you're using `model.compile()`, did you forget to provide a `loss` argument?\n"
          ]
        },
        {
          "output_type": "stream",
          "name": "stdout",
          "text": [
            "1851/1851 [==============================] - 1680s 884ms/step - loss: 1.3673 - level_classification_loss: 1.0632 - salary_classification_loss: 1.6714 - level_classification_accuracy: 0.5682 - salary_classification_accuracy: 0.0968 - val_loss: 1.4098 - val_level_classification_loss: 1.1896 - val_salary_classification_loss: 1.6300 - val_level_classification_accuracy: 0.5003 - val_salary_classification_accuracy: 0.1079\n",
            "Epoch 2/3\n",
            "1851/1851 [==============================] - 1632s 882ms/step - loss: 1.1797 - level_classification_loss: 0.7472 - salary_classification_loss: 1.6123 - level_classification_accuracy: 0.6907 - salary_classification_accuracy: 0.1211 - val_loss: 1.3186 - val_level_classification_loss: 1.0148 - val_salary_classification_loss: 1.6225 - val_level_classification_accuracy: 0.5863 - val_salary_classification_accuracy: 0.1147\n",
            "Epoch 3/3\n",
            "1851/1851 [==============================] - 1632s 882ms/step - loss: 1.1033 - level_classification_loss: 0.6339 - salary_classification_loss: 1.5726 - level_classification_accuracy: 0.7321 - salary_classification_accuracy: 0.1374 - val_loss: 1.3195 - val_level_classification_loss: 1.0131 - val_salary_classification_loss: 1.6259 - val_level_classification_accuracy: 0.6030 - val_salary_classification_accuracy: 0.1167\n"
          ]
        }
      ],
      "source": [
        "#@title Create Model and Train - Take 2\n",
        "\n",
        "\n",
        "# Fresh instance of BERT model\n",
        "bert_model = TFBertModel.from_pretrained('jjzha/jobbert-base-cased')\n",
        "multi_output_model = create_bert_multi_output_model(bert_model)\n",
        "\n",
        "\n",
        "# Fit the model\n",
        "multi_output_model_history = multi_output_model.fit(\n",
        "    train_inputs,\n",
        "    {\"level_classification\": train_level_labels, \"salary_classification\": train_salary_labels},\n",
        "    validation_data=(val_inputs, {\"level_classification\": val_level_labels,\"salary_classification\": val_salary_labels}),\n",
        "    batch_size=32,\n",
        "    epochs=3,\n",
        "    verbose=1,\n",
        "    shuffle=True\n",
        ")\n",
        "\n"
      ]
    },
    {
      "cell_type": "code",
      "execution_count": null,
      "metadata": {
        "id": "BbSoxq_mVTbA"
      },
      "outputs": [],
      "source": []
    },
    {
      "cell_type": "code",
      "execution_count": null,
      "metadata": {
        "id": "3Zcn3mt6F3By"
      },
      "outputs": [],
      "source": [
        "#@title Export model weights\n",
        "\n",
        "\n",
        "# export model weights\n",
        "multi_output_model.save_weights('./model_3b_jobbert/model_3b_jobbert_weights')\n",
        "\n",
        "\n",
        "\n",
        "\n"
      ]
    }
  ],
  "metadata": {
    "accelerator": "GPU",
    "colab": {
      "gpuType": "A100",
      "machine_shape": "hm",
      "provenance": [],
      "include_colab_link": true
    },
    "kernelspec": {
      "display_name": "Python 3",
      "name": "python3"
    },
    "language_info": {
      "name": "python"
    },
    "widgets": {
      "application/vnd.jupyter.widget-state+json": {
        "b2495854ef064fc58bfd33e4d718d6c6": {
          "model_module": "@jupyter-widgets/controls",
          "model_name": "HBoxModel",
          "model_module_version": "1.5.0",
          "state": {
            "_dom_classes": [],
            "_model_module": "@jupyter-widgets/controls",
            "_model_module_version": "1.5.0",
            "_model_name": "HBoxModel",
            "_view_count": null,
            "_view_module": "@jupyter-widgets/controls",
            "_view_module_version": "1.5.0",
            "_view_name": "HBoxView",
            "box_style": "",
            "children": [
              "IPY_MODEL_572a806c73884271ac4525255794bec2",
              "IPY_MODEL_7d54b7b07be242279a77dd3a4b29572c",
              "IPY_MODEL_6318cdd323c34f1b9a827d22b309c20c"
            ],
            "layout": "IPY_MODEL_c4965787e0f040908b2a8e2dd92af809"
          }
        },
        "572a806c73884271ac4525255794bec2": {
          "model_module": "@jupyter-widgets/controls",
          "model_name": "HTMLModel",
          "model_module_version": "1.5.0",
          "state": {
            "_dom_classes": [],
            "_model_module": "@jupyter-widgets/controls",
            "_model_module_version": "1.5.0",
            "_model_name": "HTMLModel",
            "_view_count": null,
            "_view_module": "@jupyter-widgets/controls",
            "_view_module_version": "1.5.0",
            "_view_name": "HTMLView",
            "description": "",
            "description_tooltip": null,
            "layout": "IPY_MODEL_6ff169c35161469d9b1ab07258705a75",
            "placeholder": "​",
            "style": "IPY_MODEL_a9305f2eabbb4932b36b8d221bc8638a",
            "value": "config.json: 100%"
          }
        },
        "7d54b7b07be242279a77dd3a4b29572c": {
          "model_module": "@jupyter-widgets/controls",
          "model_name": "FloatProgressModel",
          "model_module_version": "1.5.0",
          "state": {
            "_dom_classes": [],
            "_model_module": "@jupyter-widgets/controls",
            "_model_module_version": "1.5.0",
            "_model_name": "FloatProgressModel",
            "_view_count": null,
            "_view_module": "@jupyter-widgets/controls",
            "_view_module_version": "1.5.0",
            "_view_name": "ProgressView",
            "bar_style": "success",
            "description": "",
            "description_tooltip": null,
            "layout": "IPY_MODEL_4777f91f3ece4a15860750d892ea37c5",
            "max": 603,
            "min": 0,
            "orientation": "horizontal",
            "style": "IPY_MODEL_09fc3213cdb64b69a2ef2926ae62134f",
            "value": 603
          }
        },
        "6318cdd323c34f1b9a827d22b309c20c": {
          "model_module": "@jupyter-widgets/controls",
          "model_name": "HTMLModel",
          "model_module_version": "1.5.0",
          "state": {
            "_dom_classes": [],
            "_model_module": "@jupyter-widgets/controls",
            "_model_module_version": "1.5.0",
            "_model_name": "HTMLModel",
            "_view_count": null,
            "_view_module": "@jupyter-widgets/controls",
            "_view_module_version": "1.5.0",
            "_view_name": "HTMLView",
            "description": "",
            "description_tooltip": null,
            "layout": "IPY_MODEL_821eac878605404aac71e520fef85965",
            "placeholder": "​",
            "style": "IPY_MODEL_6e9205ff0d0f4ce48ac24c2e3c5f9d3d",
            "value": " 603/603 [00:00&lt;00:00, 50.9kB/s]"
          }
        },
        "c4965787e0f040908b2a8e2dd92af809": {
          "model_module": "@jupyter-widgets/base",
          "model_name": "LayoutModel",
          "model_module_version": "1.2.0",
          "state": {
            "_model_module": "@jupyter-widgets/base",
            "_model_module_version": "1.2.0",
            "_model_name": "LayoutModel",
            "_view_count": null,
            "_view_module": "@jupyter-widgets/base",
            "_view_module_version": "1.2.0",
            "_view_name": "LayoutView",
            "align_content": null,
            "align_items": null,
            "align_self": null,
            "border": null,
            "bottom": null,
            "display": null,
            "flex": null,
            "flex_flow": null,
            "grid_area": null,
            "grid_auto_columns": null,
            "grid_auto_flow": null,
            "grid_auto_rows": null,
            "grid_column": null,
            "grid_gap": null,
            "grid_row": null,
            "grid_template_areas": null,
            "grid_template_columns": null,
            "grid_template_rows": null,
            "height": null,
            "justify_content": null,
            "justify_items": null,
            "left": null,
            "margin": null,
            "max_height": null,
            "max_width": null,
            "min_height": null,
            "min_width": null,
            "object_fit": null,
            "object_position": null,
            "order": null,
            "overflow": null,
            "overflow_x": null,
            "overflow_y": null,
            "padding": null,
            "right": null,
            "top": null,
            "visibility": null,
            "width": null
          }
        },
        "6ff169c35161469d9b1ab07258705a75": {
          "model_module": "@jupyter-widgets/base",
          "model_name": "LayoutModel",
          "model_module_version": "1.2.0",
          "state": {
            "_model_module": "@jupyter-widgets/base",
            "_model_module_version": "1.2.0",
            "_model_name": "LayoutModel",
            "_view_count": null,
            "_view_module": "@jupyter-widgets/base",
            "_view_module_version": "1.2.0",
            "_view_name": "LayoutView",
            "align_content": null,
            "align_items": null,
            "align_self": null,
            "border": null,
            "bottom": null,
            "display": null,
            "flex": null,
            "flex_flow": null,
            "grid_area": null,
            "grid_auto_columns": null,
            "grid_auto_flow": null,
            "grid_auto_rows": null,
            "grid_column": null,
            "grid_gap": null,
            "grid_row": null,
            "grid_template_areas": null,
            "grid_template_columns": null,
            "grid_template_rows": null,
            "height": null,
            "justify_content": null,
            "justify_items": null,
            "left": null,
            "margin": null,
            "max_height": null,
            "max_width": null,
            "min_height": null,
            "min_width": null,
            "object_fit": null,
            "object_position": null,
            "order": null,
            "overflow": null,
            "overflow_x": null,
            "overflow_y": null,
            "padding": null,
            "right": null,
            "top": null,
            "visibility": null,
            "width": null
          }
        },
        "a9305f2eabbb4932b36b8d221bc8638a": {
          "model_module": "@jupyter-widgets/controls",
          "model_name": "DescriptionStyleModel",
          "model_module_version": "1.5.0",
          "state": {
            "_model_module": "@jupyter-widgets/controls",
            "_model_module_version": "1.5.0",
            "_model_name": "DescriptionStyleModel",
            "_view_count": null,
            "_view_module": "@jupyter-widgets/base",
            "_view_module_version": "1.2.0",
            "_view_name": "StyleView",
            "description_width": ""
          }
        },
        "4777f91f3ece4a15860750d892ea37c5": {
          "model_module": "@jupyter-widgets/base",
          "model_name": "LayoutModel",
          "model_module_version": "1.2.0",
          "state": {
            "_model_module": "@jupyter-widgets/base",
            "_model_module_version": "1.2.0",
            "_model_name": "LayoutModel",
            "_view_count": null,
            "_view_module": "@jupyter-widgets/base",
            "_view_module_version": "1.2.0",
            "_view_name": "LayoutView",
            "align_content": null,
            "align_items": null,
            "align_self": null,
            "border": null,
            "bottom": null,
            "display": null,
            "flex": null,
            "flex_flow": null,
            "grid_area": null,
            "grid_auto_columns": null,
            "grid_auto_flow": null,
            "grid_auto_rows": null,
            "grid_column": null,
            "grid_gap": null,
            "grid_row": null,
            "grid_template_areas": null,
            "grid_template_columns": null,
            "grid_template_rows": null,
            "height": null,
            "justify_content": null,
            "justify_items": null,
            "left": null,
            "margin": null,
            "max_height": null,
            "max_width": null,
            "min_height": null,
            "min_width": null,
            "object_fit": null,
            "object_position": null,
            "order": null,
            "overflow": null,
            "overflow_x": null,
            "overflow_y": null,
            "padding": null,
            "right": null,
            "top": null,
            "visibility": null,
            "width": null
          }
        },
        "09fc3213cdb64b69a2ef2926ae62134f": {
          "model_module": "@jupyter-widgets/controls",
          "model_name": "ProgressStyleModel",
          "model_module_version": "1.5.0",
          "state": {
            "_model_module": "@jupyter-widgets/controls",
            "_model_module_version": "1.5.0",
            "_model_name": "ProgressStyleModel",
            "_view_count": null,
            "_view_module": "@jupyter-widgets/base",
            "_view_module_version": "1.2.0",
            "_view_name": "StyleView",
            "bar_color": null,
            "description_width": ""
          }
        },
        "821eac878605404aac71e520fef85965": {
          "model_module": "@jupyter-widgets/base",
          "model_name": "LayoutModel",
          "model_module_version": "1.2.0",
          "state": {
            "_model_module": "@jupyter-widgets/base",
            "_model_module_version": "1.2.0",
            "_model_name": "LayoutModel",
            "_view_count": null,
            "_view_module": "@jupyter-widgets/base",
            "_view_module_version": "1.2.0",
            "_view_name": "LayoutView",
            "align_content": null,
            "align_items": null,
            "align_self": null,
            "border": null,
            "bottom": null,
            "display": null,
            "flex": null,
            "flex_flow": null,
            "grid_area": null,
            "grid_auto_columns": null,
            "grid_auto_flow": null,
            "grid_auto_rows": null,
            "grid_column": null,
            "grid_gap": null,
            "grid_row": null,
            "grid_template_areas": null,
            "grid_template_columns": null,
            "grid_template_rows": null,
            "height": null,
            "justify_content": null,
            "justify_items": null,
            "left": null,
            "margin": null,
            "max_height": null,
            "max_width": null,
            "min_height": null,
            "min_width": null,
            "object_fit": null,
            "object_position": null,
            "order": null,
            "overflow": null,
            "overflow_x": null,
            "overflow_y": null,
            "padding": null,
            "right": null,
            "top": null,
            "visibility": null,
            "width": null
          }
        },
        "6e9205ff0d0f4ce48ac24c2e3c5f9d3d": {
          "model_module": "@jupyter-widgets/controls",
          "model_name": "DescriptionStyleModel",
          "model_module_version": "1.5.0",
          "state": {
            "_model_module": "@jupyter-widgets/controls",
            "_model_module_version": "1.5.0",
            "_model_name": "DescriptionStyleModel",
            "_view_count": null,
            "_view_module": "@jupyter-widgets/base",
            "_view_module_version": "1.2.0",
            "_view_name": "StyleView",
            "description_width": ""
          }
        },
        "f480f65abd544dd2a739e949e2c63bbf": {
          "model_module": "@jupyter-widgets/controls",
          "model_name": "HBoxModel",
          "model_module_version": "1.5.0",
          "state": {
            "_dom_classes": [],
            "_model_module": "@jupyter-widgets/controls",
            "_model_module_version": "1.5.0",
            "_model_name": "HBoxModel",
            "_view_count": null,
            "_view_module": "@jupyter-widgets/controls",
            "_view_module_version": "1.5.0",
            "_view_name": "HBoxView",
            "box_style": "",
            "children": [
              "IPY_MODEL_4ac562c265dc4a58bc5aa501eb10c2a0",
              "IPY_MODEL_dd7516ff67ed4539aeb9708e547248f2",
              "IPY_MODEL_4b470b9a33d44c7b8efe037f68a4a12b"
            ],
            "layout": "IPY_MODEL_50d3b7b94f284bf296a2468ec55a326c"
          }
        },
        "4ac562c265dc4a58bc5aa501eb10c2a0": {
          "model_module": "@jupyter-widgets/controls",
          "model_name": "HTMLModel",
          "model_module_version": "1.5.0",
          "state": {
            "_dom_classes": [],
            "_model_module": "@jupyter-widgets/controls",
            "_model_module_version": "1.5.0",
            "_model_name": "HTMLModel",
            "_view_count": null,
            "_view_module": "@jupyter-widgets/controls",
            "_view_module_version": "1.5.0",
            "_view_name": "HTMLView",
            "description": "",
            "description_tooltip": null,
            "layout": "IPY_MODEL_b7db4b1d0cbf4522b224fc7ec006dee8",
            "placeholder": "​",
            "style": "IPY_MODEL_caf956734c6c472593f3b0685dc716af",
            "value": "model.safetensors: 100%"
          }
        },
        "dd7516ff67ed4539aeb9708e547248f2": {
          "model_module": "@jupyter-widgets/controls",
          "model_name": "FloatProgressModel",
          "model_module_version": "1.5.0",
          "state": {
            "_dom_classes": [],
            "_model_module": "@jupyter-widgets/controls",
            "_model_module_version": "1.5.0",
            "_model_name": "FloatProgressModel",
            "_view_count": null,
            "_view_module": "@jupyter-widgets/controls",
            "_view_module_version": "1.5.0",
            "_view_name": "ProgressView",
            "bar_style": "success",
            "description": "",
            "description_tooltip": null,
            "layout": "IPY_MODEL_ad9a5b2aceda46038b71c153fe8d592b",
            "max": 433391096,
            "min": 0,
            "orientation": "horizontal",
            "style": "IPY_MODEL_d62ff9ff25b64024ab3b8df551a8f40e",
            "value": 433391096
          }
        },
        "4b470b9a33d44c7b8efe037f68a4a12b": {
          "model_module": "@jupyter-widgets/controls",
          "model_name": "HTMLModel",
          "model_module_version": "1.5.0",
          "state": {
            "_dom_classes": [],
            "_model_module": "@jupyter-widgets/controls",
            "_model_module_version": "1.5.0",
            "_model_name": "HTMLModel",
            "_view_count": null,
            "_view_module": "@jupyter-widgets/controls",
            "_view_module_version": "1.5.0",
            "_view_name": "HTMLView",
            "description": "",
            "description_tooltip": null,
            "layout": "IPY_MODEL_25a58c0eac0048c1a9599c942a141725",
            "placeholder": "​",
            "style": "IPY_MODEL_03ba24ac6cd34ed4b5ceb1c9e9a02f60",
            "value": " 433M/433M [00:29&lt;00:00, 14.6MB/s]"
          }
        },
        "50d3b7b94f284bf296a2468ec55a326c": {
          "model_module": "@jupyter-widgets/base",
          "model_name": "LayoutModel",
          "model_module_version": "1.2.0",
          "state": {
            "_model_module": "@jupyter-widgets/base",
            "_model_module_version": "1.2.0",
            "_model_name": "LayoutModel",
            "_view_count": null,
            "_view_module": "@jupyter-widgets/base",
            "_view_module_version": "1.2.0",
            "_view_name": "LayoutView",
            "align_content": null,
            "align_items": null,
            "align_self": null,
            "border": null,
            "bottom": null,
            "display": null,
            "flex": null,
            "flex_flow": null,
            "grid_area": null,
            "grid_auto_columns": null,
            "grid_auto_flow": null,
            "grid_auto_rows": null,
            "grid_column": null,
            "grid_gap": null,
            "grid_row": null,
            "grid_template_areas": null,
            "grid_template_columns": null,
            "grid_template_rows": null,
            "height": null,
            "justify_content": null,
            "justify_items": null,
            "left": null,
            "margin": null,
            "max_height": null,
            "max_width": null,
            "min_height": null,
            "min_width": null,
            "object_fit": null,
            "object_position": null,
            "order": null,
            "overflow": null,
            "overflow_x": null,
            "overflow_y": null,
            "padding": null,
            "right": null,
            "top": null,
            "visibility": null,
            "width": null
          }
        },
        "b7db4b1d0cbf4522b224fc7ec006dee8": {
          "model_module": "@jupyter-widgets/base",
          "model_name": "LayoutModel",
          "model_module_version": "1.2.0",
          "state": {
            "_model_module": "@jupyter-widgets/base",
            "_model_module_version": "1.2.0",
            "_model_name": "LayoutModel",
            "_view_count": null,
            "_view_module": "@jupyter-widgets/base",
            "_view_module_version": "1.2.0",
            "_view_name": "LayoutView",
            "align_content": null,
            "align_items": null,
            "align_self": null,
            "border": null,
            "bottom": null,
            "display": null,
            "flex": null,
            "flex_flow": null,
            "grid_area": null,
            "grid_auto_columns": null,
            "grid_auto_flow": null,
            "grid_auto_rows": null,
            "grid_column": null,
            "grid_gap": null,
            "grid_row": null,
            "grid_template_areas": null,
            "grid_template_columns": null,
            "grid_template_rows": null,
            "height": null,
            "justify_content": null,
            "justify_items": null,
            "left": null,
            "margin": null,
            "max_height": null,
            "max_width": null,
            "min_height": null,
            "min_width": null,
            "object_fit": null,
            "object_position": null,
            "order": null,
            "overflow": null,
            "overflow_x": null,
            "overflow_y": null,
            "padding": null,
            "right": null,
            "top": null,
            "visibility": null,
            "width": null
          }
        },
        "caf956734c6c472593f3b0685dc716af": {
          "model_module": "@jupyter-widgets/controls",
          "model_name": "DescriptionStyleModel",
          "model_module_version": "1.5.0",
          "state": {
            "_model_module": "@jupyter-widgets/controls",
            "_model_module_version": "1.5.0",
            "_model_name": "DescriptionStyleModel",
            "_view_count": null,
            "_view_module": "@jupyter-widgets/base",
            "_view_module_version": "1.2.0",
            "_view_name": "StyleView",
            "description_width": ""
          }
        },
        "ad9a5b2aceda46038b71c153fe8d592b": {
          "model_module": "@jupyter-widgets/base",
          "model_name": "LayoutModel",
          "model_module_version": "1.2.0",
          "state": {
            "_model_module": "@jupyter-widgets/base",
            "_model_module_version": "1.2.0",
            "_model_name": "LayoutModel",
            "_view_count": null,
            "_view_module": "@jupyter-widgets/base",
            "_view_module_version": "1.2.0",
            "_view_name": "LayoutView",
            "align_content": null,
            "align_items": null,
            "align_self": null,
            "border": null,
            "bottom": null,
            "display": null,
            "flex": null,
            "flex_flow": null,
            "grid_area": null,
            "grid_auto_columns": null,
            "grid_auto_flow": null,
            "grid_auto_rows": null,
            "grid_column": null,
            "grid_gap": null,
            "grid_row": null,
            "grid_template_areas": null,
            "grid_template_columns": null,
            "grid_template_rows": null,
            "height": null,
            "justify_content": null,
            "justify_items": null,
            "left": null,
            "margin": null,
            "max_height": null,
            "max_width": null,
            "min_height": null,
            "min_width": null,
            "object_fit": null,
            "object_position": null,
            "order": null,
            "overflow": null,
            "overflow_x": null,
            "overflow_y": null,
            "padding": null,
            "right": null,
            "top": null,
            "visibility": null,
            "width": null
          }
        },
        "d62ff9ff25b64024ab3b8df551a8f40e": {
          "model_module": "@jupyter-widgets/controls",
          "model_name": "ProgressStyleModel",
          "model_module_version": "1.5.0",
          "state": {
            "_model_module": "@jupyter-widgets/controls",
            "_model_module_version": "1.5.0",
            "_model_name": "ProgressStyleModel",
            "_view_count": null,
            "_view_module": "@jupyter-widgets/base",
            "_view_module_version": "1.2.0",
            "_view_name": "StyleView",
            "bar_color": null,
            "description_width": ""
          }
        },
        "25a58c0eac0048c1a9599c942a141725": {
          "model_module": "@jupyter-widgets/base",
          "model_name": "LayoutModel",
          "model_module_version": "1.2.0",
          "state": {
            "_model_module": "@jupyter-widgets/base",
            "_model_module_version": "1.2.0",
            "_model_name": "LayoutModel",
            "_view_count": null,
            "_view_module": "@jupyter-widgets/base",
            "_view_module_version": "1.2.0",
            "_view_name": "LayoutView",
            "align_content": null,
            "align_items": null,
            "align_self": null,
            "border": null,
            "bottom": null,
            "display": null,
            "flex": null,
            "flex_flow": null,
            "grid_area": null,
            "grid_auto_columns": null,
            "grid_auto_flow": null,
            "grid_auto_rows": null,
            "grid_column": null,
            "grid_gap": null,
            "grid_row": null,
            "grid_template_areas": null,
            "grid_template_columns": null,
            "grid_template_rows": null,
            "height": null,
            "justify_content": null,
            "justify_items": null,
            "left": null,
            "margin": null,
            "max_height": null,
            "max_width": null,
            "min_height": null,
            "min_width": null,
            "object_fit": null,
            "object_position": null,
            "order": null,
            "overflow": null,
            "overflow_x": null,
            "overflow_y": null,
            "padding": null,
            "right": null,
            "top": null,
            "visibility": null,
            "width": null
          }
        },
        "03ba24ac6cd34ed4b5ceb1c9e9a02f60": {
          "model_module": "@jupyter-widgets/controls",
          "model_name": "DescriptionStyleModel",
          "model_module_version": "1.5.0",
          "state": {
            "_model_module": "@jupyter-widgets/controls",
            "_model_module_version": "1.5.0",
            "_model_name": "DescriptionStyleModel",
            "_view_count": null,
            "_view_module": "@jupyter-widgets/base",
            "_view_module_version": "1.2.0",
            "_view_name": "StyleView",
            "description_width": ""
          }
        }
      }
    }
  },
  "nbformat": 4,
  "nbformat_minor": 0
}