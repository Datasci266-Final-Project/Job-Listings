{
  "nbformat": 4,
  "nbformat_minor": 0,
  "metadata": {
    "colab": {
      "provenance": [],
      "include_colab_link": true
    },
    "kernelspec": {
      "name": "python3",
      "display_name": "Python 3"
    },
    "language_info": {
      "name": "python"
    }
  },
  "cells": [
    {
      "cell_type": "markdown",
      "metadata": {
        "id": "view-in-github",
        "colab_type": "text"
      },
      "source": [
        "<a href=\"https://colab.research.google.com/github/Datasci266-Final-Project/Job-Listings/blob/main/Analysis%20Notebooks/Result_Metrics_Generation.ipynb\" target=\"_parent\"><img src=\"https://colab.research.google.com/assets/colab-badge.svg\" alt=\"Open In Colab\"/></a>"
      ]
    },
    {
      "cell_type": "code",
      "source": [
        "import numpy as np\n",
        "import pandas as pd\n",
        "import matplotlib.pyplot as plt\n",
        "import seaborn as sns\n",
        "from sklearn.metrics import classification_report"
      ],
      "metadata": {
        "id": "y0NEff4JJEWh"
      },
      "execution_count": null,
      "outputs": []
    },
    {
      "cell_type": "code",
      "source": [
        "from google.colab import drive\n",
        "drive.mount('/content/drive')\n",
        "\n",
        "%cd /content/drive/My Drive/DataSci 266 Project"
      ],
      "metadata": {
        "colab": {
          "base_uri": "https://localhost:8080/"
        },
        "id": "78yMqW3EJbLO",
        "outputId": "0ca1518d-f166-4969-fdc8-a2e69b07f5a0"
      },
      "execution_count": null,
      "outputs": [
        {
          "output_type": "stream",
          "name": "stdout",
          "text": [
            "Mounted at /content/drive\n",
            "/content/drive/.shortcut-targets-by-id/1V3QooLePiHR_DaZhbXQhsjmP1Ez5fv5F/DataSci 266 Project\n"
          ]
        }
      ]
    },
    {
      "cell_type": "code",
      "source": [
        "test_data = pd.read_csv('test_data_predictions_final.csv')"
      ],
      "metadata": {
        "id": "9nZWpgc8JOTo"
      },
      "execution_count": null,
      "outputs": []
    },
    {
      "cell_type": "code",
      "source": [
        "test_data.columns"
      ],
      "metadata": {
        "colab": {
          "base_uri": "https://localhost:8080/"
        },
        "id": "bDrGUcg0ovTB",
        "outputId": "668f8938-422b-4d97-d5c9-22f674315a6e"
      },
      "execution_count": null,
      "outputs": [
        {
          "output_type": "execute_result",
          "data": {
            "text/plain": [
              "Index(['index', 'title', 'text', 'level', 'salary', 'salary_bucket',\n",
              "       'level_labels', 'salary_labels', 'level_predictions_bert_base',\n",
              "       'level_predictions_xlm_roberta', 'level_predictions_jobbert',\n",
              "       'salary_predictions_bert_base', 'salary_predictions_xlm_roberta',\n",
              "       'salary_predictions_jobbert', 'level_predictions_dan',\n",
              "       'salary_predictions_dan', 'language', 'language_full_name',\n",
              "       'salary_labels_baseline'],\n",
              "      dtype='object')"
            ]
          },
          "metadata": {},
          "execution_count": 4
        }
      ]
    },
    {
      "cell_type": "code",
      "source": [
        "len(test_data)"
      ],
      "metadata": {
        "colab": {
          "base_uri": "https://localhost:8080/"
        },
        "id": "NknhDaldJn0v",
        "outputId": "37183078-5b77-4805-b7b9-305e021c1118"
      },
      "execution_count": null,
      "outputs": [
        {
          "output_type": "execute_result",
          "data": {
            "text/plain": [
              "14063"
            ]
          },
          "metadata": {},
          "execution_count": 5
        }
      ]
    },
    {
      "cell_type": "code",
      "source": [
        "target_salary_names = [\"<30k\",\n",
        "    \"30-60k\",\n",
        "    \"60-90k\",\n",
        "    \"90-120k\",\n",
        "    \"120-150k\",\n",
        "    \"150-180k\",\n",
        "    \">180k\"]\n",
        "\n",
        "\n",
        "\n",
        "\n",
        "target_names = [\"student_intern\", \"entry\", \"junior\", \"mid\", \"senior\", \"executive\"]"
      ],
      "metadata": {
        "id": "i8tMWGUnpQRf"
      },
      "execution_count": null,
      "outputs": []
    },
    {
      "cell_type": "code",
      "source": [
        "test_data_salary = test_data[(test_data[\"salary_labels\"] != -1) & (test_data[\"salary_labels_baseline\"] != -1)]\n",
        "test_data_level = test_data[test_data[\"level_labels\"] != -1]\n",
        "\n"
      ],
      "metadata": {
        "id": "0K-cOd6LoALO"
      },
      "execution_count": null,
      "outputs": []
    },
    {
      "cell_type": "code",
      "source": [
        "print('Model Baseline: DAN - Level Classification Metrics')\n",
        "print(classification_report(test_data_level['level_labels'], test_data_level['level_predictions_dan'], target_names=target_names))\n",
        "\n",
        "print('')\n",
        "print('-'*20)\n",
        "print('')\n",
        "\n",
        "print('Model Baseline: DAN Baseline - Salary Classification Metrics')\n",
        "print(classification_report(test_data_salary['salary_labels_baseline'], test_data_salary['salary_predictions_dan'], target_names=target_salary_names))\n",
        "\n",
        "print('')\n",
        "print('='*20)\n",
        "print('')\n",
        "\n"
      ],
      "metadata": {
        "colab": {
          "base_uri": "https://localhost:8080/"
        },
        "id": "D9StTQxhoapg",
        "outputId": "4743885e-c400-40d5-bec2-91ca1ed87b67"
      },
      "execution_count": null,
      "outputs": [
        {
          "output_type": "stream",
          "name": "stdout",
          "text": [
            "Model Baseline: DAN - Level Classification Metrics\n",
            "                precision    recall  f1-score   support\n",
            "\n",
            "student_intern       0.48      0.79      0.60       743\n",
            "         entry       0.44      0.60      0.51      1991\n",
            "        junior       0.33      0.27      0.30      1450\n",
            "           mid       0.29      0.71      0.42      1989\n",
            "        senior       0.72      0.01      0.02      5855\n",
            "     executive       0.09      0.76      0.16       274\n",
            "\n",
            "      accuracy                           0.31     12302\n",
            "     macro avg       0.39      0.52      0.33     12302\n",
            "  weighted avg       0.53      0.31      0.23     12302\n",
            "\n",
            "\n",
            "--------------------\n",
            "\n",
            "Model Baseline: DAN Baseline - Salary Classification Metrics\n",
            "              precision    recall  f1-score   support\n",
            "\n",
            "        <30k       0.35      0.60      0.44       117\n",
            "      30-60k       0.65      0.59      0.62       873\n",
            "      60-90k       0.60      0.45      0.52       754\n",
            "     90-120k       0.21      0.38      0.27       234\n",
            "    120-150k       0.41      0.20      0.27       144\n",
            "    150-180k       0.19      0.30      0.23        69\n",
            "       >180k       0.27      0.32      0.29       102\n",
            "\n",
            "    accuracy                           0.48      2293\n",
            "   macro avg       0.38      0.41      0.38      2293\n",
            "weighted avg       0.53      0.48      0.49      2293\n",
            "\n",
            "\n",
            "====================\n",
            "\n"
          ]
        }
      ]
    }
  ]
}