{
  "nbformat": 4,
  "nbformat_minor": 0,
  "metadata": {
    "colab": {
      "provenance": [],
      "include_colab_link": true
    },
    "kernelspec": {
      "name": "python3",
      "display_name": "Python 3"
    },
    "language_info": {
      "name": "python"
    }
  },
  "cells": [
    {
      "cell_type": "markdown",
      "metadata": {
        "id": "view-in-github",
        "colab_type": "text"
      },
      "source": [
        "<a href=\"https://colab.research.google.com/github/Datasci266-Final-Project/Job-Listings/blob/main/Analysis%20Notebooks/Text_Length_Analysis.ipynb\" target=\"_parent\"><img src=\"https://colab.research.google.com/assets/colab-badge.svg\" alt=\"Open In Colab\"/></a>"
      ]
    },
    {
      "cell_type": "code",
      "source": [
        "import numpy as np\n",
        "import pandas as pd\n",
        "import matplotlib.pyplot as plt\n",
        "import seaborn as sns\n",
        "import pprint\n",
        "import textwrap\n"
      ],
      "metadata": {
        "id": "y0NEff4JJEWh"
      },
      "execution_count": null,
      "outputs": []
    },
    {
      "cell_type": "code",
      "source": [
        "from google.colab import drive\n",
        "drive.mount('/content/drive')\n",
        "\n",
        "%cd /content/drive/My Drive/DataSci 266 Project"
      ],
      "metadata": {
        "colab": {
          "base_uri": "https://localhost:8080/"
        },
        "id": "78yMqW3EJbLO",
        "outputId": "be34fd46-326a-4a05-c926-1505e2b30857"
      },
      "execution_count": null,
      "outputs": [
        {
          "output_type": "stream",
          "name": "stdout",
          "text": [
            "Mounted at /content/drive\n",
            "/content/drive/.shortcut-targets-by-id/1V3QooLePiHR_DaZhbXQhsjmP1Ez5fv5F/DataSci 266 Project\n"
          ]
        }
      ]
    },
    {
      "cell_type": "code",
      "source": [
        "df = pd.read_csv('labeled_job_data.csv')"
      ],
      "metadata": {
        "id": "9nZWpgc8JOTo"
      },
      "execution_count": null,
      "outputs": []
    },
    {
      "cell_type": "code",
      "source": [
        "len(df)"
      ],
      "metadata": {
        "colab": {
          "base_uri": "https://localhost:8080/"
        },
        "id": "NknhDaldJn0v",
        "outputId": "6be4fb3b-34a6-49c5-ed20-cd2612aa228a"
      },
      "execution_count": null,
      "outputs": [
        {
          "output_type": "execute_result",
          "data": {
            "text/plain": [
              "93747"
            ]
          },
          "metadata": {},
          "execution_count": 4
        }
      ]
    },
    {
      "cell_type": "code",
      "source": [
        "df.head()\n"
      ],
      "metadata": {
        "colab": {
          "base_uri": "https://localhost:8080/",
          "height": 206
        },
        "id": "ogU9HjjFhgo9",
        "outputId": "302d5568-d8d8-49f0-80cf-077dbdfcd732"
      },
      "execution_count": null,
      "outputs": [
        {
          "output_type": "execute_result",
          "data": {
            "text/plain": [
              "   Unnamed: 0                                              title  \\\n",
              "0           1                                     Junior Auditor   \n",
              "1           3                                  Senior Accountant   \n",
              "2           6                         Senior Contract Specialist   \n",
              "3           7  Senior Auditor, Global Internal Audit &amp; As...   \n",
              "4           8                                         Tax Senior   \n",
              "\n",
              "                                                text experience_label  \\\n",
              "0  What we offerExcellent health benefits plan, w...           junior   \n",
              "1  Seeking an Experienced, Enthusiastic, Multi-ta...           senior   \n",
              "2  Standard Textile Co., Inc Equal Employment Opp...           senior   \n",
              "3  Working with Us Challenging. Meaningful. Life-...           senior   \n",
              "4  We are seeking a motivated Tax Senior to join ...           senior   \n",
              "\n",
              "   salary_label  \n",
              "0           NaN  \n",
              "1           NaN  \n",
              "2           NaN  \n",
              "3           NaN  \n",
              "4           NaN  "
            ],
            "text/html": [
              "\n",
              "  <div id=\"df-b0da1b01-c5d3-4a80-86bf-7db2722fe666\" class=\"colab-df-container\">\n",
              "    <div>\n",
              "<style scoped>\n",
              "    .dataframe tbody tr th:only-of-type {\n",
              "        vertical-align: middle;\n",
              "    }\n",
              "\n",
              "    .dataframe tbody tr th {\n",
              "        vertical-align: top;\n",
              "    }\n",
              "\n",
              "    .dataframe thead th {\n",
              "        text-align: right;\n",
              "    }\n",
              "</style>\n",
              "<table border=\"1\" class=\"dataframe\">\n",
              "  <thead>\n",
              "    <tr style=\"text-align: right;\">\n",
              "      <th></th>\n",
              "      <th>Unnamed: 0</th>\n",
              "      <th>title</th>\n",
              "      <th>text</th>\n",
              "      <th>experience_label</th>\n",
              "      <th>salary_label</th>\n",
              "    </tr>\n",
              "  </thead>\n",
              "  <tbody>\n",
              "    <tr>\n",
              "      <th>0</th>\n",
              "      <td>1</td>\n",
              "      <td>Junior Auditor</td>\n",
              "      <td>What we offerExcellent health benefits plan, w...</td>\n",
              "      <td>junior</td>\n",
              "      <td>NaN</td>\n",
              "    </tr>\n",
              "    <tr>\n",
              "      <th>1</th>\n",
              "      <td>3</td>\n",
              "      <td>Senior Accountant</td>\n",
              "      <td>Seeking an Experienced, Enthusiastic, Multi-ta...</td>\n",
              "      <td>senior</td>\n",
              "      <td>NaN</td>\n",
              "    </tr>\n",
              "    <tr>\n",
              "      <th>2</th>\n",
              "      <td>6</td>\n",
              "      <td>Senior Contract Specialist</td>\n",
              "      <td>Standard Textile Co., Inc Equal Employment Opp...</td>\n",
              "      <td>senior</td>\n",
              "      <td>NaN</td>\n",
              "    </tr>\n",
              "    <tr>\n",
              "      <th>3</th>\n",
              "      <td>7</td>\n",
              "      <td>Senior Auditor, Global Internal Audit &amp;amp; As...</td>\n",
              "      <td>Working with Us Challenging. Meaningful. Life-...</td>\n",
              "      <td>senior</td>\n",
              "      <td>NaN</td>\n",
              "    </tr>\n",
              "    <tr>\n",
              "      <th>4</th>\n",
              "      <td>8</td>\n",
              "      <td>Tax Senior</td>\n",
              "      <td>We are seeking a motivated Tax Senior to join ...</td>\n",
              "      <td>senior</td>\n",
              "      <td>NaN</td>\n",
              "    </tr>\n",
              "  </tbody>\n",
              "</table>\n",
              "</div>\n",
              "    <div class=\"colab-df-buttons\">\n",
              "\n",
              "  <div class=\"colab-df-container\">\n",
              "    <button class=\"colab-df-convert\" onclick=\"convertToInteractive('df-b0da1b01-c5d3-4a80-86bf-7db2722fe666')\"\n",
              "            title=\"Convert this dataframe to an interactive table.\"\n",
              "            style=\"display:none;\">\n",
              "\n",
              "  <svg xmlns=\"http://www.w3.org/2000/svg\" height=\"24px\" viewBox=\"0 -960 960 960\">\n",
              "    <path d=\"M120-120v-720h720v720H120Zm60-500h600v-160H180v160Zm220 220h160v-160H400v160Zm0 220h160v-160H400v160ZM180-400h160v-160H180v160Zm440 0h160v-160H620v160ZM180-180h160v-160H180v160Zm440 0h160v-160H620v160Z\"/>\n",
              "  </svg>\n",
              "    </button>\n",
              "\n",
              "  <style>\n",
              "    .colab-df-container {\n",
              "      display:flex;\n",
              "      gap: 12px;\n",
              "    }\n",
              "\n",
              "    .colab-df-convert {\n",
              "      background-color: #E8F0FE;\n",
              "      border: none;\n",
              "      border-radius: 50%;\n",
              "      cursor: pointer;\n",
              "      display: none;\n",
              "      fill: #1967D2;\n",
              "      height: 32px;\n",
              "      padding: 0 0 0 0;\n",
              "      width: 32px;\n",
              "    }\n",
              "\n",
              "    .colab-df-convert:hover {\n",
              "      background-color: #E2EBFA;\n",
              "      box-shadow: 0px 1px 2px rgba(60, 64, 67, 0.3), 0px 1px 3px 1px rgba(60, 64, 67, 0.15);\n",
              "      fill: #174EA6;\n",
              "    }\n",
              "\n",
              "    .colab-df-buttons div {\n",
              "      margin-bottom: 4px;\n",
              "    }\n",
              "\n",
              "    [theme=dark] .colab-df-convert {\n",
              "      background-color: #3B4455;\n",
              "      fill: #D2E3FC;\n",
              "    }\n",
              "\n",
              "    [theme=dark] .colab-df-convert:hover {\n",
              "      background-color: #434B5C;\n",
              "      box-shadow: 0px 1px 3px 1px rgba(0, 0, 0, 0.15);\n",
              "      filter: drop-shadow(0px 1px 2px rgba(0, 0, 0, 0.3));\n",
              "      fill: #FFFFFF;\n",
              "    }\n",
              "  </style>\n",
              "\n",
              "    <script>\n",
              "      const buttonEl =\n",
              "        document.querySelector('#df-b0da1b01-c5d3-4a80-86bf-7db2722fe666 button.colab-df-convert');\n",
              "      buttonEl.style.display =\n",
              "        google.colab.kernel.accessAllowed ? 'block' : 'none';\n",
              "\n",
              "      async function convertToInteractive(key) {\n",
              "        const element = document.querySelector('#df-b0da1b01-c5d3-4a80-86bf-7db2722fe666');\n",
              "        const dataTable =\n",
              "          await google.colab.kernel.invokeFunction('convertToInteractive',\n",
              "                                                    [key], {});\n",
              "        if (!dataTable) return;\n",
              "\n",
              "        const docLinkHtml = 'Like what you see? Visit the ' +\n",
              "          '<a target=\"_blank\" href=https://colab.research.google.com/notebooks/data_table.ipynb>data table notebook</a>'\n",
              "          + ' to learn more about interactive tables.';\n",
              "        element.innerHTML = '';\n",
              "        dataTable['output_type'] = 'display_data';\n",
              "        await google.colab.output.renderOutput(dataTable, element);\n",
              "        const docLink = document.createElement('div');\n",
              "        docLink.innerHTML = docLinkHtml;\n",
              "        element.appendChild(docLink);\n",
              "      }\n",
              "    </script>\n",
              "  </div>\n",
              "\n",
              "\n",
              "<div id=\"df-05a8fbd0-7e47-4961-a7da-63e4c028f730\">\n",
              "  <button class=\"colab-df-quickchart\" onclick=\"quickchart('df-05a8fbd0-7e47-4961-a7da-63e4c028f730')\"\n",
              "            title=\"Suggest charts\"\n",
              "            style=\"display:none;\">\n",
              "\n",
              "<svg xmlns=\"http://www.w3.org/2000/svg\" height=\"24px\"viewBox=\"0 0 24 24\"\n",
              "     width=\"24px\">\n",
              "    <g>\n",
              "        <path d=\"M19 3H5c-1.1 0-2 .9-2 2v14c0 1.1.9 2 2 2h14c1.1 0 2-.9 2-2V5c0-1.1-.9-2-2-2zM9 17H7v-7h2v7zm4 0h-2V7h2v10zm4 0h-2v-4h2v4z\"/>\n",
              "    </g>\n",
              "</svg>\n",
              "  </button>\n",
              "\n",
              "<style>\n",
              "  .colab-df-quickchart {\n",
              "      --bg-color: #E8F0FE;\n",
              "      --fill-color: #1967D2;\n",
              "      --hover-bg-color: #E2EBFA;\n",
              "      --hover-fill-color: #174EA6;\n",
              "      --disabled-fill-color: #AAA;\n",
              "      --disabled-bg-color: #DDD;\n",
              "  }\n",
              "\n",
              "  [theme=dark] .colab-df-quickchart {\n",
              "      --bg-color: #3B4455;\n",
              "      --fill-color: #D2E3FC;\n",
              "      --hover-bg-color: #434B5C;\n",
              "      --hover-fill-color: #FFFFFF;\n",
              "      --disabled-bg-color: #3B4455;\n",
              "      --disabled-fill-color: #666;\n",
              "  }\n",
              "\n",
              "  .colab-df-quickchart {\n",
              "    background-color: var(--bg-color);\n",
              "    border: none;\n",
              "    border-radius: 50%;\n",
              "    cursor: pointer;\n",
              "    display: none;\n",
              "    fill: var(--fill-color);\n",
              "    height: 32px;\n",
              "    padding: 0;\n",
              "    width: 32px;\n",
              "  }\n",
              "\n",
              "  .colab-df-quickchart:hover {\n",
              "    background-color: var(--hover-bg-color);\n",
              "    box-shadow: 0 1px 2px rgba(60, 64, 67, 0.3), 0 1px 3px 1px rgba(60, 64, 67, 0.15);\n",
              "    fill: var(--button-hover-fill-color);\n",
              "  }\n",
              "\n",
              "  .colab-df-quickchart-complete:disabled,\n",
              "  .colab-df-quickchart-complete:disabled:hover {\n",
              "    background-color: var(--disabled-bg-color);\n",
              "    fill: var(--disabled-fill-color);\n",
              "    box-shadow: none;\n",
              "  }\n",
              "\n",
              "  .colab-df-spinner {\n",
              "    border: 2px solid var(--fill-color);\n",
              "    border-color: transparent;\n",
              "    border-bottom-color: var(--fill-color);\n",
              "    animation:\n",
              "      spin 1s steps(1) infinite;\n",
              "  }\n",
              "\n",
              "  @keyframes spin {\n",
              "    0% {\n",
              "      border-color: transparent;\n",
              "      border-bottom-color: var(--fill-color);\n",
              "      border-left-color: var(--fill-color);\n",
              "    }\n",
              "    20% {\n",
              "      border-color: transparent;\n",
              "      border-left-color: var(--fill-color);\n",
              "      border-top-color: var(--fill-color);\n",
              "    }\n",
              "    30% {\n",
              "      border-color: transparent;\n",
              "      border-left-color: var(--fill-color);\n",
              "      border-top-color: var(--fill-color);\n",
              "      border-right-color: var(--fill-color);\n",
              "    }\n",
              "    40% {\n",
              "      border-color: transparent;\n",
              "      border-right-color: var(--fill-color);\n",
              "      border-top-color: var(--fill-color);\n",
              "    }\n",
              "    60% {\n",
              "      border-color: transparent;\n",
              "      border-right-color: var(--fill-color);\n",
              "    }\n",
              "    80% {\n",
              "      border-color: transparent;\n",
              "      border-right-color: var(--fill-color);\n",
              "      border-bottom-color: var(--fill-color);\n",
              "    }\n",
              "    90% {\n",
              "      border-color: transparent;\n",
              "      border-bottom-color: var(--fill-color);\n",
              "    }\n",
              "  }\n",
              "</style>\n",
              "\n",
              "  <script>\n",
              "    async function quickchart(key) {\n",
              "      const quickchartButtonEl =\n",
              "        document.querySelector('#' + key + ' button');\n",
              "      quickchartButtonEl.disabled = true;  // To prevent multiple clicks.\n",
              "      quickchartButtonEl.classList.add('colab-df-spinner');\n",
              "      try {\n",
              "        const charts = await google.colab.kernel.invokeFunction(\n",
              "            'suggestCharts', [key], {});\n",
              "      } catch (error) {\n",
              "        console.error('Error during call to suggestCharts:', error);\n",
              "      }\n",
              "      quickchartButtonEl.classList.remove('colab-df-spinner');\n",
              "      quickchartButtonEl.classList.add('colab-df-quickchart-complete');\n",
              "    }\n",
              "    (() => {\n",
              "      let quickchartButtonEl =\n",
              "        document.querySelector('#df-05a8fbd0-7e47-4961-a7da-63e4c028f730 button');\n",
              "      quickchartButtonEl.style.display =\n",
              "        google.colab.kernel.accessAllowed ? 'block' : 'none';\n",
              "    })();\n",
              "  </script>\n",
              "</div>\n",
              "\n",
              "    </div>\n",
              "  </div>\n"
            ],
            "application/vnd.google.colaboratory.intrinsic+json": {
              "type": "dataframe",
              "variable_name": "df",
              "summary": "{\n  \"name\": \"df\",\n  \"rows\": 93747,\n  \"fields\": [\n    {\n      \"column\": \"Unnamed: 0\",\n      \"properties\": {\n        \"dtype\": \"number\",\n        \"std\": 30959,\n        \"min\": 0,\n        \"max\": 100835,\n        \"num_unique_values\": 84832,\n        \"samples\": [\n          50833,\n          91944,\n          41982\n        ],\n        \"semantic_type\": \"\",\n        \"description\": \"\"\n      }\n    },\n    {\n      \"column\": \"title\",\n      \"properties\": {\n        \"dtype\": \"string\",\n        \"num_unique_values\": 48098,\n        \"samples\": [\n          \"Senior Depositary Control Analyst\",\n          \"Juriste/Corporate Officer Droit des Soci\\u00e9t\\u00e9s - Bettembourg H/F\",\n          \"SENIOR COMPLIANCE OFFICER (M/F)\"\n        ],\n        \"semantic_type\": \"\",\n        \"description\": \"\"\n      }\n    },\n    {\n      \"column\": \"text\",\n      \"properties\": {\n        \"dtype\": \"string\",\n        \"num_unique_values\": 69878,\n        \"samples\": [\n          \"Innovatives Unternehmen, die die Digitalisierung rasch vorantreiben will, sucht gerade interne Unterst\\u00fctzung in MS Dynamics NAV Bereich. Heute ist ein MS Dynamics NAV Betreuer (m/w/d) gebraucht. Ihre T\\u00e4tigkeiten Betreuung und Weiterentwicklung der bestehenden MS Dynamics NAV Module Optimierung der bestehender MS Dynamics NAV Anwendungen und Schnittstellen einer Branchenl\\u00f6sung Migration der bestehenden MS Dynamics NAV Version zu MS Dynamics NAV 365 Business Central erster Ansprechpartner zu den externen Dienstleister User Support, Helpdesk administrative T\\u00e4tigkeiten Ihr Profil Studium der Wirtschaftsinformatik, Betriebswirtschaft mit Schwerpunkt Informatik, oder eine entsprechende Ausbildung als Fachinformatiker (m/w/d) Anwendungsentwicklung Erste Berufserfahrung in einer MS Dynamics NAV Migration/ Update/ Neueinf\\u00fchrung Erste Erfahrungen in der objektorientierte Programmierung Analytischer, zielorientierter und strukturierter Arbeitsstil Sehr gute Deutsch- und Englischkenntnisse Ihr Vorteil unbefristeter Arbeitsvertrag attraktive Verdienstm\\u00f6glichkeiten abwechslungsreiche Aufgaben k\\u00f6nnen Ihre Eigeninitiativen einbringen junges und freundschaftliches Team Schulungen und Weiterbildungen nach Bedarf flexible Mittagspausen Partys, Sommerfeste, Weihnachtsfeste usw F\\u00fchlen Sie sich angesprochen und finden Sie sich in dem beschriebenen Aufgabenprofil wieder? Wollen Ihre Ideen und Erfahrungen bei unserem Kunden einbringen? Dann senden Sie Ihre Bewerbung per E-Mail, unter Angabe Ihrer Gehaltsvorstellung und des fr\\u00fchestm\\u00f6glichen Eintrittstermins bitte an Frau Johanna Macavei ( Click here to contact this recruiter ) Gerne stehen wir Ihnen ebenfalls telefonisch unter der kostenfreien Rufnummer +49 (0) 3030806022 telefonisch zur Verf\\u00fcgung. Nigel Frank International ist die weltweit f\\u00fchrende Personalberatung, die sich ausschlie\\u00dflich auf die Personalvermittlung von Microsoft Dynamics (NAV, AX, CRM), SharePoint und Business Intelligence Fach- und F\\u00fchrungskr\\u00e4ften spezialisiert hat. Wir f\\u00fchren hervorragende Beziehungen mit einem Gro\\u00dfteil der Top Microsoft Partner und Endanwender in ganz Europa. Viele davon arbeiten exklusiv mit Nigel Frank zusammen. Dementsprechend verf\\u00fcgen wir \\u00fcber das gr\\u00f6\\u00dfte Stellenangebot in unserem Spezialgebiet MS Dynamics, SharePoint und BI. Wir haben uns schnell zum Marktf\\u00fchrer der Microsoft Dynamics Personalrekrutierung entwickelt und bieten weit \\u00fcber eintausend offene Jobs im Bereich Microsoft Dynamics, SharePoint, Business Intelligence und Lync. Wir sichern Ihnen Diskretion, Integrit\\u00e4t und pers\\u00f6nliche Betreuung, Fachwissen, Kundenbeziehungen und Professionalit\\u00e4t! Contact Name: Johanna Macavei Reference: TJ/3086/16032021JMKIRC_1615978808 Job ID: 2909938\",\n          \"The Private Bank Business Control Management team works in partnership with the business, as the first line of defence against operational risks that have the potential to impact the Bank. The key responsibilities of the team include: ensuring that the line of business has a sustainable and disciplined end-to-end control environment; partnering with the Business to ensure control issues are remediated in a timely and sustainable manner; identifying and escalating control issues with a sense of urgency; and coordination of control effectiveness assessments. The team works in collaboration with all other control functions - Compliance, Risk Management, Internal Audit, and oversees the New Business Initiative Approval process.<br><br><strong><u>Role Responsibilities</u></strong><ul><li> Controls support to EMEA Front Office new business initiatives and change management. </li><li> In partnership with stakeholders, perform an end-to-end analysis of the business' risk and control environment to strengthen the control environment.</li><ul><li> For control deficiencies, work with the business to identify significant gaps and weaknesses and determine root cause of control break. Additionally, clearly define both the issue and remediation plan with achievable target dates, tracking of progress against deliverables, challenge of mitigating actions and validation of action plan and issue completion </li><li> Ensure that remediating actions are appropriately and sustainably implemented. </li></ul><li> Management and ownership of a process within the Front Office CORE (Control and Operational Risk Evaluation) framework including ensuring completeness of risks and controls identified, oversight of control testing relating to the process. Challenging the testing approach and acting as an intermediary between control performers and control testers. </li><li> Work with Control Managers to manage Internal Audit, Compliance and external regulatory exams. Facilitate global consistency and collaboration in risk and control coverage with controls managers in other regions and functions. </li><li> Support Business Control Forums and management reporting. Represent Business Control Management in Legal Entity or Private Bank governance, committees and meetings as required. </li><li> Develop and maintain effective working relationships with 2nd, 3rd lines of defence and control management peers across the EMEA region on specific projects and initiatives. <br></li></ul><strong>Qualifications<br></strong><ul><li> Bachelor's degree or equivalent experience required </li><li> 7+ years of financial service experience in financial services, the wealth management business, controls, quality assurance, etc </li><li> Proficient knowledge of control and risk management concepts </li><li> Proficient in Microsoft Office Suite (Word, Excel, PowerPoint, Visio) <br></li></ul><strong><u>Skills<br></u></strong><ul><li> Communication/presentation - excellent written and verbal communication skills with an ability to influence business leaders in a meaningful and actionable manner </li><li> Networking - exceptional interpersonal skills; exceptional collaboration and relationship building skills </li><li> Work autonomously to affect change - flexible, adaptable to shifting priorities; manages competing priorities to achieve the most effective result and able to work in a fast-paced, results driven environment </li><li> Project Management - ability to plan timelines, direct resources (including technology), and communicate various deliverables to multiple stakeholders </li><li> Business knowledge - ability to understand the business / knowledge of regulation surrounding business </li><li> Problem solving / Analytical skills - solid critical thinking, attention to detail and analytical skills; able to synthesize large amounts of information and propose recommendations </li><li> Reporting / Analytics - ability to synthesize interpret, and present information to senior level audiences </li><li> Ability to make subjective and informed decisions based upon output, influence stakeholders and justify decision making </li></ul>J.P. Morgan is a global leader in financial services, providing strategic advice and products to the world's most prominent corporations, governments, wealthy individuals and institutional investors. Our first-class business in a first-class way approach to serving clients drives everything we do. We strive to build trusted, long-term partnerships to help our clients achieve their business objectives.<br><br>We recognize that our people are our strength and the diverse talents they bring to our global workforce are directly linked to our success. We are an equal opportunity employer and place a high value on diversity and inclusion at our company. We do not discriminate on the basis of any protected attribute, including race, religion, color, national origin, gender, sexual orientation, gender identity, gender expression, age, marital or veteran status, pregnancy or disability, or any other basis protected under applicable law. In accordance with applicable law, we make reasonable accommodations for applicants' and employees' religious practices and beliefs, as well as any mental health or physical disability needs.\",\n          \"Dear candidates, for our client, one of the largest providers of fund, coporate and private client services on the market we are looking for a Senior fund Accountant. This company is recognised by their clients and by the industry for excpetional client service and value and known for strong and sustained growth. Job description: \\u2022 Perform role in line with the companies policies and procedures \\u2022 Act as a point of contact for a limited number of fund structures within a team,assisting and mantaining business relartionships \\u2022 Prepare annual accounts and reportings in line with LUXGAAP and IFRS \\u2022 Oversee the bookkeeping \\u2022 Liaise with auditors Profile: \\u2022 3 top 5 years of experience as fund accountant \\u2022 Experience in the Luxembourgish Fund industry on Real Estate and Alternative Investment Funds \\u2022 Knowledge of LUXGAAP and IFRS \\u2022 Fluent in English (every other language is an advantage) \\u2022 Relevant qualification ACCA,ACA,CPA is an advantage \\u2022 Storng in MS OFFICE The company offers an interesting package and a salary based upon the candidates profile. If you wish to apply, don't hesitate to send us your CV at the adress fidu.lux(at)legrand-associates.com or have a call with us at 00352 20 88 12 82. We are looking forward to see you application !\"\n        ],\n        \"semantic_type\": \"\",\n        \"description\": \"\"\n      }\n    },\n    {\n      \"column\": \"experience_label\",\n      \"properties\": {\n        \"dtype\": \"category\",\n        \"num_unique_values\": 6,\n        \"samples\": [\n          \"junior\",\n          \"senior\",\n          \"entry\"\n        ],\n        \"semantic_type\": \"\",\n        \"description\": \"\"\n      }\n    },\n    {\n      \"column\": \"salary_label\",\n      \"properties\": {\n        \"dtype\": \"number\",\n        \"std\": 165377.3921991396,\n        \"min\": 1000.0,\n        \"max\": 2173600.0,\n        \"num_unique_values\": 2508,\n        \"samples\": [\n          77550.0,\n          61500.0,\n          83512.0\n        ],\n        \"semantic_type\": \"\",\n        \"description\": \"\"\n      }\n    }\n  ]\n}"
            }
          },
          "metadata": {},
          "execution_count": 6
        }
      ]
    },
    {
      "cell_type": "code",
      "source": [
        "text_lenghts = []\n",
        "for index, row in df.iterrows():\n",
        "  if type(row['text']) == str:\n",
        "    text_lenghts.append(len(row['text'].split()))"
      ],
      "metadata": {
        "id": "N4ErH8RVhRUq"
      },
      "execution_count": null,
      "outputs": []
    },
    {
      "cell_type": "code",
      "source": [
        "len(text_lenghts)"
      ],
      "metadata": {
        "colab": {
          "base_uri": "https://localhost:8080/"
        },
        "id": "59xycHhZhRRk",
        "outputId": "5ae6979b-7850-4291-dd87-338c0c48ca1f"
      },
      "execution_count": null,
      "outputs": [
        {
          "output_type": "execute_result",
          "data": {
            "text/plain": [
              "93746"
            ]
          },
          "metadata": {},
          "execution_count": 8
        }
      ]
    },
    {
      "cell_type": "code",
      "source": [
        "from matplotlib import pyplot as plt"
      ],
      "metadata": {
        "id": "v7x3vdbChRMl"
      },
      "execution_count": null,
      "outputs": []
    },
    {
      "cell_type": "code",
      "source": [
        "plt.hist(text_lenghts, bins=100)\n",
        "plt.title('Distribution of Text Lengths (Words)')\n",
        "plt.xlabel('Text Length')\n",
        "plt.ylabel('Frequency')\n",
        "plt.xlim(0, 1800)\n",
        "plt.show()"
      ],
      "metadata": {
        "colab": {
          "base_uri": "https://localhost:8080/",
          "height": 472
        },
        "id": "EbAQJommh0on",
        "outputId": "4092d7e6-6005-4a76-a58a-b88c019d1345"
      },
      "execution_count": null,
      "outputs": [
        {
          "output_type": "display_data",
          "data": {
            "text/plain": [
              "<Figure size 640x480 with 1 Axes>"
            ],
            "image/png": "[encoded data removed]"
          },
          "metadata": {}
        }
      ]
    },
    {
      "cell_type": "code",
      "source": [],
      "metadata": {
        "id": "G-njohS8hRFP"
      },
      "execution_count": null,
      "outputs": []
    }
  ]
}