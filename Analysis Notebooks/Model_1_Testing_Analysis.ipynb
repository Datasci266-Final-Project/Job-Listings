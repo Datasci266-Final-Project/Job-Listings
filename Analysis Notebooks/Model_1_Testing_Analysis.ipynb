{
  "nbformat": 4,
  "nbformat_minor": 0,
  "metadata": {
    "colab": {
      "provenance": [],
      "gpuType": "V100",
      "include_colab_link": true
    },
    "kernelspec": {
      "name": "python3",
      "display_name": "Python 3"
    },
    "language_info": {
      "name": "python"
    },
    "accelerator": "GPU",
    "widgets": {
      "application/vnd.jupyter.widget-state+json": {
        "89cd73712313460185d1386cd9bb7cf0": {
          "model_module": "@jupyter-widgets/controls",
          "model_name": "HBoxModel",
          "model_module_version": "1.5.0",
          "state": {
            "_dom_classes": [],
            "_model_module": "@jupyter-widgets/controls",
            "_model_module_version": "1.5.0",
            "_model_name": "HBoxModel",
            "_view_count": null,
            "_view_module": "@jupyter-widgets/controls",
            "_view_module_version": "1.5.0",
            "_view_name": "HBoxView",
            "box_style": "",
            "children": [
              "IPY_MODEL_cc44b30bd88646d6ad552e8860961e46",
              "IPY_MODEL_e74ce6424dcb44f39ccfdb4776568b69",
              "IPY_MODEL_ab290f4a2c2a49098e272fb22fd1465f"
            ],
            "layout": "IPY_MODEL_b054d0e6a3cf459a8e82a81688216aae"
          }
        },
        "cc44b30bd88646d6ad552e8860961e46": {
          "model_module": "@jupyter-widgets/controls",
          "model_name": "HTMLModel",
          "model_module_version": "1.5.0",
          "state": {
            "_dom_classes": [],
            "_model_module": "@jupyter-widgets/controls",
            "_model_module_version": "1.5.0",
            "_model_name": "HTMLModel",
            "_view_count": null,
            "_view_module": "@jupyter-widgets/controls",
            "_view_module_version": "1.5.0",
            "_view_name": "HTMLView",
            "description": "",
            "description_tooltip": null,
            "layout": "IPY_MODEL_4c8698206ad444848d08b53cc7c749ef",
            "placeholder": "​",
            "style": "IPY_MODEL_1f3380bf8999464097396e893e5d6c93",
            "value": "config.json: 100%"
          }
        },
        "e74ce6424dcb44f39ccfdb4776568b69": {
          "model_module": "@jupyter-widgets/controls",
          "model_name": "FloatProgressModel",
          "model_module_version": "1.5.0",
          "state": {
            "_dom_classes": [],
            "_model_module": "@jupyter-widgets/controls",
            "_model_module_version": "1.5.0",
            "_model_name": "FloatProgressModel",
            "_view_count": null,
            "_view_module": "@jupyter-widgets/controls",
            "_view_module_version": "1.5.0",
            "_view_name": "ProgressView",
            "bar_style": "success",
            "description": "",
            "description_tooltip": null,
            "layout": "IPY_MODEL_2bbb048704bf4048b89b39ee56e33278",
            "max": 570,
            "min": 0,
            "orientation": "horizontal",
            "style": "IPY_MODEL_63913074c9334272bb3332ebc8ef7ffd",
            "value": 570
          }
        },
        "ab290f4a2c2a49098e272fb22fd1465f": {
          "model_module": "@jupyter-widgets/controls",
          "model_name": "HTMLModel",
          "model_module_version": "1.5.0",
          "state": {
            "_dom_classes": [],
            "_model_module": "@jupyter-widgets/controls",
            "_model_module_version": "1.5.0",
            "_model_name": "HTMLModel",
            "_view_count": null,
            "_view_module": "@jupyter-widgets/controls",
            "_view_module_version": "1.5.0",
            "_view_name": "HTMLView",
            "description": "",
            "description_tooltip": null,
            "layout": "IPY_MODEL_4029980886594b19a8d57a7df3037fe6",
            "placeholder": "​",
            "style": "IPY_MODEL_f9d6858f558a4672aa9dd8274782e685",
            "value": " 570/570 [00:00&lt;00:00, 32.3kB/s]"
          }
        },
        "b054d0e6a3cf459a8e82a81688216aae": {
          "model_module": "@jupyter-widgets/base",
          "model_name": "LayoutModel",
          "model_module_version": "1.2.0",
          "state": {
            "_model_module": "@jupyter-widgets/base",
            "_model_module_version": "1.2.0",
            "_model_name": "LayoutModel",
            "_view_count": null,
            "_view_module": "@jupyter-widgets/base",
            "_view_module_version": "1.2.0",
            "_view_name": "LayoutView",
            "align_content": null,
            "align_items": null,
            "align_self": null,
            "border": null,
            "bottom": null,
            "display": null,
            "flex": null,
            "flex_flow": null,
            "grid_area": null,
            "grid_auto_columns": null,
            "grid_auto_flow": null,
            "grid_auto_rows": null,
            "grid_column": null,
            "grid_gap": null,
            "grid_row": null,
            "grid_template_areas": null,
            "grid_template_columns": null,
            "grid_template_rows": null,
            "height": null,
            "justify_content": null,
            "justify_items": null,
            "left": null,
            "margin": null,
            "max_height": null,
            "max_width": null,
            "min_height": null,
            "min_width": null,
            "object_fit": null,
            "object_position": null,
            "order": null,
            "overflow": null,
            "overflow_x": null,
            "overflow_y": null,
            "padding": null,
            "right": null,
            "top": null,
            "visibility": null,
            "width": null
          }
        },
        "4c8698206ad444848d08b53cc7c749ef": {
          "model_module": "@jupyter-widgets/base",
          "model_name": "LayoutModel",
          "model_module_version": "1.2.0",
          "state": {
            "_model_module": "@jupyter-widgets/base",
            "_model_module_version": "1.2.0",
            "_model_name": "LayoutModel",
            "_view_count": null,
            "_view_module": "@jupyter-widgets/base",
            "_view_module_version": "1.2.0",
            "_view_name": "LayoutView",
            "align_content": null,
            "align_items": null,
            "align_self": null,
            "border": null,
            "bottom": null,
            "display": null,
            "flex": null,
            "flex_flow": null,
            "grid_area": null,
            "grid_auto_columns": null,
            "grid_auto_flow": null,
            "grid_auto_rows": null,
            "grid_column": null,
            "grid_gap": null,
            "grid_row": null,
            "grid_template_areas": null,
            "grid_template_columns": null,
            "grid_template_rows": null,
            "height": null,
            "justify_content": null,
            "justify_items": null,
            "left": null,
            "margin": null,
            "max_height": null,
            "max_width": null,
            "min_height": null,
            "min_width": null,
            "object_fit": null,
            "object_position": null,
            "order": null,
            "overflow": null,
            "overflow_x": null,
            "overflow_y": null,
            "padding": null,
            "right": null,
            "top": null,
            "visibility": null,
            "width": null
          }
        },
        "1f3380bf8999464097396e893e5d6c93": {
          "model_module": "@jupyter-widgets/controls",
          "model_name": "DescriptionStyleModel",
          "model_module_version": "1.5.0",
          "state": {
            "_model_module": "@jupyter-widgets/controls",
            "_model_module_version": "1.5.0",
            "_model_name": "DescriptionStyleModel",
            "_view_count": null,
            "_view_module": "@jupyter-widgets/base",
            "_view_module_version": "1.2.0",
            "_view_name": "StyleView",
            "description_width": ""
          }
        },
        "2bbb048704bf4048b89b39ee56e33278": {
          "model_module": "@jupyter-widgets/base",
          "model_name": "LayoutModel",
          "model_module_version": "1.2.0",
          "state": {
            "_model_module": "@jupyter-widgets/base",
            "_model_module_version": "1.2.0",
            "_model_name": "LayoutModel",
            "_view_count": null,
            "_view_module": "@jupyter-widgets/base",
            "_view_module_version": "1.2.0",
            "_view_name": "LayoutView",
            "align_content": null,
            "align_items": null,
            "align_self": null,
            "border": null,
            "bottom": null,
            "display": null,
            "flex": null,
            "flex_flow": null,
            "grid_area": null,
            "grid_auto_columns": null,
            "grid_auto_flow": null,
            "grid_auto_rows": null,
            "grid_column": null,
            "grid_gap": null,
            "grid_row": null,
            "grid_template_areas": null,
            "grid_template_columns": null,
            "grid_template_rows": null,
            "height": null,
            "justify_content": null,
            "justify_items": null,
            "left": null,
            "margin": null,
            "max_height": null,
            "max_width": null,
            "min_height": null,
            "min_width": null,
            "object_fit": null,
            "object_position": null,
            "order": null,
            "overflow": null,
            "overflow_x": null,
            "overflow_y": null,
            "padding": null,
            "right": null,
            "top": null,
            "visibility": null,
            "width": null
          }
        },
        "63913074c9334272bb3332ebc8ef7ffd": {
          "model_module": "@jupyter-widgets/controls",
          "model_name": "ProgressStyleModel",
          "model_module_version": "1.5.0",
          "state": {
            "_model_module": "@jupyter-widgets/controls",
            "_model_module_version": "1.5.0",
            "_model_name": "ProgressStyleModel",
            "_view_count": null,
            "_view_module": "@jupyter-widgets/base",
            "_view_module_version": "1.2.0",
            "_view_name": "StyleView",
            "bar_color": null,
            "description_width": ""
          }
        },
        "4029980886594b19a8d57a7df3037fe6": {
          "model_module": "@jupyter-widgets/base",
          "model_name": "LayoutModel",
          "model_module_version": "1.2.0",
          "state": {
            "_model_module": "@jupyter-widgets/base",
            "_model_module_version": "1.2.0",
            "_model_name": "LayoutModel",
            "_view_count": null,
            "_view_module": "@jupyter-widgets/base",
            "_view_module_version": "1.2.0",
            "_view_name": "LayoutView",
            "align_content": null,
            "align_items": null,
            "align_self": null,
            "border": null,
            "bottom": null,
            "display": null,
            "flex": null,
            "flex_flow": null,
            "grid_area": null,
            "grid_auto_columns": null,
            "grid_auto_flow": null,
            "grid_auto_rows": null,
            "grid_column": null,
            "grid_gap": null,
            "grid_row": null,
            "grid_template_areas": null,
            "grid_template_columns": null,
            "grid_template_rows": null,
            "height": null,
            "justify_content": null,
            "justify_items": null,
            "left": null,
            "margin": null,
            "max_height": null,
            "max_width": null,
            "min_height": null,
            "min_width": null,
            "object_fit": null,
            "object_position": null,
            "order": null,
            "overflow": null,
            "overflow_x": null,
            "overflow_y": null,
            "padding": null,
            "right": null,
            "top": null,
            "visibility": null,
            "width": null
          }
        },
        "f9d6858f558a4672aa9dd8274782e685": {
          "model_module": "@jupyter-widgets/controls",
          "model_name": "DescriptionStyleModel",
          "model_module_version": "1.5.0",
          "state": {
            "_model_module": "@jupyter-widgets/controls",
            "_model_module_version": "1.5.0",
            "_model_name": "DescriptionStyleModel",
            "_view_count": null,
            "_view_module": "@jupyter-widgets/base",
            "_view_module_version": "1.2.0",
            "_view_name": "StyleView",
            "description_width": ""
          }
        },
        "c3e97f8770444456862521e126a38ac7": {
          "model_module": "@jupyter-widgets/controls",
          "model_name": "HBoxModel",
          "model_module_version": "1.5.0",
          "state": {
            "_dom_classes": [],
            "_model_module": "@jupyter-widgets/controls",
            "_model_module_version": "1.5.0",
            "_model_name": "HBoxModel",
            "_view_count": null,
            "_view_module": "@jupyter-widgets/controls",
            "_view_module_version": "1.5.0",
            "_view_name": "HBoxView",
            "box_style": "",
            "children": [
              "IPY_MODEL_636550890a2b400b8d7aa2b7f99c6c83",
              "IPY_MODEL_dce55911eb294e509806b9808a94ad7f",
              "IPY_MODEL_06a86d8313d24db6aba7593a39f7f4ad"
            ],
            "layout": "IPY_MODEL_bbc3f225117e40db9340fb189a8feee4"
          }
        },
        "636550890a2b400b8d7aa2b7f99c6c83": {
          "model_module": "@jupyter-widgets/controls",
          "model_name": "HTMLModel",
          "model_module_version": "1.5.0",
          "state": {
            "_dom_classes": [],
            "_model_module": "@jupyter-widgets/controls",
            "_model_module_version": "1.5.0",
            "_model_name": "HTMLModel",
            "_view_count": null,
            "_view_module": "@jupyter-widgets/controls",
            "_view_module_version": "1.5.0",
            "_view_name": "HTMLView",
            "description": "",
            "description_tooltip": null,
            "layout": "IPY_MODEL_1577464d9e8c4e11bc4c64c6085dc094",
            "placeholder": "​",
            "style": "IPY_MODEL_ed7a7364b13649e5882109287667fc36",
            "value": "model.safetensors: 100%"
          }
        },
        "dce55911eb294e509806b9808a94ad7f": {
          "model_module": "@jupyter-widgets/controls",
          "model_name": "FloatProgressModel",
          "model_module_version": "1.5.0",
          "state": {
            "_dom_classes": [],
            "_model_module": "@jupyter-widgets/controls",
            "_model_module_version": "1.5.0",
            "_model_name": "FloatProgressModel",
            "_view_count": null,
            "_view_module": "@jupyter-widgets/controls",
            "_view_module_version": "1.5.0",
            "_view_name": "ProgressView",
            "bar_style": "success",
            "description": "",
            "description_tooltip": null,
            "layout": "IPY_MODEL_edbdad38660f4523a540d7f3c29b5ed8",
            "max": 435755784,
            "min": 0,
            "orientation": "horizontal",
            "style": "IPY_MODEL_893c90f694984dc0ab0a5e2b87b518fd",
            "value": 435755784
          }
        },
        "06a86d8313d24db6aba7593a39f7f4ad": {
          "model_module": "@jupyter-widgets/controls",
          "model_name": "HTMLModel",
          "model_module_version": "1.5.0",
          "state": {
            "_dom_classes": [],
            "_model_module": "@jupyter-widgets/controls",
            "_model_module_version": "1.5.0",
            "_model_name": "HTMLModel",
            "_view_count": null,
            "_view_module": "@jupyter-widgets/controls",
            "_view_module_version": "1.5.0",
            "_view_name": "HTMLView",
            "description": "",
            "description_tooltip": null,
            "layout": "IPY_MODEL_caabc40a95944007b01ce07bd5acede6",
            "placeholder": "​",
            "style": "IPY_MODEL_9a7b5544817f412f86969d01d2ba7576",
            "value": " 436M/436M [00:01&lt;00:00, 262MB/s]"
          }
        },
        "bbc3f225117e40db9340fb189a8feee4": {
          "model_module": "@jupyter-widgets/base",
          "model_name": "LayoutModel",
          "model_module_version": "1.2.0",
          "state": {
            "_model_module": "@jupyter-widgets/base",
            "_model_module_version": "1.2.0",
            "_model_name": "LayoutModel",
            "_view_count": null,
            "_view_module": "@jupyter-widgets/base",
            "_view_module_version": "1.2.0",
            "_view_name": "LayoutView",
            "align_content": null,
            "align_items": null,
            "align_self": null,
            "border": null,
            "bottom": null,
            "display": null,
            "flex": null,
            "flex_flow": null,
            "grid_area": null,
            "grid_auto_columns": null,
            "grid_auto_flow": null,
            "grid_auto_rows": null,
            "grid_column": null,
            "grid_gap": null,
            "grid_row": null,
            "grid_template_areas": null,
            "grid_template_columns": null,
            "grid_template_rows": null,
            "height": null,
            "justify_content": null,
            "justify_items": null,
            "left": null,
            "margin": null,
            "max_height": null,
            "max_width": null,
            "min_height": null,
            "min_width": null,
            "object_fit": null,
            "object_position": null,
            "order": null,
            "overflow": null,
            "overflow_x": null,
            "overflow_y": null,
            "padding": null,
            "right": null,
            "top": null,
            "visibility": null,
            "width": null
          }
        },
        "1577464d9e8c4e11bc4c64c6085dc094": {
          "model_module": "@jupyter-widgets/base",
          "model_name": "LayoutModel",
          "model_module_version": "1.2.0",
          "state": {
            "_model_module": "@jupyter-widgets/base",
            "_model_module_version": "1.2.0",
            "_model_name": "LayoutModel",
            "_view_count": null,
            "_view_module": "@jupyter-widgets/base",
            "_view_module_version": "1.2.0",
            "_view_name": "LayoutView",
            "align_content": null,
            "align_items": null,
            "align_self": null,
            "border": null,
            "bottom": null,
            "display": null,
            "flex": null,
            "flex_flow": null,
            "grid_area": null,
            "grid_auto_columns": null,
            "grid_auto_flow": null,
            "grid_auto_rows": null,
            "grid_column": null,
            "grid_gap": null,
            "grid_row": null,
            "grid_template_areas": null,
            "grid_template_columns": null,
            "grid_template_rows": null,
            "height": null,
            "justify_content": null,
            "justify_items": null,
            "left": null,
            "margin": null,
            "max_height": null,
            "max_width": null,
            "min_height": null,
            "min_width": null,
            "object_fit": null,
            "object_position": null,
            "order": null,
            "overflow": null,
            "overflow_x": null,
            "overflow_y": null,
            "padding": null,
            "right": null,
            "top": null,
            "visibility": null,
            "width": null
          }
        },
        "ed7a7364b13649e5882109287667fc36": {
          "model_module": "@jupyter-widgets/controls",
          "model_name": "DescriptionStyleModel",
          "model_module_version": "1.5.0",
          "state": {
            "_model_module": "@jupyter-widgets/controls",
            "_model_module_version": "1.5.0",
            "_model_name": "DescriptionStyleModel",
            "_view_count": null,
            "_view_module": "@jupyter-widgets/base",
            "_view_module_version": "1.2.0",
            "_view_name": "StyleView",
            "description_width": ""
          }
        },
        "edbdad38660f4523a540d7f3c29b5ed8": {
          "model_module": "@jupyter-widgets/base",
          "model_name": "LayoutModel",
          "model_module_version": "1.2.0",
          "state": {
            "_model_module": "@jupyter-widgets/base",
            "_model_module_version": "1.2.0",
            "_model_name": "LayoutModel",
            "_view_count": null,
            "_view_module": "@jupyter-widgets/base",
            "_view_module_version": "1.2.0",
            "_view_name": "LayoutView",
            "align_content": null,
            "align_items": null,
            "align_self": null,
            "border": null,
            "bottom": null,
            "display": null,
            "flex": null,
            "flex_flow": null,
            "grid_area": null,
            "grid_auto_columns": null,
            "grid_auto_flow": null,
            "grid_auto_rows": null,
            "grid_column": null,
            "grid_gap": null,
            "grid_row": null,
            "grid_template_areas": null,
            "grid_template_columns": null,
            "grid_template_rows": null,
            "height": null,
            "justify_content": null,
            "justify_items": null,
            "left": null,
            "margin": null,
            "max_height": null,
            "max_width": null,
            "min_height": null,
            "min_width": null,
            "object_fit": null,
            "object_position": null,
            "order": null,
            "overflow": null,
            "overflow_x": null,
            "overflow_y": null,
            "padding": null,
            "right": null,
            "top": null,
            "visibility": null,
            "width": null
          }
        },
        "893c90f694984dc0ab0a5e2b87b518fd": {
          "model_module": "@jupyter-widgets/controls",
          "model_name": "ProgressStyleModel",
          "model_module_version": "1.5.0",
          "state": {
            "_model_module": "@jupyter-widgets/controls",
            "_model_module_version": "1.5.0",
            "_model_name": "ProgressStyleModel",
            "_view_count": null,
            "_view_module": "@jupyter-widgets/base",
            "_view_module_version": "1.2.0",
            "_view_name": "StyleView",
            "bar_color": null,
            "description_width": ""
          }
        },
        "caabc40a95944007b01ce07bd5acede6": {
          "model_module": "@jupyter-widgets/base",
          "model_name": "LayoutModel",
          "model_module_version": "1.2.0",
          "state": {
            "_model_module": "@jupyter-widgets/base",
            "_model_module_version": "1.2.0",
            "_model_name": "LayoutModel",
            "_view_count": null,
            "_view_module": "@jupyter-widgets/base",
            "_view_module_version": "1.2.0",
            "_view_name": "LayoutView",
            "align_content": null,
            "align_items": null,
            "align_self": null,
            "border": null,
            "bottom": null,
            "display": null,
            "flex": null,
            "flex_flow": null,
            "grid_area": null,
            "grid_auto_columns": null,
            "grid_auto_flow": null,
            "grid_auto_rows": null,
            "grid_column": null,
            "grid_gap": null,
            "grid_row": null,
            "grid_template_areas": null,
            "grid_template_columns": null,
            "grid_template_rows": null,
            "height": null,
            "justify_content": null,
            "justify_items": null,
            "left": null,
            "margin": null,
            "max_height": null,
            "max_width": null,
            "min_height": null,
            "min_width": null,
            "object_fit": null,
            "object_position": null,
            "order": null,
            "overflow": null,
            "overflow_x": null,
            "overflow_y": null,
            "padding": null,
            "right": null,
            "top": null,
            "visibility": null,
            "width": null
          }
        },
        "9a7b5544817f412f86969d01d2ba7576": {
          "model_module": "@jupyter-widgets/controls",
          "model_name": "DescriptionStyleModel",
          "model_module_version": "1.5.0",
          "state": {
            "_model_module": "@jupyter-widgets/controls",
            "_model_module_version": "1.5.0",
            "_model_name": "DescriptionStyleModel",
            "_view_count": null,
            "_view_module": "@jupyter-widgets/base",
            "_view_module_version": "1.2.0",
            "_view_name": "StyleView",
            "description_width": ""
          }
        },
        "9071aff8170d4b90af6ae6fb10864d0e": {
          "model_module": "@jupyter-widgets/controls",
          "model_name": "HBoxModel",
          "model_module_version": "1.5.0",
          "state": {
            "_dom_classes": [],
            "_model_module": "@jupyter-widgets/controls",
            "_model_module_version": "1.5.0",
            "_model_name": "HBoxModel",
            "_view_count": null,
            "_view_module": "@jupyter-widgets/controls",
            "_view_module_version": "1.5.0",
            "_view_name": "HBoxView",
            "box_style": "",
            "children": [
              "IPY_MODEL_2e23b9112ca44e8e81f699fed83c1c7e",
              "IPY_MODEL_15b47d1acd0f46e7922a0ad84a1ff65f",
              "IPY_MODEL_5e3a103ba63348d7a7ba6c3727d92608"
            ],
            "layout": "IPY_MODEL_3e412feb816f402b807d04a44db37d1c"
          }
        },
        "2e23b9112ca44e8e81f699fed83c1c7e": {
          "model_module": "@jupyter-widgets/controls",
          "model_name": "HTMLModel",
          "model_module_version": "1.5.0",
          "state": {
            "_dom_classes": [],
            "_model_module": "@jupyter-widgets/controls",
            "_model_module_version": "1.5.0",
            "_model_name": "HTMLModel",
            "_view_count": null,
            "_view_module": "@jupyter-widgets/controls",
            "_view_module_version": "1.5.0",
            "_view_name": "HTMLView",
            "description": "",
            "description_tooltip": null,
            "layout": "IPY_MODEL_b943bb936663435a8656454f68d5dbcc",
            "placeholder": "​",
            "style": "IPY_MODEL_88c2abf29e674084b39b3c5a18ca1a22",
            "value": "config.json: 100%"
          }
        },
        "15b47d1acd0f46e7922a0ad84a1ff65f": {
          "model_module": "@jupyter-widgets/controls",
          "model_name": "FloatProgressModel",
          "model_module_version": "1.5.0",
          "state": {
            "_dom_classes": [],
            "_model_module": "@jupyter-widgets/controls",
            "_model_module_version": "1.5.0",
            "_model_name": "FloatProgressModel",
            "_view_count": null,
            "_view_module": "@jupyter-widgets/controls",
            "_view_module_version": "1.5.0",
            "_view_name": "ProgressView",
            "bar_style": "success",
            "description": "",
            "description_tooltip": null,
            "layout": "IPY_MODEL_676d064638f541ffa1938410c863d8d1",
            "max": 625,
            "min": 0,
            "orientation": "horizontal",
            "style": "IPY_MODEL_33eb9761bdf94609912dc5f50e67ec00",
            "value": 625
          }
        },
        "5e3a103ba63348d7a7ba6c3727d92608": {
          "model_module": "@jupyter-widgets/controls",
          "model_name": "HTMLModel",
          "model_module_version": "1.5.0",
          "state": {
            "_dom_classes": [],
            "_model_module": "@jupyter-widgets/controls",
            "_model_module_version": "1.5.0",
            "_model_name": "HTMLModel",
            "_view_count": null,
            "_view_module": "@jupyter-widgets/controls",
            "_view_module_version": "1.5.0",
            "_view_name": "HTMLView",
            "description": "",
            "description_tooltip": null,
            "layout": "IPY_MODEL_5d969340b0c744978c5c17520fbf7ed3",
            "placeholder": "​",
            "style": "IPY_MODEL_cefe426584514ec98f9c06f3cb24a86d",
            "value": " 625/625 [00:00&lt;00:00, 25.3kB/s]"
          }
        },
        "3e412feb816f402b807d04a44db37d1c": {
          "model_module": "@jupyter-widgets/base",
          "model_name": "LayoutModel",
          "model_module_version": "1.2.0",
          "state": {
            "_model_module": "@jupyter-widgets/base",
            "_model_module_version": "1.2.0",
            "_model_name": "LayoutModel",
            "_view_count": null,
            "_view_module": "@jupyter-widgets/base",
            "_view_module_version": "1.2.0",
            "_view_name": "LayoutView",
            "align_content": null,
            "align_items": null,
            "align_self": null,
            "border": null,
            "bottom": null,
            "display": null,
            "flex": null,
            "flex_flow": null,
            "grid_area": null,
            "grid_auto_columns": null,
            "grid_auto_flow": null,
            "grid_auto_rows": null,
            "grid_column": null,
            "grid_gap": null,
            "grid_row": null,
            "grid_template_areas": null,
            "grid_template_columns": null,
            "grid_template_rows": null,
            "height": null,
            "justify_content": null,
            "justify_items": null,
            "left": null,
            "margin": null,
            "max_height": null,
            "max_width": null,
            "min_height": null,
            "min_width": null,
            "object_fit": null,
            "object_position": null,
            "order": null,
            "overflow": null,
            "overflow_x": null,
            "overflow_y": null,
            "padding": null,
            "right": null,
            "top": null,
            "visibility": null,
            "width": null
          }
        },
        "b943bb936663435a8656454f68d5dbcc": {
          "model_module": "@jupyter-widgets/base",
          "model_name": "LayoutModel",
          "model_module_version": "1.2.0",
          "state": {
            "_model_module": "@jupyter-widgets/base",
            "_model_module_version": "1.2.0",
            "_model_name": "LayoutModel",
            "_view_count": null,
            "_view_module": "@jupyter-widgets/base",
            "_view_module_version": "1.2.0",
            "_view_name": "LayoutView",
            "align_content": null,
            "align_items": null,
            "align_self": null,
            "border": null,
            "bottom": null,
            "display": null,
            "flex": null,
            "flex_flow": null,
            "grid_area": null,
            "grid_auto_columns": null,
            "grid_auto_flow": null,
            "grid_auto_rows": null,
            "grid_column": null,
            "grid_gap": null,
            "grid_row": null,
            "grid_template_areas": null,
            "grid_template_columns": null,
            "grid_template_rows": null,
            "height": null,
            "justify_content": null,
            "justify_items": null,
            "left": null,
            "margin": null,
            "max_height": null,
            "max_width": null,
            "min_height": null,
            "min_width": null,
            "object_fit": null,
            "object_position": null,
            "order": null,
            "overflow": null,
            "overflow_x": null,
            "overflow_y": null,
            "padding": null,
            "right": null,
            "top": null,
            "visibility": null,
            "width": null
          }
        },
        "88c2abf29e674084b39b3c5a18ca1a22": {
          "model_module": "@jupyter-widgets/controls",
          "model_name": "DescriptionStyleModel",
          "model_module_version": "1.5.0",
          "state": {
            "_model_module": "@jupyter-widgets/controls",
            "_model_module_version": "1.5.0",
            "_model_name": "DescriptionStyleModel",
            "_view_count": null,
            "_view_module": "@jupyter-widgets/base",
            "_view_module_version": "1.2.0",
            "_view_name": "StyleView",
            "description_width": ""
          }
        },
        "676d064638f541ffa1938410c863d8d1": {
          "model_module": "@jupyter-widgets/base",
          "model_name": "LayoutModel",
          "model_module_version": "1.2.0",
          "state": {
            "_model_module": "@jupyter-widgets/base",
            "_model_module_version": "1.2.0",
            "_model_name": "LayoutModel",
            "_view_count": null,
            "_view_module": "@jupyter-widgets/base",
            "_view_module_version": "1.2.0",
            "_view_name": "LayoutView",
            "align_content": null,
            "align_items": null,
            "align_self": null,
            "border": null,
            "bottom": null,
            "display": null,
            "flex": null,
            "flex_flow": null,
            "grid_area": null,
            "grid_auto_columns": null,
            "grid_auto_flow": null,
            "grid_auto_rows": null,
            "grid_column": null,
            "grid_gap": null,
            "grid_row": null,
            "grid_template_areas": null,
            "grid_template_columns": null,
            "grid_template_rows": null,
            "height": null,
            "justify_content": null,
            "justify_items": null,
            "left": null,
            "margin": null,
            "max_height": null,
            "max_width": null,
            "min_height": null,
            "min_width": null,
            "object_fit": null,
            "object_position": null,
            "order": null,
            "overflow": null,
            "overflow_x": null,
            "overflow_y": null,
            "padding": null,
            "right": null,
            "top": null,
            "visibility": null,
            "width": null
          }
        },
        "33eb9761bdf94609912dc5f50e67ec00": {
          "model_module": "@jupyter-widgets/controls",
          "model_name": "ProgressStyleModel",
          "model_module_version": "1.5.0",
          "state": {
            "_model_module": "@jupyter-widgets/controls",
            "_model_module_version": "1.5.0",
            "_model_name": "ProgressStyleModel",
            "_view_count": null,
            "_view_module": "@jupyter-widgets/base",
            "_view_module_version": "1.2.0",
            "_view_name": "StyleView",
            "bar_color": null,
            "description_width": ""
          }
        },
        "5d969340b0c744978c5c17520fbf7ed3": {
          "model_module": "@jupyter-widgets/base",
          "model_name": "LayoutModel",
          "model_module_version": "1.2.0",
          "state": {
            "_model_module": "@jupyter-widgets/base",
            "_model_module_version": "1.2.0",
            "_model_name": "LayoutModel",
            "_view_count": null,
            "_view_module": "@jupyter-widgets/base",
            "_view_module_version": "1.2.0",
            "_view_name": "LayoutView",
            "align_content": null,
            "align_items": null,
            "align_self": null,
            "border": null,
            "bottom": null,
            "display": null,
            "flex": null,
            "flex_flow": null,
            "grid_area": null,
            "grid_auto_columns": null,
            "grid_auto_flow": null,
            "grid_auto_rows": null,
            "grid_column": null,
            "grid_gap": null,
            "grid_row": null,
            "grid_template_areas": null,
            "grid_template_columns": null,
            "grid_template_rows": null,
            "height": null,
            "justify_content": null,
            "justify_items": null,
            "left": null,
            "margin": null,
            "max_height": null,
            "max_width": null,
            "min_height": null,
            "min_width": null,
            "object_fit": null,
            "object_position": null,
            "order": null,
            "overflow": null,
            "overflow_x": null,
            "overflow_y": null,
            "padding": null,
            "right": null,
            "top": null,
            "visibility": null,
            "width": null
          }
        },
        "cefe426584514ec98f9c06f3cb24a86d": {
          "model_module": "@jupyter-widgets/controls",
          "model_name": "DescriptionStyleModel",
          "model_module_version": "1.5.0",
          "state": {
            "_model_module": "@jupyter-widgets/controls",
            "_model_module_version": "1.5.0",
            "_model_name": "DescriptionStyleModel",
            "_view_count": null,
            "_view_module": "@jupyter-widgets/base",
            "_view_module_version": "1.2.0",
            "_view_name": "StyleView",
            "description_width": ""
          }
        },
        "70ac1c0fd4844862b38e73d672fd2a72": {
          "model_module": "@jupyter-widgets/controls",
          "model_name": "HBoxModel",
          "model_module_version": "1.5.0",
          "state": {
            "_dom_classes": [],
            "_model_module": "@jupyter-widgets/controls",
            "_model_module_version": "1.5.0",
            "_model_name": "HBoxModel",
            "_view_count": null,
            "_view_module": "@jupyter-widgets/controls",
            "_view_module_version": "1.5.0",
            "_view_name": "HBoxView",
            "box_style": "",
            "children": [
              "IPY_MODEL_8832b22e15c64c35985c5fd50ec4994e",
              "IPY_MODEL_a2264a6130a94f9ea120d747b5901c5d",
              "IPY_MODEL_834d162e27154b05ae033c6aa240fe86"
            ],
            "layout": "IPY_MODEL_25b531dad5d945539dbdb172effaadd3"
          }
        },
        "8832b22e15c64c35985c5fd50ec4994e": {
          "model_module": "@jupyter-widgets/controls",
          "model_name": "HTMLModel",
          "model_module_version": "1.5.0",
          "state": {
            "_dom_classes": [],
            "_model_module": "@jupyter-widgets/controls",
            "_model_module_version": "1.5.0",
            "_model_name": "HTMLModel",
            "_view_count": null,
            "_view_module": "@jupyter-widgets/controls",
            "_view_module_version": "1.5.0",
            "_view_name": "HTMLView",
            "description": "",
            "description_tooltip": null,
            "layout": "IPY_MODEL_a4196bd59d014bd5bc973a66b30a7b27",
            "placeholder": "​",
            "style": "IPY_MODEL_85f48289aab84b2497f41712aa211e05",
            "value": "model.safetensors: 100%"
          }
        },
        "a2264a6130a94f9ea120d747b5901c5d": {
          "model_module": "@jupyter-widgets/controls",
          "model_name": "FloatProgressModel",
          "model_module_version": "1.5.0",
          "state": {
            "_dom_classes": [],
            "_model_module": "@jupyter-widgets/controls",
            "_model_module_version": "1.5.0",
            "_model_name": "FloatProgressModel",
            "_view_count": null,
            "_view_module": "@jupyter-widgets/controls",
            "_view_module_version": "1.5.0",
            "_view_name": "ProgressView",
            "bar_style": "success",
            "description": "",
            "description_tooltip": null,
            "layout": "IPY_MODEL_5a318dbcffde468cab895002567e2452",
            "max": 714290682,
            "min": 0,
            "orientation": "horizontal",
            "style": "IPY_MODEL_7ae2af46099c4406a96b4b9734ccc989",
            "value": 714290682
          }
        },
        "834d162e27154b05ae033c6aa240fe86": {
          "model_module": "@jupyter-widgets/controls",
          "model_name": "HTMLModel",
          "model_module_version": "1.5.0",
          "state": {
            "_dom_classes": [],
            "_model_module": "@jupyter-widgets/controls",
            "_model_module_version": "1.5.0",
            "_model_name": "HTMLModel",
            "_view_count": null,
            "_view_module": "@jupyter-widgets/controls",
            "_view_module_version": "1.5.0",
            "_view_name": "HTMLView",
            "description": "",
            "description_tooltip": null,
            "layout": "IPY_MODEL_00623b90f3324a43971e065e8518fc8e",
            "placeholder": "​",
            "style": "IPY_MODEL_601c633270e049e5a9ed62d8c7eb0b60",
            "value": " 714M/714M [00:05&lt;00:00, 126MB/s]"
          }
        },
        "25b531dad5d945539dbdb172effaadd3": {
          "model_module": "@jupyter-widgets/base",
          "model_name": "LayoutModel",
          "model_module_version": "1.2.0",
          "state": {
            "_model_module": "@jupyter-widgets/base",
            "_model_module_version": "1.2.0",
            "_model_name": "LayoutModel",
            "_view_count": null,
            "_view_module": "@jupyter-widgets/base",
            "_view_module_version": "1.2.0",
            "_view_name": "LayoutView",
            "align_content": null,
            "align_items": null,
            "align_self": null,
            "border": null,
            "bottom": null,
            "display": null,
            "flex": null,
            "flex_flow": null,
            "grid_area": null,
            "grid_auto_columns": null,
            "grid_auto_flow": null,
            "grid_auto_rows": null,
            "grid_column": null,
            "grid_gap": null,
            "grid_row": null,
            "grid_template_areas": null,
            "grid_template_columns": null,
            "grid_template_rows": null,
            "height": null,
            "justify_content": null,
            "justify_items": null,
            "left": null,
            "margin": null,
            "max_height": null,
            "max_width": null,
            "min_height": null,
            "min_width": null,
            "object_fit": null,
            "object_position": null,
            "order": null,
            "overflow": null,
            "overflow_x": null,
            "overflow_y": null,
            "padding": null,
            "right": null,
            "top": null,
            "visibility": null,
            "width": null
          }
        },
        "a4196bd59d014bd5bc973a66b30a7b27": {
          "model_module": "@jupyter-widgets/base",
          "model_name": "LayoutModel",
          "model_module_version": "1.2.0",
          "state": {
            "_model_module": "@jupyter-widgets/base",
            "_model_module_version": "1.2.0",
            "_model_name": "LayoutModel",
            "_view_count": null,
            "_view_module": "@jupyter-widgets/base",
            "_view_module_version": "1.2.0",
            "_view_name": "LayoutView",
            "align_content": null,
            "align_items": null,
            "align_self": null,
            "border": null,
            "bottom": null,
            "display": null,
            "flex": null,
            "flex_flow": null,
            "grid_area": null,
            "grid_auto_columns": null,
            "grid_auto_flow": null,
            "grid_auto_rows": null,
            "grid_column": null,
            "grid_gap": null,
            "grid_row": null,
            "grid_template_areas": null,
            "grid_template_columns": null,
            "grid_template_rows": null,
            "height": null,
            "justify_content": null,
            "justify_items": null,
            "left": null,
            "margin": null,
            "max_height": null,
            "max_width": null,
            "min_height": null,
            "min_width": null,
            "object_fit": null,
            "object_position": null,
            "order": null,
            "overflow": null,
            "overflow_x": null,
            "overflow_y": null,
            "padding": null,
            "right": null,
            "top": null,
            "visibility": null,
            "width": null
          }
        },
        "85f48289aab84b2497f41712aa211e05": {
          "model_module": "@jupyter-widgets/controls",
          "model_name": "DescriptionStyleModel",
          "model_module_version": "1.5.0",
          "state": {
            "_model_module": "@jupyter-widgets/controls",
            "_model_module_version": "1.5.0",
            "_model_name": "DescriptionStyleModel",
            "_view_count": null,
            "_view_module": "@jupyter-widgets/base",
            "_view_module_version": "1.2.0",
            "_view_name": "StyleView",
            "description_width": ""
          }
        },
        "5a318dbcffde468cab895002567e2452": {
          "model_module": "@jupyter-widgets/base",
          "model_name": "LayoutModel",
          "model_module_version": "1.2.0",
          "state": {
            "_model_module": "@jupyter-widgets/base",
            "_model_module_version": "1.2.0",
            "_model_name": "LayoutModel",
            "_view_count": null,
            "_view_module": "@jupyter-widgets/base",
            "_view_module_version": "1.2.0",
            "_view_name": "LayoutView",
            "align_content": null,
            "align_items": null,
            "align_self": null,
            "border": null,
            "bottom": null,
            "display": null,
            "flex": null,
            "flex_flow": null,
            "grid_area": null,
            "grid_auto_columns": null,
            "grid_auto_flow": null,
            "grid_auto_rows": null,
            "grid_column": null,
            "grid_gap": null,
            "grid_row": null,
            "grid_template_areas": null,
            "grid_template_columns": null,
            "grid_template_rows": null,
            "height": null,
            "justify_content": null,
            "justify_items": null,
            "left": null,
            "margin": null,
            "max_height": null,
            "max_width": null,
            "min_height": null,
            "min_width": null,
            "object_fit": null,
            "object_position": null,
            "order": null,
            "overflow": null,
            "overflow_x": null,
            "overflow_y": null,
            "padding": null,
            "right": null,
            "top": null,
            "visibility": null,
            "width": null
          }
        },
        "7ae2af46099c4406a96b4b9734ccc989": {
          "model_module": "@jupyter-widgets/controls",
          "model_name": "ProgressStyleModel",
          "model_module_version": "1.5.0",
          "state": {
            "_model_module": "@jupyter-widgets/controls",
            "_model_module_version": "1.5.0",
            "_model_name": "ProgressStyleModel",
            "_view_count": null,
            "_view_module": "@jupyter-widgets/base",
            "_view_module_version": "1.2.0",
            "_view_name": "StyleView",
            "bar_color": null,
            "description_width": ""
          }
        },
        "00623b90f3324a43971e065e8518fc8e": {
          "model_module": "@jupyter-widgets/base",
          "model_name": "LayoutModel",
          "model_module_version": "1.2.0",
          "state": {
            "_model_module": "@jupyter-widgets/base",
            "_model_module_version": "1.2.0",
            "_model_name": "LayoutModel",
            "_view_count": null,
            "_view_module": "@jupyter-widgets/base",
            "_view_module_version": "1.2.0",
            "_view_name": "LayoutView",
            "align_content": null,
            "align_items": null,
            "align_self": null,
            "border": null,
            "bottom": null,
            "display": null,
            "flex": null,
            "flex_flow": null,
            "grid_area": null,
            "grid_auto_columns": null,
            "grid_auto_flow": null,
            "grid_auto_rows": null,
            "grid_column": null,
            "grid_gap": null,
            "grid_row": null,
            "grid_template_areas": null,
            "grid_template_columns": null,
            "grid_template_rows": null,
            "height": null,
            "justify_content": null,
            "justify_items": null,
            "left": null,
            "margin": null,
            "max_height": null,
            "max_width": null,
            "min_height": null,
            "min_width": null,
            "object_fit": null,
            "object_position": null,
            "order": null,
            "overflow": null,
            "overflow_x": null,
            "overflow_y": null,
            "padding": null,
            "right": null,
            "top": null,
            "visibility": null,
            "width": null
          }
        },
        "601c633270e049e5a9ed62d8c7eb0b60": {
          "model_module": "@jupyter-widgets/controls",
          "model_name": "DescriptionStyleModel",
          "model_module_version": "1.5.0",
          "state": {
            "_model_module": "@jupyter-widgets/controls",
            "_model_module_version": "1.5.0",
            "_model_name": "DescriptionStyleModel",
            "_view_count": null,
            "_view_module": "@jupyter-widgets/base",
            "_view_module_version": "1.2.0",
            "_view_name": "StyleView",
            "description_width": ""
          }
        },
        "0966142a777544618aa71e84a72be72b": {
          "model_module": "@jupyter-widgets/controls",
          "model_name": "HBoxModel",
          "model_module_version": "1.5.0",
          "state": {
            "_dom_classes": [],
            "_model_module": "@jupyter-widgets/controls",
            "_model_module_version": "1.5.0",
            "_model_name": "HBoxModel",
            "_view_count": null,
            "_view_module": "@jupyter-widgets/controls",
            "_view_module_version": "1.5.0",
            "_view_name": "HBoxView",
            "box_style": "",
            "children": [
              "IPY_MODEL_48f0301a7d9849b3bd5b33cb836004c5",
              "IPY_MODEL_a0e08b67ffa7413899a64dbbc13eb9f1",
              "IPY_MODEL_27bbd84e14a448f48648c8c8f2428bbf"
            ],
            "layout": "IPY_MODEL_52612672a82c49569bc83da4f217f1a2"
          }
        },
        "48f0301a7d9849b3bd5b33cb836004c5": {
          "model_module": "@jupyter-widgets/controls",
          "model_name": "HTMLModel",
          "model_module_version": "1.5.0",
          "state": {
            "_dom_classes": [],
            "_model_module": "@jupyter-widgets/controls",
            "_model_module_version": "1.5.0",
            "_model_name": "HTMLModel",
            "_view_count": null,
            "_view_module": "@jupyter-widgets/controls",
            "_view_module_version": "1.5.0",
            "_view_name": "HTMLView",
            "description": "",
            "description_tooltip": null,
            "layout": "IPY_MODEL_d0ab7911cb0c4336a5a575d81274bc53",
            "placeholder": "​",
            "style": "IPY_MODEL_f97bbd4705d543a5bcaa6e0ba468dc33",
            "value": "config.json: 100%"
          }
        },
        "a0e08b67ffa7413899a64dbbc13eb9f1": {
          "model_module": "@jupyter-widgets/controls",
          "model_name": "FloatProgressModel",
          "model_module_version": "1.5.0",
          "state": {
            "_dom_classes": [],
            "_model_module": "@jupyter-widgets/controls",
            "_model_module_version": "1.5.0",
            "_model_name": "FloatProgressModel",
            "_view_count": null,
            "_view_module": "@jupyter-widgets/controls",
            "_view_module_version": "1.5.0",
            "_view_name": "ProgressView",
            "bar_style": "success",
            "description": "",
            "description_tooltip": null,
            "layout": "IPY_MODEL_8ddff01333bf4fb18ae07b648dcca478",
            "max": 615,
            "min": 0,
            "orientation": "horizontal",
            "style": "IPY_MODEL_1655a051c0864c5e9a544816a26e564a",
            "value": 615
          }
        },
        "27bbd84e14a448f48648c8c8f2428bbf": {
          "model_module": "@jupyter-widgets/controls",
          "model_name": "HTMLModel",
          "model_module_version": "1.5.0",
          "state": {
            "_dom_classes": [],
            "_model_module": "@jupyter-widgets/controls",
            "_model_module_version": "1.5.0",
            "_model_name": "HTMLModel",
            "_view_count": null,
            "_view_module": "@jupyter-widgets/controls",
            "_view_module_version": "1.5.0",
            "_view_name": "HTMLView",
            "description": "",
            "description_tooltip": null,
            "layout": "IPY_MODEL_a81f114c8bc34c6890e9253291c1ba8d",
            "placeholder": "​",
            "style": "IPY_MODEL_9bf83d218016438ca7d007a20392bb7a",
            "value": " 615/615 [00:00&lt;00:00, 24.3kB/s]"
          }
        },
        "52612672a82c49569bc83da4f217f1a2": {
          "model_module": "@jupyter-widgets/base",
          "model_name": "LayoutModel",
          "model_module_version": "1.2.0",
          "state": {
            "_model_module": "@jupyter-widgets/base",
            "_model_module_version": "1.2.0",
            "_model_name": "LayoutModel",
            "_view_count": null,
            "_view_module": "@jupyter-widgets/base",
            "_view_module_version": "1.2.0",
            "_view_name": "LayoutView",
            "align_content": null,
            "align_items": null,
            "align_self": null,
            "border": null,
            "bottom": null,
            "display": null,
            "flex": null,
            "flex_flow": null,
            "grid_area": null,
            "grid_auto_columns": null,
            "grid_auto_flow": null,
            "grid_auto_rows": null,
            "grid_column": null,
            "grid_gap": null,
            "grid_row": null,
            "grid_template_areas": null,
            "grid_template_columns": null,
            "grid_template_rows": null,
            "height": null,
            "justify_content": null,
            "justify_items": null,
            "left": null,
            "margin": null,
            "max_height": null,
            "max_width": null,
            "min_height": null,
            "min_width": null,
            "object_fit": null,
            "object_position": null,
            "order": null,
            "overflow": null,
            "overflow_x": null,
            "overflow_y": null,
            "padding": null,
            "right": null,
            "top": null,
            "visibility": null,
            "width": null
          }
        },
        "d0ab7911cb0c4336a5a575d81274bc53": {
          "model_module": "@jupyter-widgets/base",
          "model_name": "LayoutModel",
          "model_module_version": "1.2.0",
          "state": {
            "_model_module": "@jupyter-widgets/base",
            "_model_module_version": "1.2.0",
            "_model_name": "LayoutModel",
            "_view_count": null,
            "_view_module": "@jupyter-widgets/base",
            "_view_module_version": "1.2.0",
            "_view_name": "LayoutView",
            "align_content": null,
            "align_items": null,
            "align_self": null,
            "border": null,
            "bottom": null,
            "display": null,
            "flex": null,
            "flex_flow": null,
            "grid_area": null,
            "grid_auto_columns": null,
            "grid_auto_flow": null,
            "grid_auto_rows": null,
            "grid_column": null,
            "grid_gap": null,
            "grid_row": null,
            "grid_template_areas": null,
            "grid_template_columns": null,
            "grid_template_rows": null,
            "height": null,
            "justify_content": null,
            "justify_items": null,
            "left": null,
            "margin": null,
            "max_height": null,
            "max_width": null,
            "min_height": null,
            "min_width": null,
            "object_fit": null,
            "object_position": null,
            "order": null,
            "overflow": null,
            "overflow_x": null,
            "overflow_y": null,
            "padding": null,
            "right": null,
            "top": null,
            "visibility": null,
            "width": null
          }
        },
        "f97bbd4705d543a5bcaa6e0ba468dc33": {
          "model_module": "@jupyter-widgets/controls",
          "model_name": "DescriptionStyleModel",
          "model_module_version": "1.5.0",
          "state": {
            "_model_module": "@jupyter-widgets/controls",
            "_model_module_version": "1.5.0",
            "_model_name": "DescriptionStyleModel",
            "_view_count": null,
            "_view_module": "@jupyter-widgets/base",
            "_view_module_version": "1.2.0",
            "_view_name": "StyleView",
            "description_width": ""
          }
        },
        "8ddff01333bf4fb18ae07b648dcca478": {
          "model_module": "@jupyter-widgets/base",
          "model_name": "LayoutModel",
          "model_module_version": "1.2.0",
          "state": {
            "_model_module": "@jupyter-widgets/base",
            "_model_module_version": "1.2.0",
            "_model_name": "LayoutModel",
            "_view_count": null,
            "_view_module": "@jupyter-widgets/base",
            "_view_module_version": "1.2.0",
            "_view_name": "LayoutView",
            "align_content": null,
            "align_items": null,
            "align_self": null,
            "border": null,
            "bottom": null,
            "display": null,
            "flex": null,
            "flex_flow": null,
            "grid_area": null,
            "grid_auto_columns": null,
            "grid_auto_flow": null,
            "grid_auto_rows": null,
            "grid_column": null,
            "grid_gap": null,
            "grid_row": null,
            "grid_template_areas": null,
            "grid_template_columns": null,
            "grid_template_rows": null,
            "height": null,
            "justify_content": null,
            "justify_items": null,
            "left": null,
            "margin": null,
            "max_height": null,
            "max_width": null,
            "min_height": null,
            "min_width": null,
            "object_fit": null,
            "object_position": null,
            "order": null,
            "overflow": null,
            "overflow_x": null,
            "overflow_y": null,
            "padding": null,
            "right": null,
            "top": null,
            "visibility": null,
            "width": null
          }
        },
        "1655a051c0864c5e9a544816a26e564a": {
          "model_module": "@jupyter-widgets/controls",
          "model_name": "ProgressStyleModel",
          "model_module_version": "1.5.0",
          "state": {
            "_model_module": "@jupyter-widgets/controls",
            "_model_module_version": "1.5.0",
            "_model_name": "ProgressStyleModel",
            "_view_count": null,
            "_view_module": "@jupyter-widgets/base",
            "_view_module_version": "1.2.0",
            "_view_name": "StyleView",
            "bar_color": null,
            "description_width": ""
          }
        },
        "a81f114c8bc34c6890e9253291c1ba8d": {
          "model_module": "@jupyter-widgets/base",
          "model_name": "LayoutModel",
          "model_module_version": "1.2.0",
          "state": {
            "_model_module": "@jupyter-widgets/base",
            "_model_module_version": "1.2.0",
            "_model_name": "LayoutModel",
            "_view_count": null,
            "_view_module": "@jupyter-widgets/base",
            "_view_module_version": "1.2.0",
            "_view_name": "LayoutView",
            "align_content": null,
            "align_items": null,
            "align_self": null,
            "border": null,
            "bottom": null,
            "display": null,
            "flex": null,
            "flex_flow": null,
            "grid_area": null,
            "grid_auto_columns": null,
            "grid_auto_flow": null,
            "grid_auto_rows": null,
            "grid_column": null,
            "grid_gap": null,
            "grid_row": null,
            "grid_template_areas": null,
            "grid_template_columns": null,
            "grid_template_rows": null,
            "height": null,
            "justify_content": null,
            "justify_items": null,
            "left": null,
            "margin": null,
            "max_height": null,
            "max_width": null,
            "min_height": null,
            "min_width": null,
            "object_fit": null,
            "object_position": null,
            "order": null,
            "overflow": null,
            "overflow_x": null,
            "overflow_y": null,
            "padding": null,
            "right": null,
            "top": null,
            "visibility": null,
            "width": null
          }
        },
        "9bf83d218016438ca7d007a20392bb7a": {
          "model_module": "@jupyter-widgets/controls",
          "model_name": "DescriptionStyleModel",
          "model_module_version": "1.5.0",
          "state": {
            "_model_module": "@jupyter-widgets/controls",
            "_model_module_version": "1.5.0",
            "_model_name": "DescriptionStyleModel",
            "_view_count": null,
            "_view_module": "@jupyter-widgets/base",
            "_view_module_version": "1.2.0",
            "_view_name": "StyleView",
            "description_width": ""
          }
        },
        "0e87f9bd283b42b680ba26825016c7ed": {
          "model_module": "@jupyter-widgets/controls",
          "model_name": "HBoxModel",
          "model_module_version": "1.5.0",
          "state": {
            "_dom_classes": [],
            "_model_module": "@jupyter-widgets/controls",
            "_model_module_version": "1.5.0",
            "_model_name": "HBoxModel",
            "_view_count": null,
            "_view_module": "@jupyter-widgets/controls",
            "_view_module_version": "1.5.0",
            "_view_name": "HBoxView",
            "box_style": "",
            "children": [
              "IPY_MODEL_6614e1aac5094decba4d129b2cc7f179",
              "IPY_MODEL_36938267ebc6468293cd4f03e40800b0",
              "IPY_MODEL_43a531eda93a4d0ea4c8a5c93686899a"
            ],
            "layout": "IPY_MODEL_abc6b0c55cba46e3aa642abfadca593b"
          }
        },
        "6614e1aac5094decba4d129b2cc7f179": {
          "model_module": "@jupyter-widgets/controls",
          "model_name": "HTMLModel",
          "model_module_version": "1.5.0",
          "state": {
            "_dom_classes": [],
            "_model_module": "@jupyter-widgets/controls",
            "_model_module_version": "1.5.0",
            "_model_name": "HTMLModel",
            "_view_count": null,
            "_view_module": "@jupyter-widgets/controls",
            "_view_module_version": "1.5.0",
            "_view_name": "HTMLView",
            "description": "",
            "description_tooltip": null,
            "layout": "IPY_MODEL_795d4052b3bd4318a9afef10644ab108",
            "placeholder": "​",
            "style": "IPY_MODEL_75161d45d7364e0e82d19bbff0fd2602",
            "value": "model.safetensors: 100%"
          }
        },
        "36938267ebc6468293cd4f03e40800b0": {
          "model_module": "@jupyter-widgets/controls",
          "model_name": "FloatProgressModel",
          "model_module_version": "1.5.0",
          "state": {
            "_dom_classes": [],
            "_model_module": "@jupyter-widgets/controls",
            "_model_module_version": "1.5.0",
            "_model_name": "FloatProgressModel",
            "_view_count": null,
            "_view_module": "@jupyter-widgets/controls",
            "_view_module_version": "1.5.0",
            "_view_name": "ProgressView",
            "bar_style": "success",
            "description": "",
            "description_tooltip": null,
            "layout": "IPY_MODEL_6b8a0c25e44245dc9a8ac091e03b4f49",
            "max": 1115567652,
            "min": 0,
            "orientation": "horizontal",
            "style": "IPY_MODEL_d47d98a15e1b46678991491357b681ed",
            "value": 1115567652
          }
        },
        "43a531eda93a4d0ea4c8a5c93686899a": {
          "model_module": "@jupyter-widgets/controls",
          "model_name": "HTMLModel",
          "model_module_version": "1.5.0",
          "state": {
            "_dom_classes": [],
            "_model_module": "@jupyter-widgets/controls",
            "_model_module_version": "1.5.0",
            "_model_name": "HTMLModel",
            "_view_count": null,
            "_view_module": "@jupyter-widgets/controls",
            "_view_module_version": "1.5.0",
            "_view_name": "HTMLView",
            "description": "",
            "description_tooltip": null,
            "layout": "IPY_MODEL_72c53986787848aca88e7ae1f39bbb2a",
            "placeholder": "​",
            "style": "IPY_MODEL_36861e31a9484ac7b6f7fc57eb3e3c22",
            "value": " 1.12G/1.12G [00:09&lt;00:00, 232MB/s]"
          }
        },
        "abc6b0c55cba46e3aa642abfadca593b": {
          "model_module": "@jupyter-widgets/base",
          "model_name": "LayoutModel",
          "model_module_version": "1.2.0",
          "state": {
            "_model_module": "@jupyter-widgets/base",
            "_model_module_version": "1.2.0",
            "_model_name": "LayoutModel",
            "_view_count": null,
            "_view_module": "@jupyter-widgets/base",
            "_view_module_version": "1.2.0",
            "_view_name": "LayoutView",
            "align_content": null,
            "align_items": null,
            "align_self": null,
            "border": null,
            "bottom": null,
            "display": null,
            "flex": null,
            "flex_flow": null,
            "grid_area": null,
            "grid_auto_columns": null,
            "grid_auto_flow": null,
            "grid_auto_rows": null,
            "grid_column": null,
            "grid_gap": null,
            "grid_row": null,
            "grid_template_areas": null,
            "grid_template_columns": null,
            "grid_template_rows": null,
            "height": null,
            "justify_content": null,
            "justify_items": null,
            "left": null,
            "margin": null,
            "max_height": null,
            "max_width": null,
            "min_height": null,
            "min_width": null,
            "object_fit": null,
            "object_position": null,
            "order": null,
            "overflow": null,
            "overflow_x": null,
            "overflow_y": null,
            "padding": null,
            "right": null,
            "top": null,
            "visibility": null,
            "width": null
          }
        },
        "795d4052b3bd4318a9afef10644ab108": {
          "model_module": "@jupyter-widgets/base",
          "model_name": "LayoutModel",
          "model_module_version": "1.2.0",
          "state": {
            "_model_module": "@jupyter-widgets/base",
            "_model_module_version": "1.2.0",
            "_model_name": "LayoutModel",
            "_view_count": null,
            "_view_module": "@jupyter-widgets/base",
            "_view_module_version": "1.2.0",
            "_view_name": "LayoutView",
            "align_content": null,
            "align_items": null,
            "align_self": null,
            "border": null,
            "bottom": null,
            "display": null,
            "flex": null,
            "flex_flow": null,
            "grid_area": null,
            "grid_auto_columns": null,
            "grid_auto_flow": null,
            "grid_auto_rows": null,
            "grid_column": null,
            "grid_gap": null,
            "grid_row": null,
            "grid_template_areas": null,
            "grid_template_columns": null,
            "grid_template_rows": null,
            "height": null,
            "justify_content": null,
            "justify_items": null,
            "left": null,
            "margin": null,
            "max_height": null,
            "max_width": null,
            "min_height": null,
            "min_width": null,
            "object_fit": null,
            "object_position": null,
            "order": null,
            "overflow": null,
            "overflow_x": null,
            "overflow_y": null,
            "padding": null,
            "right": null,
            "top": null,
            "visibility": null,
            "width": null
          }
        },
        "75161d45d7364e0e82d19bbff0fd2602": {
          "model_module": "@jupyter-widgets/controls",
          "model_name": "DescriptionStyleModel",
          "model_module_version": "1.5.0",
          "state": {
            "_model_module": "@jupyter-widgets/controls",
            "_model_module_version": "1.5.0",
            "_model_name": "DescriptionStyleModel",
            "_view_count": null,
            "_view_module": "@jupyter-widgets/base",
            "_view_module_version": "1.2.0",
            "_view_name": "StyleView",
            "description_width": ""
          }
        },
        "6b8a0c25e44245dc9a8ac091e03b4f49": {
          "model_module": "@jupyter-widgets/base",
          "model_name": "LayoutModel",
          "model_module_version": "1.2.0",
          "state": {
            "_model_module": "@jupyter-widgets/base",
            "_model_module_version": "1.2.0",
            "_model_name": "LayoutModel",
            "_view_count": null,
            "_view_module": "@jupyter-widgets/base",
            "_view_module_version": "1.2.0",
            "_view_name": "LayoutView",
            "align_content": null,
            "align_items": null,
            "align_self": null,
            "border": null,
            "bottom": null,
            "display": null,
            "flex": null,
            "flex_flow": null,
            "grid_area": null,
            "grid_auto_columns": null,
            "grid_auto_flow": null,
            "grid_auto_rows": null,
            "grid_column": null,
            "grid_gap": null,
            "grid_row": null,
            "grid_template_areas": null,
            "grid_template_columns": null,
            "grid_template_rows": null,
            "height": null,
            "justify_content": null,
            "justify_items": null,
            "left": null,
            "margin": null,
            "max_height": null,
            "max_width": null,
            "min_height": null,
            "min_width": null,
            "object_fit": null,
            "object_position": null,
            "order": null,
            "overflow": null,
            "overflow_x": null,
            "overflow_y": null,
            "padding": null,
            "right": null,
            "top": null,
            "visibility": null,
            "width": null
          }
        },
        "d47d98a15e1b46678991491357b681ed": {
          "model_module": "@jupyter-widgets/controls",
          "model_name": "ProgressStyleModel",
          "model_module_version": "1.5.0",
          "state": {
            "_model_module": "@jupyter-widgets/controls",
            "_model_module_version": "1.5.0",
            "_model_name": "ProgressStyleModel",
            "_view_count": null,
            "_view_module": "@jupyter-widgets/base",
            "_view_module_version": "1.2.0",
            "_view_name": "StyleView",
            "bar_color": null,
            "description_width": ""
          }
        },
        "72c53986787848aca88e7ae1f39bbb2a": {
          "model_module": "@jupyter-widgets/base",
          "model_name": "LayoutModel",
          "model_module_version": "1.2.0",
          "state": {
            "_model_module": "@jupyter-widgets/base",
            "_model_module_version": "1.2.0",
            "_model_name": "LayoutModel",
            "_view_count": null,
            "_view_module": "@jupyter-widgets/base",
            "_view_module_version": "1.2.0",
            "_view_name": "LayoutView",
            "align_content": null,
            "align_items": null,
            "align_self": null,
            "border": null,
            "bottom": null,
            "display": null,
            "flex": null,
            "flex_flow": null,
            "grid_area": null,
            "grid_auto_columns": null,
            "grid_auto_flow": null,
            "grid_auto_rows": null,
            "grid_column": null,
            "grid_gap": null,
            "grid_row": null,
            "grid_template_areas": null,
            "grid_template_columns": null,
            "grid_template_rows": null,
            "height": null,
            "justify_content": null,
            "justify_items": null,
            "left": null,
            "margin": null,
            "max_height": null,
            "max_width": null,
            "min_height": null,
            "min_width": null,
            "object_fit": null,
            "object_position": null,
            "order": null,
            "overflow": null,
            "overflow_x": null,
            "overflow_y": null,
            "padding": null,
            "right": null,
            "top": null,
            "visibility": null,
            "width": null
          }
        },
        "36861e31a9484ac7b6f7fc57eb3e3c22": {
          "model_module": "@jupyter-widgets/controls",
          "model_name": "DescriptionStyleModel",
          "model_module_version": "1.5.0",
          "state": {
            "_model_module": "@jupyter-widgets/controls",
            "_model_module_version": "1.5.0",
            "_model_name": "DescriptionStyleModel",
            "_view_count": null,
            "_view_module": "@jupyter-widgets/base",
            "_view_module_version": "1.2.0",
            "_view_name": "StyleView",
            "description_width": ""
          }
        }
      }
    }
  },
  "cells": [
    {
      "cell_type": "markdown",
      "metadata": {
        "id": "view-in-github",
        "colab_type": "text"
      },
      "source": [
        "<a href=\"https://colab.research.google.com/github/Datasci266-Final-Project/Job-Listings/blob/main/Analysis%20Notebooks/Model_1_Testing_Analysis.ipynb\" target=\"_parent\"><img src=\"https://colab.research.google.com/assets/colab-badge.svg\" alt=\"Open In Colab\"/></a>"
      ]
    },
    {
      "cell_type": "code",
      "execution_count": null,
      "metadata": {
        "id": "LVDqxw1226Ha",
        "colab": {
          "base_uri": "https://localhost:8080/"
        },
        "outputId": "306ac6d9-e4a0-40c4-86eb-fa46b33d6380"
      },
      "outputs": [
        {
          "output_type": "stream",
          "name": "stdout",
          "text": [
            "\u001b[2K     \u001b[90m━━━━━━━━━━━━━━━━━━━━━━━━━━━━━━━━━━━━━━━━\u001b[0m \u001b[32m8.4/8.4 MB\u001b[0m \u001b[31m14.1 MB/s\u001b[0m eta \u001b[36m0:00:00\u001b[0m\n",
            "\u001b[2K     \u001b[90m━━━━━━━━━━━━━━━━━━━━━━━━━━━━━━━━━━━━━━━━\u001b[0m \u001b[32m258.0/258.0 kB\u001b[0m \u001b[31m6.4 MB/s\u001b[0m eta \u001b[36m0:00:00\u001b[0m\n",
            "\u001b[?25h"
          ]
        }
      ],
      "source": [
        "#@title Installs\n",
        "\n",
        "!pip install pydot --quiet\n",
        "!pip install transformers==4.37.2 --quiet\n",
        "!pip install -U imbalanced-learn --quiet"
      ]
    },
    {
      "cell_type": "code",
      "source": [
        "#@title Imports\n",
        "import pandas as pd\n",
        "\n",
        "import numpy as np\n",
        "import random\n",
        "import torch\n",
        "\n",
        "import tensorflow as tf\n",
        "from tensorflow import keras\n",
        "\n",
        "from tensorflow.keras.layers import Embedding, Input, Dense, Lambda, Dropout\n",
        "from tensorflow.keras.models import Model\n",
        "import tensorflow.keras.backend as K\n",
        "import tensorflow_datasets as tfds\n",
        "\n",
        "from imblearn.over_sampling import RandomOverSampler\n",
        "from imblearn.over_sampling import SMOTE\n",
        "\n",
        "import sklearn as sk\n",
        "import os\n",
        "import nltk\n",
        "from nltk.data import find\n",
        "\n",
        "import matplotlib.pyplot as plt\n",
        "import seaborn as sns\n",
        "\n",
        "import pickle\n",
        "\n",
        "import re\n",
        "from sklearn.model_selection import train_test_split\n",
        "\n",
        "from transformers import BertTokenizer, TFBertModel, AutoTokenizer, TFXLMRobertaModel #\"FacebookAI/xlm-roberta-base\"\n",
        "\n",
        "from transformers import logging\n",
        "logging.set_verbosity_error()"
      ],
      "metadata": {
        "id": "9C9oPGpp_fo1"
      },
      "execution_count": null,
      "outputs": []
    },
    {
      "cell_type": "code",
      "source": [
        "# Set seed to 10\n",
        "\n",
        "seed_value = 10\n",
        "\n",
        "random.seed(seed_value)\n",
        "np.random.seed(seed_value)\n",
        "torch.manual_seed(seed_value)\n",
        "torch.cuda.manual_seed_all(seed_value)\n",
        "tf.random.set_seed(seed_value)"
      ],
      "metadata": {
        "id": "Dt5AUa7__jn1"
      },
      "execution_count": null,
      "outputs": []
    },
    {
      "cell_type": "code",
      "source": [
        "from google.colab import drive\n",
        "drive.mount('/content/drive')\n",
        "\n",
        "%cd /content/drive/My Drive/DataSci 266 Project"
      ],
      "metadata": {
        "colab": {
          "base_uri": "https://localhost:8080/"
        },
        "id": "-yCIYctGegMy",
        "outputId": "f7c9b6b2-46ab-4da1-bf6e-2aa6be485610"
      },
      "execution_count": null,
      "outputs": [
        {
          "output_type": "stream",
          "name": "stdout",
          "text": [
            "Mounted at /content/drive\n",
            "/content/drive/.shortcut-targets-by-id/1V3QooLePiHR_DaZhbXQhsjmP1Ez5fv5F/DataSci 266 Project\n"
          ]
        }
      ]
    },
    {
      "cell_type": "code",
      "source": [
        "# Dictionaries\n",
        "level_key = {\n",
        "    \"student_intern\": 0,\n",
        "    \"entry\": 1,\n",
        "    \"junior\": 2,\n",
        "    \"mid\": 3,\n",
        "    \"senior\": 4,\n",
        "    \"executive\": 5,\n",
        "    np.nan: -1\n",
        "}\n",
        "\n",
        "# Define salary_key dictionary\n",
        "salary_key = {\n",
        "    \"<45k\": 0,\n",
        "    \"45-65k\": 1,\n",
        "    \"65-85k\": 2,\n",
        "    \"85-110k\": 3,\n",
        "    \"110-150k\": 4,\n",
        "    \"150-200k\": 5,\n",
        "    \">200k\": 6,\n",
        "    np.nan: -1\n",
        "}"
      ],
      "metadata": {
        "id": "AaFYb7nJCHXx"
      },
      "execution_count": null,
      "outputs": []
    },
    {
      "cell_type": "code",
      "source": [
        "#@title Import pickle files\n",
        "\n",
        "\n",
        "#import tokenized inputs for each model\n",
        "with open(r'Model Objects/Tokenized Inputs: Bert Base/test_inputs_bert.pickle', 'rb') as handle:\n",
        "    bert_base_test_inputs = pickle.load(handle)\n",
        "\n",
        "with open(r'Model Objects/Tokenized Inputs: Bert Multilingual/test_inputs_bert_multilingual.pickle', 'rb') as handle:\n",
        "    bert_multilingual_test_inputs = pickle.load(handle)\n",
        "\n",
        "with open(r'Model Objects/Tokenized Inputs: xlm-RoBERTa/test_inputs_xlm_roberta.pickle', 'rb') as handle:\n",
        "    xlm_roberta_test_inputs = pickle.load(handle)\n",
        "\n",
        "\n",
        "# import data\n",
        "with open(r'Model Objects/test_data.pickle', 'rb') as handle:\n",
        "    test_data = pickle.load(handle)\n",
        "\n",
        "\n",
        "# import labels\n",
        "with open(r'Model Objects/Labels/labels_level_test_baseline.pickle', 'rb') as handle:\n",
        "    test_level_labels = pickle.load(handle)\n",
        "\n",
        "with open(r'Model Objects/Labels/labels_salary_test_baseline.pickle', 'rb') as handle:\n",
        "    test_salary_labels = pickle.load(handle)\n",
        "\n",
        "\n",
        "\n",
        "\n"
      ],
      "metadata": {
        "id": "qb7AltkrAHaq"
      },
      "execution_count": null,
      "outputs": []
    },
    {
      "cell_type": "code",
      "source": [
        "MAX_SEQUENCE_LENGTH = 512"
      ],
      "metadata": {
        "id": "6F8Hv7XrifyK"
      },
      "execution_count": null,
      "outputs": []
    },
    {
      "cell_type": "code",
      "source": [
        "#@title Define Bert Model\n",
        "\n",
        "# Masked Loss Function\n",
        "def masked_loss_function(y_true, y_pred):\n",
        "    mask = tf.math.logical_not(tf.math.equal(y_true, -1))  # Use -1 to represent missing values\n",
        "    mask = tf.cast(mask, tf.float32)\n",
        "\n",
        "    y_true = tf.cast(y_true, tf.float32)  # Cast y_true to float32 to match the type of y_pred\n",
        "    y_pred = tf.cast(y_pred, tf.float32)\n",
        "\n",
        "    return tf.keras.losses.sparse_categorical_crossentropy(y_true * mask, y_pred * mask)\n",
        "\n",
        "\n",
        "\n",
        "\n",
        "# BERT Model\n",
        "def create_bert_multi_output_model(bert_base_model,\n",
        "                                   trainable=True,\n",
        "                                 max_sequence_length=MAX_SEQUENCE_LENGTH,\n",
        "                                   num_level_classes=7,\n",
        "                                   num_salary_classes=8,\n",
        "                                 base_hidden_size=100,\n",
        "                                  level_hidden_size=100,\n",
        "                                  salary_hidden_size=100,\n",
        "                                 dropout=0.3,\n",
        "                                 learning_rate=0.00005,\n",
        "                                   LEVEL_WEIGHT=0.5,\n",
        "                                   SALARY_WEIGHT=0.5):\n",
        "\n",
        "    bert_base_model.trainable = trainable\n",
        "\n",
        "    # Input layers\n",
        "    input_ids = tf.keras.layers.Input(shape=(max_sequence_length,), dtype=tf.int64, name='input_ids_layer')\n",
        "    token_type_ids = tf.keras.layers.Input(shape=(max_sequence_length,), dtype=tf.int64, name='token_type_ids_layer')\n",
        "    attention_mask = tf.keras.layers.Input(shape=(max_sequence_length,), dtype=tf.int64, name='attention_mask_layer')\n",
        "\n",
        "    bert_inputs = {\n",
        "        'input_ids': input_ids,\n",
        "        'token_type_ids': token_type_ids,\n",
        "        'attention_mask': attention_mask\n",
        "    }\n",
        "\n",
        "    bert_out = bert_base_model(bert_inputs)\n",
        "\n",
        "    cls_token = bert_out[0][:, 0, :]  # Extract CLS token\n",
        "    # pooler_token = bert_out[1]\n",
        "\n",
        "    base_hidden = tf.keras.layers.Dense(base_hidden_size, activation='relu', name='base_hidden_layer_1')(cls_token)\n",
        "    base_out = tf.keras.layers.Dropout(dropout)(base_hidden)\n",
        "\n",
        "    # job experience level\n",
        "    level_hidden = tf.keras.layers.Dense(level_hidden_size, activation='relu', name='level_hidden_layer_1')(base_out)\n",
        "    level_hidden = tf.keras.layers.Dropout(dropout)(level_hidden)\n",
        "    level_classification = tf.keras.layers.Dense(num_level_classes, activation='softmax', name='level_classification')(level_hidden)\n",
        "\n",
        "    # salary bucket\n",
        "    salary_hidden = tf.keras.layers.Dense(salary_hidden_size, activation='relu', name='salary_hidden_layer_1')(base_out)\n",
        "    salary_hidden = tf.keras.layers.Dropout(dropout)(salary_hidden)\n",
        "    salary_classification = tf.keras.layers.Dense(num_salary_classes, activation='softmax', name='salary_classification')(salary_hidden)\n",
        "\n",
        "\n",
        "\n",
        "    classification_model = tf.keras.Model(inputs=[input_ids, token_type_ids, attention_mask],\n",
        "                                          outputs=[level_classification, salary_classification])\n",
        "\n",
        "\n",
        "    classification_model.compile(optimizer=tf.keras.optimizers.Adam(learning_rate=learning_rate),\n",
        "                                 loss={'level_classification': masked_loss_function,\n",
        "                                       'salary_classification': masked_loss_function},\n",
        "                                 loss_weights=[LEVEL_WEIGHT,\n",
        "                                               SALARY_WEIGHT],\n",
        "                                 metrics={'level_classification': 'accuracy',\n",
        "                                          'salary_classification': 'accuracy'})\n",
        "\n",
        "    return classification_model\n",
        "\n",
        "\n"
      ],
      "metadata": {
        "id": "ppCUeh-LOeUi",
        "cellView": "form"
      },
      "execution_count": null,
      "outputs": []
    },
    {
      "cell_type": "code",
      "source": [
        "#@title Define xlm-roberta Model\n",
        "\n",
        "# Masked Loss Function\n",
        "def masked_loss_function(y_true, y_pred):\n",
        "    mask = tf.math.logical_not(tf.math.equal(y_true, -1))  # Use -1 to represent missing values\n",
        "    mask = tf.cast(mask, tf.float32)\n",
        "\n",
        "    y_true = tf.cast(y_true, tf.float32)  # Cast y_true to float32 to match the type of y_pred\n",
        "    y_pred = tf.cast(y_pred, tf.float32)\n",
        "\n",
        "    return tf.keras.losses.sparse_categorical_crossentropy(y_true * mask, y_pred * mask)\n",
        "\n",
        "\n",
        "\n",
        "\n",
        "# BERT Model\n",
        "def create_xlm_roberta_multi_output_model(xlm_roberta_base_model,\n",
        "                                   trainable=True,\n",
        "                                 max_sequence_length=MAX_SEQUENCE_LENGTH,\n",
        "                                   num_level_classes=7,\n",
        "                                   num_salary_classes=8,\n",
        "                                 base_hidden_size=100,\n",
        "                                  level_hidden_size=100,\n",
        "                                  salary_hidden_size=100,\n",
        "                                 dropout=0.3,\n",
        "                                 learning_rate=0.00005,\n",
        "                                   LEVEL_WEIGHT=0.5,\n",
        "                                   SALARY_WEIGHT=0.5):\n",
        "\n",
        "    xlm_roberta_base_model.trainable = trainable\n",
        "\n",
        "    # Input layers\n",
        "    input_ids = tf.keras.layers.Input(shape=(max_sequence_length,), dtype=tf.int64, name='input_ids_layer')\n",
        "    attention_mask = tf.keras.layers.Input(shape=(max_sequence_length,), dtype=tf.int64, name='attention_mask_layer')\n",
        "\n",
        "    xlm_roberta_inputs = {\n",
        "        'input_ids': input_ids,\n",
        "        'attention_mask': attention_mask\n",
        "    }\n",
        "\n",
        "    xlm_roberta_out = xlm_roberta_base_model(xlm_roberta_inputs)\n",
        "\n",
        "    cls_token = xlm_roberta_out[0][:, 0, :]  # Extract CLS token\n",
        "    # pooler_token = xlm_roberta_out[1]\n",
        "\n",
        "    base_hidden = tf.keras.layers.Dense(base_hidden_size, activation='relu', name='base_hidden_layer_1')(cls_token)\n",
        "    base_out = tf.keras.layers.Dropout(dropout)(base_hidden)\n",
        "\n",
        "    # job experience level\n",
        "    level_hidden = tf.keras.layers.Dense(level_hidden_size, activation='relu', name='level_hidden_layer_1')(base_out)\n",
        "    level_hidden = tf.keras.layers.Dropout(dropout)(level_hidden)\n",
        "    level_classification = tf.keras.layers.Dense(num_level_classes, activation='softmax', name='level_classification')(level_hidden)\n",
        "\n",
        "    # salary bucket\n",
        "    salary_hidden = tf.keras.layers.Dense(salary_hidden_size, activation='relu', name='salary_hidden_layer_1')(base_out)\n",
        "    salary_hidden = tf.keras.layers.Dropout(dropout)(salary_hidden)\n",
        "    salary_classification = tf.keras.layers.Dense(num_salary_classes, activation='softmax', name='salary_classification')(salary_hidden)\n",
        "\n",
        "\n",
        "\n",
        "    classification_model = tf.keras.Model(inputs=[input_ids, attention_mask],\n",
        "                                          outputs=[level_classification, salary_classification])\n",
        "\n",
        "\n",
        "    classification_model.compile(optimizer=tf.keras.optimizers.Adam(learning_rate=learning_rate),\n",
        "                                 loss={'level_classification': masked_loss_function,\n",
        "                                       'salary_classification': masked_loss_function},\n",
        "                                 loss_weights=[LEVEL_WEIGHT,\n",
        "                                               SALARY_WEIGHT],\n",
        "                                 metrics={'level_classification': 'accuracy',\n",
        "                                          'salary_classification': 'accuracy'})\n",
        "\n",
        "    return classification_model\n",
        "\n",
        "\n"
      ],
      "metadata": {
        "cellView": "form",
        "id": "RcNA1tcUbjGr"
      },
      "execution_count": null,
      "outputs": []
    },
    {
      "cell_type": "code",
      "source": [
        "# bert base model from pre-saved weights\n",
        "bert_base_model = TFBertModel.from_pretrained('bert-base-cased')\n",
        "bert_base_model = create_bert_multi_output_model(bert_base_model)\n",
        "\n",
        "bert_base_model.load_weights('./Model Objects/model_1_bert/model_1_bert_base_weights')\n",
        "\n",
        "# bert multilingual model from pre-saved weights\n",
        "bert_multilingual_model = TFBertModel.from_pretrained('bert-base-multilingual-cased')\n",
        "bert_multilingual_model = create_bert_multi_output_model(bert_multilingual_model)\n",
        "\n",
        "bert_multilingual_model.load_weights('./Model Objects/model_1_multilingual/model_1_multilingual_weights')\n",
        "\n",
        "# xlm_roberta model from pre-saved weights\n",
        "xlm_roberta_model = TFXLMRobertaModel.from_pretrained(\"FacebookAI/xlm-roberta-base\")\n",
        "xlm_roberta_model = create_xlm_roberta_multi_output_model(xlm_roberta_model)\n",
        "\n",
        "xlm_roberta_model.load_weights('./Model Objects/model_1_xlm_roberta/model_1_xlm_roberta_weights')\n"
      ],
      "metadata": {
        "colab": {
          "base_uri": "https://localhost:8080/",
          "height": 331,
          "referenced_widgets": [
            "89cd73712313460185d1386cd9bb7cf0",
            "cc44b30bd88646d6ad552e8860961e46",
            "e74ce6424dcb44f39ccfdb4776568b69",
            "ab290f4a2c2a49098e272fb22fd1465f",
            "b054d0e6a3cf459a8e82a81688216aae",
            "4c8698206ad444848d08b53cc7c749ef",
            "1f3380bf8999464097396e893e5d6c93",
            "2bbb048704bf4048b89b39ee56e33278",
            "63913074c9334272bb3332ebc8ef7ffd",
            "4029980886594b19a8d57a7df3037fe6",
            "f9d6858f558a4672aa9dd8274782e685",
            "c3e97f8770444456862521e126a38ac7",
            "636550890a2b400b8d7aa2b7f99c6c83",
            "dce55911eb294e509806b9808a94ad7f",
            "06a86d8313d24db6aba7593a39f7f4ad",
            "bbc3f225117e40db9340fb189a8feee4",
            "1577464d9e8c4e11bc4c64c6085dc094",
            "ed7a7364b13649e5882109287667fc36",
            "edbdad38660f4523a540d7f3c29b5ed8",
            "893c90f694984dc0ab0a5e2b87b518fd",
            "caabc40a95944007b01ce07bd5acede6",
            "9a7b5544817f412f86969d01d2ba7576",
            "9071aff8170d4b90af6ae6fb10864d0e",
            "2e23b9112ca44e8e81f699fed83c1c7e",
            "15b47d1acd0f46e7922a0ad84a1ff65f",
            "5e3a103ba63348d7a7ba6c3727d92608",
            "3e412feb816f402b807d04a44db37d1c",
            "b943bb936663435a8656454f68d5dbcc",
            "88c2abf29e674084b39b3c5a18ca1a22",
            "676d064638f541ffa1938410c863d8d1",
            "33eb9761bdf94609912dc5f50e67ec00",
            "5d969340b0c744978c5c17520fbf7ed3",
            "cefe426584514ec98f9c06f3cb24a86d",
            "70ac1c0fd4844862b38e73d672fd2a72",
            "8832b22e15c64c35985c5fd50ec4994e",
            "a2264a6130a94f9ea120d747b5901c5d",
            "834d162e27154b05ae033c6aa240fe86",
            "25b531dad5d945539dbdb172effaadd3",
            "a4196bd59d014bd5bc973a66b30a7b27",
            "85f48289aab84b2497f41712aa211e05",
            "5a318dbcffde468cab895002567e2452",
            "7ae2af46099c4406a96b4b9734ccc989",
            "00623b90f3324a43971e065e8518fc8e",
            "601c633270e049e5a9ed62d8c7eb0b60",
            "0966142a777544618aa71e84a72be72b",
            "48f0301a7d9849b3bd5b33cb836004c5",
            "a0e08b67ffa7413899a64dbbc13eb9f1",
            "27bbd84e14a448f48648c8c8f2428bbf",
            "52612672a82c49569bc83da4f217f1a2",
            "d0ab7911cb0c4336a5a575d81274bc53",
            "f97bbd4705d543a5bcaa6e0ba468dc33",
            "8ddff01333bf4fb18ae07b648dcca478",
            "1655a051c0864c5e9a544816a26e564a",
            "a81f114c8bc34c6890e9253291c1ba8d",
            "9bf83d218016438ca7d007a20392bb7a",
            "0e87f9bd283b42b680ba26825016c7ed",
            "6614e1aac5094decba4d129b2cc7f179",
            "36938267ebc6468293cd4f03e40800b0",
            "43a531eda93a4d0ea4c8a5c93686899a",
            "abc6b0c55cba46e3aa642abfadca593b",
            "795d4052b3bd4318a9afef10644ab108",
            "75161d45d7364e0e82d19bbff0fd2602",
            "6b8a0c25e44245dc9a8ac091e03b4f49",
            "d47d98a15e1b46678991491357b681ed",
            "72c53986787848aca88e7ae1f39bbb2a",
            "36861e31a9484ac7b6f7fc57eb3e3c22"
          ]
        },
        "id": "uHZ7tKiIZkme",
        "outputId": "329f6dd0-256d-4f7f-c9c3-ce803ff2f7c6"
      },
      "execution_count": null,
      "outputs": [
        {
          "output_type": "stream",
          "name": "stderr",
          "text": [
            "/usr/local/lib/python3.10/dist-packages/huggingface_hub/utils/_token.py:88: UserWarning: \n",
            "The secret `HF_TOKEN` does not exist in your Colab secrets.\n",
            "To authenticate with the Hugging Face Hub, create a token in your settings tab (https://huggingface.co/settings/tokens), set it as secret in your Google Colab and restart your session.\n",
            "You will be able to reuse this secret in all of your notebooks.\n",
            "Please note that authentication is recommended but still optional to access public models or datasets.\n",
            "  warnings.warn(\n"
          ]
        },
        {
          "output_type": "display_data",
          "data": {
            "text/plain": [
              "config.json:   0%|          | 0.00/570 [00:00<?, ?B/s]"
            ],
            "application/vnd.jupyter.widget-view+json": {
              "version_major": 2,
              "version_minor": 0,
              "model_id": "89cd73712313460185d1386cd9bb7cf0"
            }
          },
          "metadata": {}
        },
        {
          "output_type": "display_data",
          "data": {
            "text/plain": [
              "model.safetensors:   0%|          | 0.00/436M [00:00<?, ?B/s]"
            ],
            "application/vnd.jupyter.widget-view+json": {
              "version_major": 2,
              "version_minor": 0,
              "model_id": "c3e97f8770444456862521e126a38ac7"
            }
          },
          "metadata": {}
        },
        {
          "output_type": "display_data",
          "data": {
            "text/plain": [
              "config.json:   0%|          | 0.00/625 [00:00<?, ?B/s]"
            ],
            "application/vnd.jupyter.widget-view+json": {
              "version_major": 2,
              "version_minor": 0,
              "model_id": "9071aff8170d4b90af6ae6fb10864d0e"
            }
          },
          "metadata": {}
        },
        {
          "output_type": "display_data",
          "data": {
            "text/plain": [
              "model.safetensors:   0%|          | 0.00/714M [00:00<?, ?B/s]"
            ],
            "application/vnd.jupyter.widget-view+json": {
              "version_major": 2,
              "version_minor": 0,
              "model_id": "70ac1c0fd4844862b38e73d672fd2a72"
            }
          },
          "metadata": {}
        },
        {
          "output_type": "display_data",
          "data": {
            "text/plain": [
              "config.json:   0%|          | 0.00/615 [00:00<?, ?B/s]"
            ],
            "application/vnd.jupyter.widget-view+json": {
              "version_major": 2,
              "version_minor": 0,
              "model_id": "0966142a777544618aa71e84a72be72b"
            }
          },
          "metadata": {}
        },
        {
          "output_type": "display_data",
          "data": {
            "text/plain": [
              "model.safetensors:   0%|          | 0.00/1.12G [00:00<?, ?B/s]"
            ],
            "application/vnd.jupyter.widget-view+json": {
              "version_major": 2,
              "version_minor": 0,
              "model_id": "0e87f9bd283b42b680ba26825016c7ed"
            }
          },
          "metadata": {}
        },
        {
          "output_type": "execute_result",
          "data": {
            "text/plain": [
              "<tensorflow.python.checkpoint.checkpoint.CheckpointLoadStatus at 0x79099197c730>"
            ]
          },
          "metadata": {},
          "execution_count": 10
        }
      ]
    },
    {
      "cell_type": "code",
      "source": [
        "# bert_base_model.evaluate(bert_base_test_inputs,\n",
        "#                             [test_level_labels, test_salary_labels])"
      ],
      "metadata": {
        "id": "XRN0WALlOw9C"
      },
      "execution_count": null,
      "outputs": []
    },
    {
      "cell_type": "code",
      "source": [
        "# bert_multilingual_model.evaluate(bert_multilingual_test_inputs,\n",
        "#                             [test_level_labels, test_salary_labels])"
      ],
      "metadata": {
        "id": "FyG6vXhvjQOU"
      },
      "execution_count": null,
      "outputs": []
    },
    {
      "cell_type": "code",
      "source": [
        "# xlm_roberta_model.evaluate(xlm_roberta_test_inputs,\n",
        "#                             [test_level_labels, test_salary_labels])"
      ],
      "metadata": {
        "id": "GEtcNqKhipIR"
      },
      "execution_count": null,
      "outputs": []
    },
    {
      "cell_type": "code",
      "source": [],
      "metadata": {
        "id": "nRxvuxtmio7g"
      },
      "execution_count": null,
      "outputs": []
    },
    {
      "cell_type": "code",
      "source": [
        "#set target level names and target salary names\n",
        "target_names = [\"student_intern\", \"entry\", \"junior\", \"mid\", \"senior\", \"executive\",\"unknown\"]\n",
        "target_salary_names = [\"<45k\",\n",
        "    \"45-60k\",\n",
        "    \"65-85k\",\n",
        "    \"85-110k\",\n",
        "    \"110-150k\",\n",
        "    \"150-200k\",\n",
        "    \">200k\",\n",
        "    \"unknown\"]\n",
        "\n",
        "\n"
      ],
      "metadata": {
        "id": "q_xfjZ7FcJkJ"
      },
      "execution_count": null,
      "outputs": []
    },
    {
      "cell_type": "code",
      "source": [
        "predictions_bert_base = bert_base_model.predict(bert_base_test_inputs)\n",
        "predictions_bert_multilingual = bert_multilingual_model.predict(bert_multilingual_test_inputs)\n",
        "predictions_xlm_roberta = xlm_roberta_model.predict(xlm_roberta_test_inputs)\n",
        "\n",
        "\n"
      ],
      "metadata": {
        "id": "yc2FaLXgbckV",
        "colab": {
          "base_uri": "https://localhost:8080/"
        },
        "outputId": "e1544c8f-b117-4439-b12e-7cc3d2831ab4"
      },
      "execution_count": null,
      "outputs": [
        {
          "output_type": "stream",
          "name": "stdout",
          "text": [
            "440/440 [==============================] - 177s 390ms/step\n",
            "440/440 [==============================] - 176s 394ms/step\n",
            "440/440 [==============================] - 173s 386ms/step\n"
          ]
        }
      ]
    },
    {
      "cell_type": "code",
      "source": [
        "level_predictions_bert_base = tf.argmax(predictions_bert_base[0], axis=-1)\n",
        "salary_predictions_bert_base = tf.argmax(predictions_bert_base[1], axis=-1)\n",
        "\n",
        "level_predictions_bert_multilingual = tf.argmax(predictions_bert_multilingual[0], axis=-1)\n",
        "salary_predictions_bert_multilingual = tf.argmax(predictions_bert_multilingual[1], axis=-1)\n",
        "\n",
        "level_predictions_xlm_roberta = tf.argmax(predictions_xlm_roberta[0], axis=-1)\n",
        "salary_predictions_xlm_roberta = tf.argmax(predictions_xlm_roberta[1], axis=-1)\n"
      ],
      "metadata": {
        "id": "Fo5x6H5Zja6y"
      },
      "execution_count": null,
      "outputs": []
    },
    {
      "cell_type": "code",
      "source": [
        "test_level_labels = test_level_labels.apply(lambda x: 6 if x == -1 else x)\n"
      ],
      "metadata": {
        "id": "Wa1eixA_Td0A"
      },
      "execution_count": null,
      "outputs": []
    },
    {
      "cell_type": "code",
      "source": [
        "# bert base levels confusion matrix\n",
        "cm = tf.math.confusion_matrix(test_level_labels, level_predictions_bert_base)\n",
        "cm = cm/cm.numpy().sum(axis=1)[:, tf.newaxis]"
      ],
      "metadata": {
        "id": "8pdO8vjNbSn-"
      },
      "execution_count": null,
      "outputs": []
    },
    {
      "cell_type": "code",
      "source": [
        "plt.figure(figsize=(20,7))\n",
        "sns.heatmap(\n",
        "    cm, annot=True,\n",
        "    xticklabels=target_names,\n",
        "    yticklabels=target_names)\n",
        "plt.xlabel(\"Predicted\")\n",
        "plt.ylabel(\"True\")\n",
        "plt.title(\"Model 1: BERT Base - Level\")"
      ],
      "metadata": {
        "id": "FB4OaxMjBhAt",
        "colab": {
          "base_uri": "https://localhost:8080/",
          "height": 658
        },
        "outputId": "9320bd5a-5b5b-4c54-d1b6-ac109c481042"
      },
      "execution_count": null,
      "outputs": [
        {
          "output_type": "execute_result",
          "data": {
            "text/plain": [
              "Text(0.5, 1.0, 'Model 1: BERT Base - Level')"
            ]
          },
          "metadata": {},
          "execution_count": 19
        },
        {
          "output_type": "display_data",
          "data": {
            "text/plain": [
              "<Figure size 2000x700 with 2 Axes>"
            ],
            "image/png": "[encoded data removed]"
          },
          "metadata": {}
        }
      ]
    },
    {
      "cell_type": "code",
      "source": [
        "test_salary_labels = test_salary_labels.apply(lambda x: 7 if x == -1 else x)"
      ],
      "metadata": {
        "id": "1O6NzDwkBg8r"
      },
      "execution_count": null,
      "outputs": []
    },
    {
      "cell_type": "code",
      "source": [
        "cm = tf.math.confusion_matrix(test_salary_labels, salary_predictions_bert_base)\n",
        "cm = cm/cm.numpy().sum(axis=1)[:, tf.newaxis]"
      ],
      "metadata": {
        "id": "krgvQ5w0Bg4d"
      },
      "execution_count": null,
      "outputs": []
    },
    {
      "cell_type": "code",
      "source": [
        "plt.figure(figsize=(20,7))\n",
        "sns.heatmap(\n",
        "    cm, annot=True,\n",
        "    xticklabels=target_salary_names,\n",
        "    yticklabels=target_salary_names)\n",
        "plt.xlabel(\"Predicted\")\n",
        "plt.ylabel(\"True\")\n",
        "plt.title(\"Model 1: BERT Base - Salary\")"
      ],
      "metadata": {
        "id": "9r-2B5OGBgze",
        "colab": {
          "base_uri": "https://localhost:8080/",
          "height": 658
        },
        "outputId": "0ccf6c16-e32c-49e2-ac3c-e343fa1dca84"
      },
      "execution_count": null,
      "outputs": [
        {
          "output_type": "execute_result",
          "data": {
            "text/plain": [
              "Text(0.5, 1.0, 'Model 1: BERT Base - Salary')"
            ]
          },
          "metadata": {},
          "execution_count": 22
        },
        {
          "output_type": "display_data",
          "data": {
            "text/plain": [
              "<Figure size 2000x700 with 2 Axes>"
            ],
            "image/png": "[encoded data removed]"
          },
          "metadata": {}
        }
      ]
    },
    {
      "cell_type": "code",
      "source": [
        "# calculate adjusted salary accuracy for bert base\n",
        "print(\"Model 1: Bert Base Salary Accuracy\")\n",
        "no_label_salary_percent = sum(test_salary_labels == 7)/len(test_salary_labels)\n",
        "correct_salary_percent = sum(test_salary_labels == salary_predictions_bert_base.numpy())/len(test_salary_labels)\n",
        "incorrect_salary_percent = 1 - correct_salary_percent\n",
        "print(\"% Salary inputs with no label:\",no_label_salary_percent)\n",
        "print(\"% Salary predictions correct:\",correct_salary_percent)\n",
        "print(\"% Salary predictions incorrect:\",incorrect_salary_percent)\n",
        "\n",
        "adjusted_salary_accuracy = correct_salary_percent / (correct_salary_percent + (incorrect_salary_percent - no_label_salary_percent))\n",
        "print(\"Adjusted Salary Accuracy:\",adjusted_salary_accuracy)"
      ],
      "metadata": {
        "colab": {
          "base_uri": "https://localhost:8080/"
        },
        "id": "a9U_0xWa6ir4",
        "outputId": "1295a98a-0316-451d-b9ff-edc82dde1761"
      },
      "execution_count": null,
      "outputs": [
        {
          "output_type": "stream",
          "name": "stdout",
          "text": [
            "Model 1: Bert Base Salary Accuracy\n",
            "% Salary inputs with no label: 0.8369480196259689\n",
            "% Salary predictions correct: 0.08746355685131195\n",
            "% Salary predictions incorrect: 0.9125364431486881\n",
            "Adjusted Salary Accuracy: 0.5364151766245092\n"
          ]
        }
      ]
    },
    {
      "cell_type": "code",
      "source": [
        "# calculate adjusted level accuracy for bert base\n",
        "print(\"Model 1: Bert Base Level Accuracy\")\n",
        "\n",
        "no_label_level_percent = sum(test_level_labels == 6)/len(test_level_labels)\n",
        "correct_level_percent = sum(test_level_labels == level_predictions_bert_base.numpy())/len(test_level_labels)\n",
        "incorrect_level_percent = 1 - correct_level_percent\n",
        "print(\"% Level inputs with no label:\",no_label_level_percent)\n",
        "print(\"% Level predictions correct:\",correct_level_percent)\n",
        "print(\"% Level predictions incorrect:\",incorrect_level_percent)\n",
        "\n",
        "adjusted_level_accuracy = correct_level_percent / (correct_level_percent + (incorrect_level_percent - no_label_level_percent))\n",
        "print(\"Adjusted Level Accuracy:\",adjusted_level_accuracy)"
      ],
      "metadata": {
        "colab": {
          "base_uri": "https://localhost:8080/"
        },
        "id": "_Udyn8Ia9kX_",
        "outputId": "fdae9f71-25c0-4fee-e385-c42023d7d2ee"
      },
      "execution_count": null,
      "outputs": [
        {
          "output_type": "stream",
          "name": "stdout",
          "text": [
            "Model 1: Bert Base Level Accuracy\n",
            "% Level inputs with no label: 0.12522221432126857\n",
            "% Level predictions correct: 0.5746995662376448\n",
            "% Level predictions incorrect: 0.42530043376235516\n",
            "Adjusted Level Accuracy: 0.6569663469354576\n"
          ]
        }
      ]
    },
    {
      "cell_type": "code",
      "source": [],
      "metadata": {
        "id": "tNH6IAz79qb0"
      },
      "execution_count": null,
      "outputs": []
    },
    {
      "cell_type": "code",
      "source": [
        "# bert multilingual levels confusion matrix\n",
        "cm = tf.math.confusion_matrix(test_level_labels, level_predictions_bert_multilingual)\n",
        "cm = cm/cm.numpy().sum(axis=1)[:, tf.newaxis]\n",
        "\n",
        "plt.figure(figsize=(20,7))\n",
        "sns.heatmap(\n",
        "    cm, annot=True,\n",
        "    xticklabels=target_names,\n",
        "    yticklabels=target_names)\n",
        "plt.xlabel(\"Predicted\")\n",
        "plt.ylabel(\"True\")\n",
        "plt.title(\"Model 1: BERT Multilingual - Level\")"
      ],
      "metadata": {
        "colab": {
          "base_uri": "https://localhost:8080/",
          "height": 658
        },
        "id": "jiIcB4B4em-8",
        "outputId": "d64fe0c1-bdcb-4806-8fba-68c755b83910"
      },
      "execution_count": null,
      "outputs": [
        {
          "output_type": "execute_result",
          "data": {
            "text/plain": [
              "Text(0.5, 1.0, 'Model 1: BERT Multilingual - Level')"
            ]
          },
          "metadata": {},
          "execution_count": 25
        },
        {
          "output_type": "display_data",
          "data": {
            "text/plain": [
              "<Figure size 2000x700 with 2 Axes>"
            ],
            "image/png": "[encoded data removed]"
          },
          "metadata": {}
        }
      ]
    },
    {
      "cell_type": "code",
      "source": [
        "cm = tf.math.confusion_matrix(test_salary_labels, salary_predictions_bert_multilingual)\n",
        "cm = cm/cm.numpy().sum(axis=1)[:, tf.newaxis]\n",
        "\n",
        "plt.figure(figsize=(20,7))\n",
        "sns.heatmap(\n",
        "    cm, annot=True,\n",
        "    xticklabels=target_salary_names,\n",
        "    yticklabels=target_salary_names)\n",
        "plt.xlabel(\"Predicted\")\n",
        "plt.ylabel(\"True\")\n",
        "plt.title(\"Model 1: BERT Multilingual - Salary\")"
      ],
      "metadata": {
        "colab": {
          "base_uri": "https://localhost:8080/",
          "height": 658
        },
        "id": "TeCB2ID9em7-",
        "outputId": "c9138415-21c0-4c7c-f3ee-cc81ddac6703"
      },
      "execution_count": null,
      "outputs": [
        {
          "output_type": "execute_result",
          "data": {
            "text/plain": [
              "Text(0.5, 1.0, 'Model 1: BERT Multilingual - Salary')"
            ]
          },
          "metadata": {},
          "execution_count": 26
        },
        {
          "output_type": "display_data",
          "data": {
            "text/plain": [
              "<Figure size 2000x700 with 2 Axes>"
            ],
            "image/png": "[encoded data removed]"
          },
          "metadata": {}
        }
      ]
    },
    {
      "cell_type": "code",
      "source": [
        "# calculate adjusted salary accuracy for bert multilingual\n",
        "print(\"Model 1: Bert Multilingual Salary Accuracy\")\n",
        "no_label_salary_percent = sum(test_salary_labels == 7)/len(test_salary_labels)\n",
        "correct_salary_percent = sum(test_salary_labels == salary_predictions_bert_multilingual.numpy())/len(test_salary_labels)\n",
        "incorrect_salary_percent = 1 - correct_salary_percent\n",
        "print(\"% Salary inputs with no label:\",no_label_salary_percent)\n",
        "print(\"% Salary predictions correct:\",correct_salary_percent)\n",
        "print(\"% Salary predictions incorrect:\",incorrect_salary_percent)\n",
        "\n",
        "adjusted_salary_accuracy = correct_salary_percent / (correct_salary_percent + (incorrect_salary_percent - no_label_salary_percent))\n",
        "print(\"Adjusted Salary Accuracy:\",adjusted_salary_accuracy)"
      ],
      "metadata": {
        "colab": {
          "base_uri": "https://localhost:8080/"
        },
        "id": "RWiOW4MHem4v",
        "outputId": "64cbc9fa-efb4-4c12-bb55-3f1c64ecb751"
      },
      "execution_count": null,
      "outputs": [
        {
          "output_type": "stream",
          "name": "stdout",
          "text": [
            "Model 1: Bert Multilingual Salary Accuracy\n",
            "% Salary inputs with no label: 0.8369480196259689\n",
            "% Salary predictions correct: 0.07011306264666145\n",
            "% Salary predictions incorrect: 0.9298869373533385\n",
            "Adjusted Salary Accuracy: 0.43000436109899715\n"
          ]
        }
      ]
    },
    {
      "cell_type": "code",
      "source": [
        "# calculate adjusted level accuracy for bert multilingual\n",
        "print(\"Model 1: Bert Multilingual Level Accuracy\")\n",
        "\n",
        "no_label_level_percent = sum(test_level_labels == 6)/len(test_level_labels)\n",
        "correct_level_percent = sum(test_level_labels == level_predictions_bert_multilingual.numpy())/len(test_level_labels)\n",
        "incorrect_level_percent = 1 - correct_level_percent\n",
        "print(\"% Level inputs with no label:\",no_label_level_percent)\n",
        "print(\"% Level predictions correct:\",correct_level_percent)\n",
        "print(\"% Level predictions incorrect:\",incorrect_level_percent)\n",
        "\n",
        "adjusted_level_accuracy = correct_level_percent / (correct_level_percent + (incorrect_level_percent - no_label_level_percent))\n",
        "print(\"Adjusted Level Accuracy:\",adjusted_level_accuracy)"
      ],
      "metadata": {
        "colab": {
          "base_uri": "https://localhost:8080/"
        },
        "id": "Tyet3cImem1v",
        "outputId": "b35cb881-4d05-4f1b-e13a-ce4dae639ca6"
      },
      "execution_count": null,
      "outputs": [
        {
          "output_type": "stream",
          "name": "stdout",
          "text": [
            "Model 1: Bert Multilingual Level Accuracy\n",
            "% Level inputs with no label: 0.12522221432126857\n",
            "% Level predictions correct: 0.5273412500888858\n",
            "% Level predictions incorrect: 0.47265874991111423\n",
            "Adjusted Level Accuracy: 0.6028288083238498\n"
          ]
        }
      ]
    },
    {
      "cell_type": "code",
      "source": [],
      "metadata": {
        "id": "kfuGU-1Temwp"
      },
      "execution_count": null,
      "outputs": []
    },
    {
      "cell_type": "code",
      "source": [
        "# xlm-roberta levels confusion matrix\n",
        "cm = tf.math.confusion_matrix(test_level_labels, level_predictions_xlm_roberta)\n",
        "cm = cm/cm.numpy().sum(axis=1)[:, tf.newaxis]\n",
        "\n",
        "plt.figure(figsize=(20,7))\n",
        "sns.heatmap(\n",
        "    cm, annot=True,\n",
        "    xticklabels=target_names,\n",
        "    yticklabels=target_names)\n",
        "plt.xlabel(\"Predicted\")\n",
        "plt.ylabel(\"True\")\n",
        "plt.title(\"Model 1: xlm-roberta - Level\")"
      ],
      "metadata": {
        "colab": {
          "base_uri": "https://localhost:8080/",
          "height": 658
        },
        "id": "zH3fh7vZfg0F",
        "outputId": "782a53f1-bc37-4e09-842a-87ff48b72305"
      },
      "execution_count": null,
      "outputs": [
        {
          "output_type": "execute_result",
          "data": {
            "text/plain": [
              "Text(0.5, 1.0, 'Model 1: xlm-roberta - Level')"
            ]
          },
          "metadata": {},
          "execution_count": 29
        },
        {
          "output_type": "display_data",
          "data": {
            "text/plain": [
              "<Figure size 2000x700 with 2 Axes>"
            ],
            "image/png": "[encoded data removed]"
          },
          "metadata": {}
        }
      ]
    },
    {
      "cell_type": "code",
      "source": [
        "cm = tf.math.confusion_matrix(test_salary_labels, salary_predictions_xlm_roberta)\n",
        "cm = cm/cm.numpy().sum(axis=1)[:, tf.newaxis]\n",
        "\n",
        "plt.figure(figsize=(20,7))\n",
        "sns.heatmap(\n",
        "    cm, annot=True,\n",
        "    xticklabels=target_salary_names,\n",
        "    yticklabels=target_salary_names)\n",
        "plt.xlabel(\"Predicted\")\n",
        "plt.ylabel(\"True\")\n",
        "plt.title(\"Model 1: xlm-roberta - Salary\")"
      ],
      "metadata": {
        "colab": {
          "base_uri": "https://localhost:8080/",
          "height": 658
        },
        "id": "Cjillqp6fgvz",
        "outputId": "380fcf00-bcbd-4a4e-8d4b-d6b72f993446"
      },
      "execution_count": null,
      "outputs": [
        {
          "output_type": "execute_result",
          "data": {
            "text/plain": [
              "Text(0.5, 1.0, 'Model 1: xlm-roberta - Salary')"
            ]
          },
          "metadata": {},
          "execution_count": 30
        },
        {
          "output_type": "display_data",
          "data": {
            "text/plain": [
              "<Figure size 2000x700 with 2 Axes>"
            ],
            "image/png": "[encoded data removed]"
          },
          "metadata": {}
        }
      ]
    },
    {
      "cell_type": "code",
      "source": [
        "# calculate adjusted salary accuracy for xlm-roberta\n",
        "print(\"Model 1: xlm-roberta Salary Accuracy\")\n",
        "no_label_salary_percent = sum(test_salary_labels == 7)/len(test_salary_labels)\n",
        "correct_salary_percent = sum(test_salary_labels == salary_predictions_xlm_roberta.numpy())/len(test_salary_labels)\n",
        "incorrect_salary_percent = 1 - correct_salary_percent\n",
        "print(\"% Salary inputs with no label:\",no_label_salary_percent)\n",
        "print(\"% Salary predictions correct:\",correct_salary_percent)\n",
        "print(\"% Salary predictions incorrect:\",incorrect_salary_percent)\n",
        "\n",
        "adjusted_salary_accuracy = correct_salary_percent / (correct_salary_percent + (incorrect_salary_percent - no_label_salary_percent))\n",
        "print(\"Adjusted Salary Accuracy:\",adjusted_salary_accuracy)"
      ],
      "metadata": {
        "colab": {
          "base_uri": "https://localhost:8080/"
        },
        "id": "U7zjJ1bsfgqY",
        "outputId": "25a7a6c1-7a55-44fd-b2bf-dd2778db3d12"
      },
      "execution_count": null,
      "outputs": [
        {
          "output_type": "stream",
          "name": "stdout",
          "text": [
            "Model 1: xlm-roberta Salary Accuracy\n",
            "% Salary inputs with no label: 0.8369480196259689\n",
            "% Salary predictions correct: 0.03576761715139017\n",
            "% Salary predictions incorrect: 0.9642323828486098\n",
            "Adjusted Salary Accuracy: 0.21936327954644577\n"
          ]
        }
      ]
    },
    {
      "cell_type": "code",
      "source": [
        "# calculate adjusted level accuracy for xlm-roberta\n",
        "print(\"Model 1: xlm-roberta Level Accuracy\")\n",
        "\n",
        "no_label_level_percent = sum(test_level_labels == 6)/len(test_level_labels)\n",
        "correct_level_percent = sum(test_level_labels == level_predictions_xlm_roberta.numpy())/len(test_level_labels)\n",
        "incorrect_level_percent = 1 - correct_level_percent\n",
        "print(\"% Level inputs with no label:\",no_label_level_percent)\n",
        "print(\"% Level predictions correct:\",correct_level_percent)\n",
        "print(\"% Level predictions incorrect:\",incorrect_level_percent)\n",
        "\n",
        "adjusted_level_accuracy = correct_level_percent / (correct_level_percent + (incorrect_level_percent - no_label_level_percent))\n",
        "print(\"Adjusted Level Accuracy:\",adjusted_level_accuracy)"
      ],
      "metadata": {
        "colab": {
          "base_uri": "https://localhost:8080/"
        },
        "id": "64tXU8onemuA",
        "outputId": "0f228dd0-e25a-45a9-cd88-4544298773a9"
      },
      "execution_count": null,
      "outputs": [
        {
          "output_type": "stream",
          "name": "stdout",
          "text": [
            "Model 1: xlm-roberta Level Accuracy\n",
            "% Level inputs with no label: 0.12522221432126857\n",
            "% Level predictions correct: 0.14157718836663585\n",
            "% Level predictions incorrect: 0.8584228116333641\n",
            "Adjusted Level Accuracy: 0.16184360266623316\n"
          ]
        }
      ]
    },
    {
      "cell_type": "code",
      "source": [
        "target_names = [\"student_intern\", \"entry\", \"junior\", \"mid\", \"senior\", \"executive\"]\n",
        "target_salary_names = [\"<45k\",\n",
        "    \"45-60k\",\n",
        "    \"65-85k\",\n",
        "    \"85-110k\",\n",
        "    \"110-150k\",\n",
        "    \"150-200k\",\n",
        "    \">200k\"]"
      ],
      "metadata": {
        "id": "3IvbWBEZvf-4"
      },
      "execution_count": null,
      "outputs": []
    },
    {
      "cell_type": "code",
      "source": [
        "test_salary_analysis_df = pd.DataFrame(test_salary_labels)\n",
        "test_salary_analysis_df.columns = [\"test_salary\"]\n",
        "test_salary_analysis_df[\"salary_predictions_bert_base\"] = salary_predictions_bert_base\n",
        "test_salary_analysis_df[\"salary_predictions_bert_multilingual\"] = salary_predictions_bert_multilingual\n",
        "test_salary_analysis_df = test_salary_analysis_df[test_salary_analysis_df[\"test_salary\"] != 7]"
      ],
      "metadata": {
        "id": "DfaSddNMvMsO"
      },
      "execution_count": null,
      "outputs": []
    },
    {
      "cell_type": "code",
      "source": [
        "test_level_analysis_df = pd.DataFrame(test_level_labels)\n",
        "test_level_analysis_df.columns = [\"test_level\"]\n",
        "test_level_analysis_df[\"level_predictions_bert_base\"] = level_predictions_bert_base\n",
        "test_level_analysis_df[\"level_predictions_bert_multilingual\"] = level_predictions_bert_multilingual\n",
        "test_level_analysis_df = test_level_analysis_df[test_level_analysis_df[\"test_level\"] != 6]"
      ],
      "metadata": {
        "id": "ZqAt-la1vVk2"
      },
      "execution_count": null,
      "outputs": []
    },
    {
      "cell_type": "code",
      "source": [
        "from sklearn.metrics import classification_report"
      ],
      "metadata": {
        "id": "TB2CSOmExhAw"
      },
      "execution_count": null,
      "outputs": []
    },
    {
      "cell_type": "code",
      "source": [
        "print('Model 1: BERT Base - Level Classification Metrics')\n",
        "print(classification_report(test_level_analysis_df['test_level'], test_level_analysis_df['level_predictions_bert_base'], target_names=target_names))\n",
        "\n",
        "print('')\n",
        "print('-'*20)\n",
        "print('')\n",
        "\n",
        "print('Model 1: BERT Base - Salary Classification Metrics')\n",
        "print(classification_report(test_salary_analysis_df['test_salary'], test_salary_analysis_df['salary_predictions_bert_base'], target_names=target_salary_names))\n",
        "\n",
        "print('')\n",
        "print('='*20)\n",
        "print('')\n",
        "\n",
        "print('Model 1: BERT Multilingual - Level Classification Metrics')\n",
        "print(classification_report(test_level_analysis_df['test_level'], test_level_analysis_df['level_predictions_bert_multilingual'], target_names=target_names))\n",
        "\n",
        "print('')\n",
        "print('-'*20)\n",
        "print('')\n",
        "\n",
        "print('Model 1: BERT Multilingual- Salary Classification Metrics')\n",
        "print(classification_report(test_salary_analysis_df['test_salary'], test_salary_analysis_df['salary_predictions_bert_multilingual'], target_names=target_salary_names))\n",
        "\n"
      ],
      "metadata": {
        "id": "An83xgWyhnig",
        "colab": {
          "base_uri": "https://localhost:8080/"
        },
        "outputId": "372133ff-3e5c-46ac-88be-bc9e77d07028"
      },
      "execution_count": null,
      "outputs": [
        {
          "output_type": "stream",
          "name": "stdout",
          "text": [
            "Model 1: BERT Base - Level Classification Metrics\n",
            "                precision    recall  f1-score   support\n",
            "\n",
            "student_intern       0.72      0.94      0.81       743\n",
            "         entry       0.64      0.78      0.70      1991\n",
            "        junior       0.58      0.79      0.67      1450\n",
            "           mid       0.52      0.88      0.65      1989\n",
            "        senior       0.91      0.46      0.62      5855\n",
            "     executive       0.38      0.74      0.50       274\n",
            "\n",
            "      accuracy                           0.66     12302\n",
            "     macro avg       0.62      0.77      0.66     12302\n",
            "  weighted avg       0.74      0.66      0.65     12302\n",
            "\n",
            "\n",
            "--------------------\n",
            "\n",
            "Model 1: BERT Base - Salary Classification Metrics\n",
            "              precision    recall  f1-score   support\n",
            "\n",
            "        <45k       0.88      0.67      0.76       578\n",
            "      45-60k       0.55      0.54      0.54       543\n",
            "      65-85k       0.56      0.51      0.54       503\n",
            "     85-110k       0.34      0.49      0.40       289\n",
            "    110-150k       0.45      0.34      0.39       209\n",
            "    150-200k       0.27      0.35      0.30        83\n",
            "       >200k       0.30      0.60      0.40        88\n",
            "\n",
            "    accuracy                           0.54      2293\n",
            "   macro avg       0.48      0.50      0.48      2293\n",
            "weighted avg       0.58      0.54      0.55      2293\n",
            "\n",
            "\n",
            "====================\n",
            "\n",
            "Model 1: BERT Multilingual - Level Classification Metrics\n",
            "                precision    recall  f1-score   support\n",
            "\n",
            "student_intern       0.66      0.94      0.78       743\n",
            "         entry       0.62      0.71      0.66      1991\n",
            "        junior       0.62      0.72      0.67      1450\n",
            "           mid       0.46      0.84      0.60      1989\n",
            "        senior       0.86      0.40      0.55      5855\n",
            "     executive       0.23      0.80      0.36       274\n",
            "\n",
            "      accuracy                           0.60     12302\n",
            "     macro avg       0.58      0.74      0.60     12302\n",
            "  weighted avg       0.70      0.60      0.60     12302\n",
            "\n",
            "\n",
            "--------------------\n",
            "\n",
            "Model 1: BERT Multilingual- Salary Classification Metrics\n",
            "              precision    recall  f1-score   support\n",
            "\n",
            "        <45k       0.80      0.58      0.67       578\n",
            "      45-60k       0.50      0.37      0.43       543\n",
            "      65-85k       0.43      0.52      0.47       503\n",
            "     85-110k       0.29      0.32      0.30       289\n",
            "    110-150k       0.26      0.09      0.13       209\n",
            "    150-200k       0.13      0.52      0.21        83\n",
            "       >200k       0.25      0.43      0.32        88\n",
            "\n",
            "    accuracy                           0.43      2293\n",
            "   macro avg       0.38      0.40      0.36      2293\n",
            "weighted avg       0.49      0.43      0.44      2293\n",
            "\n"
          ]
        }
      ]
    },
    {
      "cell_type": "code",
      "source": [],
      "metadata": {
        "id": "M910lt8Zhne7"
      },
      "execution_count": null,
      "outputs": []
    },
    {
      "cell_type": "code",
      "source": [
        "# bert_base_train_inputs[0].numpy()\n",
        "\n",
        "# token_lengths = []\n",
        "# for i in bert_base_train_inputs[0].numpy():\n",
        "#     num_tokens = sum(i != 0)\n",
        "#     token_lengths.append(num_tokens)\n",
        "# max_tokens = max(token_lengths)\n",
        "# print(max_tokens)\n",
        "# plt.hist(token_lengths)"
      ],
      "metadata": {
        "id": "_HbvJUexAQV1"
      },
      "execution_count": null,
      "outputs": []
    },
    {
      "cell_type": "markdown",
      "source": [
        "Correct = 8/100\n",
        "N/A = 60/100\n",
        "\n",
        "Incorrect = 32/100 = 92 - 60 / 100\n",
        "\n",
        "New Accuracy = 8 / 8+32 = 20/100 = 20%"
      ],
      "metadata": {
        "id": "QguTeVda7UtJ"
      }
    },
    {
      "cell_type": "markdown",
      "source": [
        "For bucket adjustment, go to 50k buckets.\n",
        "<50k, 50-100, 100-150, 150-200, 200+\n",
        "\n",
        "Hyperparameters:\n",
        "number levels remain the same\n",
        "number salary goes from 8 -> 6\n",
        "\n",
        "Look at ways to reduce compute (reduce max tokens? - NO, many at 512 tokens)\n",
        "\n",
        "We considered another model that could use more tokens, but accuracy at 512 was decent at baseline, and we didn't want to incur the extra compute/time.\n",
        "\n",
        "Increase additional hidden layer to each of base, salary, level.  Widden hidden layers to 200\n",
        "\n",
        "try JobBERT"
      ],
      "metadata": {
        "id": "TsWEnIjN-US3"
      }
    }
  ]
}